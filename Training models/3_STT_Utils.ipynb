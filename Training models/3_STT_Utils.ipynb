{
 "cells": [
  {
   "cell_type": "code",
   "execution_count": 1,
   "id": "c129d748-9801-423d-b044-f7325f217b0f",
   "metadata": {},
   "outputs": [
    {
     "name": "stdout",
     "output_type": "stream",
     "text": [
      "Requirement already satisfied: sounddevice in c:\\programdata\\anaconda3\\lib\\site-packages (0.5.2)\n",
      "Requirement already satisfied: CFFI>=1.0 in c:\\programdata\\anaconda3\\lib\\site-packages (from sounddevice) (1.17.1)\n",
      "Requirement already satisfied: pycparser in c:\\programdata\\anaconda3\\lib\\site-packages (from CFFI>=1.0->sounddevice) (2.21)\n",
      "Note: you may need to restart the kernel to use updated packages.\n"
     ]
    }
   ],
   "source": [
    "pip install sounddevice\n"
   ]
  },
  {
   "cell_type": "code",
   "execution_count": 2,
   "id": "a03d998d-cd4a-43fb-b4e9-d9c88ce8d434",
   "metadata": {},
   "outputs": [
    {
     "name": "stdout",
     "output_type": "stream",
     "text": [
      "Collecting webrtcvad\n",
      "  Using cached webrtcvad-2.0.10.tar.gz (66 kB)\n",
      "  Preparing metadata (setup.py): started\n",
      "  Preparing metadata (setup.py): finished with status 'done'\n",
      "Building wheels for collected packages: webrtcvad\n",
      "  Building wheel for webrtcvad (setup.py): started\n",
      "  Building wheel for webrtcvad (setup.py): finished with status 'done'\n",
      "  Created wheel for webrtcvad: filename=webrtcvad-2.0.10-cp312-cp312-win_amd64.whl size=19103 sha256=ceb7c58b22eb318aecb5c243d27138d5fcfea3d5e8fe76bc03c95b4a5a62017b\n",
      "  Stored in directory: c:\\users\\leo_h\\appdata\\local\\pip\\cache\\wheels\\1e\\d3\\95\\680fa3b16848f1a58d2edaed34c496224c89a9bc63e17b3614\n",
      "Successfully built webrtcvad\n",
      "Installing collected packages: webrtcvad\n",
      "Successfully installed webrtcvad-2.0.10\n",
      "Note: you may need to restart the kernel to use updated packages.\n"
     ]
    }
   ],
   "source": [
    "pip install webrtcvad\n"
   ]
  },
  {
   "cell_type": "code",
   "execution_count": 3,
   "id": "3af23a66-4bd6-44fe-a549-0bcab554b77d",
   "metadata": {},
   "outputs": [
    {
     "name": "stdout",
     "output_type": "stream",
     "text": [
      "Requirement already satisfied: numpy in c:\\programdata\\anaconda3\\lib\\site-packages (1.26.4)\n",
      "Note: you may need to restart the kernel to use updated packages.\n"
     ]
    }
   ],
   "source": [
    "pip install numpy "
   ]
  },
  {
   "cell_type": "code",
   "execution_count": 4,
   "id": "660ac219-1065-44e0-a1a6-aa0ce419a4f5",
   "metadata": {},
   "outputs": [
    {
     "name": "stdout",
     "output_type": "stream",
     "text": [
      "Requirement already satisfied: openai-whisper in c:\\programdata\\anaconda3\\lib\\site-packages (20240930)\n",
      "Requirement already satisfied: numba in c:\\programdata\\anaconda3\\lib\\site-packages (from openai-whisper) (0.60.0)\n",
      "Requirement already satisfied: numpy in c:\\programdata\\anaconda3\\lib\\site-packages (from openai-whisper) (1.26.4)\n",
      "Requirement already satisfied: torch in c:\\programdata\\anaconda3\\lib\\site-packages (from openai-whisper) (2.7.0)\n",
      "Requirement already satisfied: tqdm in c:\\programdata\\anaconda3\\lib\\site-packages (from openai-whisper) (4.66.5)\n",
      "Requirement already satisfied: more-itertools in c:\\programdata\\anaconda3\\lib\\site-packages (from openai-whisper) (10.3.0)\n",
      "Requirement already satisfied: tiktoken in c:\\programdata\\anaconda3\\lib\\site-packages (from openai-whisper) (0.9.0)\n",
      "Requirement already satisfied: llvmlite<0.44,>=0.43.0dev0 in c:\\programdata\\anaconda3\\lib\\site-packages (from numba->openai-whisper) (0.43.0)\n",
      "Requirement already satisfied: regex>=2022.1.18 in c:\\programdata\\anaconda3\\lib\\site-packages (from tiktoken->openai-whisper) (2024.9.11)\n",
      "Requirement already satisfied: requests>=2.26.0 in c:\\programdata\\anaconda3\\lib\\site-packages (from tiktoken->openai-whisper) (2.32.3)\n",
      "Requirement already satisfied: filelock in c:\\programdata\\anaconda3\\lib\\site-packages (from torch->openai-whisper) (3.13.1)\n",
      "Requirement already satisfied: typing-extensions>=4.10.0 in c:\\programdata\\anaconda3\\lib\\site-packages (from torch->openai-whisper) (4.11.0)\n",
      "Requirement already satisfied: sympy>=1.13.3 in c:\\programdata\\anaconda3\\lib\\site-packages (from torch->openai-whisper) (1.14.0)\n",
      "Requirement already satisfied: networkx in c:\\programdata\\anaconda3\\lib\\site-packages (from torch->openai-whisper) (3.3)\n",
      "Requirement already satisfied: jinja2 in c:\\programdata\\anaconda3\\lib\\site-packages (from torch->openai-whisper) (3.1.4)\n",
      "Requirement already satisfied: fsspec in c:\\programdata\\anaconda3\\lib\\site-packages (from torch->openai-whisper) (2024.6.1)\n",
      "Requirement already satisfied: setuptools in c:\\programdata\\anaconda3\\lib\\site-packages (from torch->openai-whisper) (75.1.0)\n",
      "Requirement already satisfied: colorama in c:\\programdata\\anaconda3\\lib\\site-packages (from tqdm->openai-whisper) (0.4.6)\n",
      "Requirement already satisfied: charset-normalizer<4,>=2 in c:\\programdata\\anaconda3\\lib\\site-packages (from requests>=2.26.0->tiktoken->openai-whisper) (3.3.2)\n",
      "Requirement already satisfied: idna<4,>=2.5 in c:\\programdata\\anaconda3\\lib\\site-packages (from requests>=2.26.0->tiktoken->openai-whisper) (3.7)\n",
      "Requirement already satisfied: urllib3<3,>=1.21.1 in c:\\programdata\\anaconda3\\lib\\site-packages (from requests>=2.26.0->tiktoken->openai-whisper) (2.2.3)\n",
      "Requirement already satisfied: certifi>=2017.4.17 in c:\\programdata\\anaconda3\\lib\\site-packages (from requests>=2.26.0->tiktoken->openai-whisper) (2025.4.26)\n",
      "Requirement already satisfied: mpmath<1.4,>=1.1.0 in c:\\programdata\\anaconda3\\lib\\site-packages (from sympy>=1.13.3->torch->openai-whisper) (1.3.0)\n",
      "Requirement already satisfied: MarkupSafe>=2.0 in c:\\programdata\\anaconda3\\lib\\site-packages (from jinja2->torch->openai-whisper) (2.1.3)\n",
      "Note: you may need to restart the kernel to use updated packages.\n"
     ]
    }
   ],
   "source": [
    "pip install -U openai-whisper"
   ]
  },
  {
   "cell_type": "code",
   "execution_count": 5,
   "id": "01765d3b-3152-44d0-af74-150421da5f55",
   "metadata": {},
   "outputs": [
    {
     "name": "stdout",
     "output_type": "stream",
     "text": [
      "Requirement already satisfied: webrtcvad in c:\\programdata\\anaconda3\\lib\\site-packages (2.0.10)\n",
      "Note: you may need to restart the kernel to use updated packages.\n"
     ]
    }
   ],
   "source": [
    "pip install webrtcvad"
   ]
  },
  {
   "cell_type": "code",
   "execution_count": 15,
   "id": "46b573e1",
   "metadata": {},
   "outputs": [],
   "source": [
    "import sounddevice as sd\n",
    "import numpy as np\n",
    "import webrtcvad\n",
    "import whisper\n",
    "import collections\n",
    "import struct\n",
    "import re\n",
    "\n",
    "SAMPLE_RATE = 16000\n",
    "FRAME_DURATION_MS = 30  # ms\n",
    "FRAME_SIZE = int(SAMPLE_RATE * FRAME_DURATION_MS / 1000)\n",
    "CHANNELS = 1\n",
    "VAD_AGGRESSIVENESS = 2  # 0–3: higher = more aggressive\n",
    "MAX_SILENCE_SECONDS = 1.0\n",
    "\n",
    "# === Load Whisper ===\n",
    "model = whisper.load_model(\"base\")\n",
    "\n",
    "# === Setup VAD ===\n",
    "vad = webrtcvad.Vad(VAD_AGGRESSIVENESS) \n",
    "\n"
   ]
  },
  {
   "cell_type": "code",
   "execution_count": 16,
   "id": "09b03d22",
   "metadata": {},
   "outputs": [],
   "source": [
    "GOODBYE_PATTERNS = [\n",
    "    r\"\\b(bye|goodbye|see you|exit|quit|farewell)\\b\",\n",
    "    r\"talk to you later\",\n",
    "    r\"that's all\",\n",
    "    r\"that's it\"\n",
    "]\n",
    "\n",
    "def float32_to_int16(audio):\n",
    "    return (audio * 32767).astype(np.int16)\n",
    "\n",
    "def is_speech(frame_bytes):\n",
    "    return vad.is_speech(frame_bytes, SAMPLE_RATE)\n",
    "\n",
    "def is_goodbye(text):\n",
    "    for pattern in GOODBYE_PATTERNS:\n",
    "        if re.search(pattern, text, re.IGNORECASE):\n",
    "            return True\n",
    "    return False\n",
    "\n",
    "def record_until_silence():\n",
    "    print(\"Listening...\")\n",
    "\n",
    "    buffer = []\n",
    "    silence_buffer = collections.deque(maxlen=int(MAX_SILENCE_SECONDS * 1000 / FRAME_DURATION_MS))\n",
    "    stream = sd.InputStream(samplerate=SAMPLE_RATE, channels=CHANNELS, dtype='float32', blocksize=FRAME_SIZE)\n",
    "\n",
    "    with stream:\n",
    "        while True:\n",
    "            audio_chunk, _ = stream.read(FRAME_SIZE)\n",
    "            audio_chunk = audio_chunk.flatten()\n",
    "            audio_int16 = float32_to_int16(audio_chunk)\n",
    "            frame_bytes = struct.pack(f\"{len(audio_int16)}h\", *audio_int16)\n",
    "\n",
    "            if is_speech(frame_bytes):\n",
    "                buffer.append(audio_chunk)\n",
    "                silence_buffer.clear()\n",
    "            else:\n",
    "                silence_buffer.append(audio_chunk)\n",
    "                if len(silence_buffer) == silence_buffer.maxlen and len(buffer) > 0:\n",
    "                    print(\"Silence detected, stopping...\")\n",
    "                    break\n",
    "\n",
    "    full_audio = np.concatenate(buffer)\n",
    "    return full_audio\n",
    "\n",
    "# === Conversation Loop ===\n",
    "def start_conversation():\n",
    "    print(\"Start speaking. Say 'goodbye' to end the conversation.\")\n",
    "    while True:\n",
    "        audio = record_until_silence()\n",
    "        if len(audio) == 0:\n",
    "            continue  # skip empty audio\n",
    "\n",
    "        print(\"Transcribing...\")\n",
    "        # Whisper expects audio in float32, 16kHz mono\n",
    "        result = model.transcribe(audio, fp16=False)\n",
    "        text = result.get(\"text\", \"\").strip()\n",
    "\n",
    "        print(f\"You said: {text}\")\n",
    "        if is_goodbye(text):\n",
    "            print(\"Goodbye detected. Ending conversation.\")\n",
    "            break\n",
    "\n"
   ]
  },
  {
   "cell_type": "code",
   "execution_count": 17,
   "id": "cf47f0e4",
   "metadata": {},
   "outputs": [
    {
     "name": "stdout",
     "output_type": "stream",
     "text": [
      "Start speaking. Say 'goodbye' to end the conversation.\n",
      "Listening...\n",
      "Silence detected, stopping...\n",
      "Transcribing...\n",
      "You said: I hope you enjoyed. Oh, I named this serpage. It was nice talking to you. That's it.\n",
      "Goodbye detected. Ending conversation.\n"
     ]
    }
   ],
   "source": [
    "start_conversation()"
   ]
  },
  {
   "cell_type": "code",
   "execution_count": null,
   "id": "f9ecadbb",
   "metadata": {},
   "outputs": [],
   "source": []
  }
 ],
 "metadata": {
  "kernelspec": {
   "display_name": "Python 3 (ipykernel)",
   "language": "python",
   "name": "python3"
  },
  "language_info": {
   "codemirror_mode": {
    "name": "ipython",
    "version": 3
   },
   "file_extension": ".py",
   "mimetype": "text/x-python",
   "name": "python",
   "nbconvert_exporter": "python",
   "pygments_lexer": "ipython3",
   "version": "3.12.7"
  }
 },
 "nbformat": 4,
 "nbformat_minor": 5
}
