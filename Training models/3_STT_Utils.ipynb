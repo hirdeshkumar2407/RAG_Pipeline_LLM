{
 "cells": [
  {
   "cell_type": "code",
   "execution_count": 1,
   "id": "46b573e1",
   "metadata": {},
   "outputs": [],
   "source": [
    "import sounddevice as sd\n",
    "import numpy as np\n",
    "import webrtcvad\n",
    "import whisper\n",
    "import collections\n",
    "import struct\n",
    "\n",
    "SAMPLE_RATE = 16000\n",
    "FRAME_DURATION_MS = 30  # ms\n",
    "FRAME_SIZE = int(SAMPLE_RATE * FRAME_DURATION_MS / 1000)\n",
    "CHANNELS = 1\n",
    "VAD_AGGRESSIVENESS = 2  # 0–3: higher = more aggressive\n",
    "MAX_SILENCE_SECONDS = 1.0\n",
    "\n",
    "# === Load Whisper ===\n",
    "model = whisper.load_model(\"base\")\n",
    "\n",
    "# === Setup VAD ===\n",
    "vad = webrtcvad.Vad(VAD_AGGRESSIVENESS) \n",
    "\n"
   ]
  },
  {
   "cell_type": "code",
   "execution_count": 2,
   "id": "09b03d22",
   "metadata": {},
   "outputs": [],
   "source": [
    "def float32_to_int16(audio):\n",
    "    return (audio * 32767).astype(np.int16)\n",
    "\n",
    "def is_speech(frame_bytes):\n",
    "    return vad.is_speech(frame_bytes, SAMPLE_RATE)\n",
    "\n",
    "# === Main function: record until silence ===\n",
    "def record_until_silence():\n",
    "    print(\"Listening...\")\n",
    "\n",
    "    buffer = []\n",
    "    silence_buffer = collections.deque(maxlen=int(MAX_SILENCE_SECONDS * 1000 / FRAME_DURATION_MS))\n",
    "    stream = sd.InputStream(samplerate=SAMPLE_RATE, channels=CHANNELS, dtype='float32', blocksize=FRAME_SIZE)\n",
    "    \n",
    "    with stream:\n",
    "        while True:\n",
    "            audio_chunk, _ = stream.read(FRAME_SIZE)\n",
    "            audio_chunk = audio_chunk.flatten()\n",
    "            audio_int16 = float32_to_int16(audio_chunk)\n",
    "            frame_bytes = struct.pack(f\"{len(audio_int16)}h\", *audio_int16)\n",
    "            \n",
    "            if is_speech(frame_bytes):\n",
    "                buffer.append(audio_chunk)\n",
    "                silence_buffer.clear()\n",
    "            else:\n",
    "                silence_buffer.append(audio_chunk)\n",
    "                if len(silence_buffer) == silence_buffer.maxlen and len(buffer) > 0:\n",
    "                    print(\"Silence detected, stopping...\")\n",
    "                    break\n",
    "\n",
    "    full_audio = np.concatenate(buffer)\n",
    "    return full_audio"
   ]
  },
  {
   "cell_type": "code",
   "execution_count": 3,
   "id": "cf47f0e4",
   "metadata": {},
   "outputs": [
    {
     "name": "stdout",
     "output_type": "stream",
     "text": [
      "Listening...\n",
      "Silence detected, stopping...\n",
      "You said:  This is a test, let me know when I stop.\n"
     ]
    }
   ],
   "source": [
    "audio_data = record_until_silence()\n",
    "result = model.transcribe(audio_data)\n",
    "print(\"You said:\", result[\"text\"])"
   ]
  },
  {
   "cell_type": "code",
   "execution_count": null,
   "id": "f9ecadbb",
   "metadata": {},
   "outputs": [],
   "source": []
  }
 ],
 "metadata": {
  "kernelspec": {
   "display_name": "py312",
   "language": "python",
   "name": "python3"
  },
  "language_info": {
   "codemirror_mode": {
    "name": "ipython",
    "version": 3
   },
   "file_extension": ".py",
   "mimetype": "text/x-python",
   "name": "python",
   "nbconvert_exporter": "python",
   "pygments_lexer": "ipython3",
   "version": "3.12.9"
  }
 },
 "nbformat": 4,
 "nbformat_minor": 5
}
