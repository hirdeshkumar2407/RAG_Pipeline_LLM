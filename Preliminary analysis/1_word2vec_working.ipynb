{
  "nbformat": 4,
  "nbformat_minor": 0,
  "metadata": {
    "colab": {
      "provenance": [],
      "authorship_tag": "ABX9TyNTwDql0lVC2JnV80VlGTMW",
      "include_colab_link": true
    },
    "kernelspec": {
      "name": "python3",
      "display_name": "Python 3"
    },
    "language_info": {
      "name": "python"
    }
  },
  "cells": [
    {
      "cell_type": "markdown",
      "metadata": {
        "id": "view-in-github",
        "colab_type": "text"
      },
      "source": [
        "<a href=\"https://colab.research.google.com/github/hirdeshkumar2407/NLP_Group_Assigment/blob/main/1_word2vec_working.ipynb\" target=\"_parent\"><img src=\"https://colab.research.google.com/assets/colab-badge.svg\" alt=\"Open In Colab\"/></a>"
      ]
    },
    {
      "cell_type": "markdown",
      "source": [
        "# Word2Vec: Initial Setup"
      ],
      "metadata": {
        "id": "1rpeJp0YmiJX"
      }
    },
    {
      "cell_type": "markdown",
      "source": [
        "## Imports and stuff here:"
      ],
      "metadata": {
        "id": "7szzS9_qmiHb"
      }
    },
    {
      "cell_type": "code",
      "source": [
        "!pip install --upgrade gensim\n"
      ],
      "metadata": {
        "colab": {
          "base_uri": "https://localhost:8080/"
        },
        "id": "F2rVmMyoAJTj",
        "outputId": "aee7c65f-895b-4d2a-f5f7-d54ecba2b47a"
      },
      "execution_count": 23,
      "outputs": [
        {
          "output_type": "stream",
          "name": "stdout",
          "text": [
            "Requirement already satisfied: gensim in /usr/local/lib/python3.11/dist-packages (4.3.3)\n",
            "Requirement already satisfied: numpy<2.0,>=1.18.5 in /usr/local/lib/python3.11/dist-packages (from gensim) (1.26.4)\n",
            "Requirement already satisfied: scipy<1.14.0,>=1.7.0 in /usr/local/lib/python3.11/dist-packages (from gensim) (1.13.1)\n",
            "Requirement already satisfied: smart-open>=1.8.1 in /usr/local/lib/python3.11/dist-packages (from gensim) (7.1.0)\n",
            "Requirement already satisfied: wrapt in /usr/local/lib/python3.11/dist-packages (from smart-open>=1.8.1->gensim) (1.17.2)\n"
          ]
        }
      ]
    },
    {
      "cell_type": "markdown",
      "source": [
        "**After running the \"!pip install --upgrade gensim\"\n",
        " above, you MUST restart the session from the runtime options and then run the cell below**"
      ],
      "metadata": {
        "id": "GeCnhZ8xBAho"
      }
    },
    {
      "cell_type": "code",
      "execution_count": 24,
      "metadata": {
        "colab": {
          "base_uri": "https://localhost:8080/"
        },
        "id": "YHDNpMYHlurP",
        "outputId": "6ce10fcc-e7a3-45e1-8644-19996eacd33a"
      },
      "outputs": [
        {
          "output_type": "stream",
          "name": "stderr",
          "text": [
            "[nltk_data] Downloading package punkt_tab to /root/nltk_data...\n",
            "[nltk_data]   Package punkt_tab is already up-to-date!\n"
          ]
        },
        {
          "output_type": "execute_result",
          "data": {
            "text/plain": [
              "True"
            ]
          },
          "metadata": {},
          "execution_count": 24
        }
      ],
      "source": [
        "# !pip install --upgrade gensim\n",
        "\n",
        "import gensim\n",
        "import re\n",
        "import nltk\n",
        "import string\n",
        "\n",
        "from gensim.models.word2vec import Word2Vec\n",
        "from nltk.tokenize import sent_tokenize, word_tokenize\n",
        "\n",
        "import nltk\n",
        "nltk.download('punkt_tab')"
      ]
    },
    {
      "cell_type": "markdown",
      "source": [
        "## Loading the data from huggingface"
      ],
      "metadata": {
        "id": "IzQQBrsvolCz"
      }
    },
    {
      "cell_type": "code",
      "source": [
        "import pandas as pd\n",
        "\n",
        "df = pd.read_json(\"hf://datasets/FreedomIntelligence/RAG-Instruct/rag_instruct.json\")\n",
        "\n",
        "print(f\"Total entries: {len(df)}\")\n",
        "df.info()\n"
      ],
      "metadata": {
        "colab": {
          "base_uri": "https://localhost:8080/"
        },
        "id": "Dt4IwnPmop8k",
        "outputId": "20177542-e558-49b2-b5f9-7e5536262cf7"
      },
      "execution_count": 25,
      "outputs": [
        {
          "output_type": "stream",
          "name": "stdout",
          "text": [
            "Total entries: 40541\n",
            "<class 'pandas.core.frame.DataFrame'>\n",
            "RangeIndex: 40541 entries, 0 to 40540\n",
            "Data columns (total 3 columns):\n",
            " #   Column     Non-Null Count  Dtype \n",
            "---  ------     --------------  ----- \n",
            " 0   question   40541 non-null  object\n",
            " 1   answer     40541 non-null  object\n",
            " 2   documents  40541 non-null  object\n",
            "dtypes: object(3)\n",
            "memory usage: 950.3+ KB\n"
          ]
        }
      ]
    },
    {
      "cell_type": "markdown",
      "source": [
        "## Word2vec Implementation"
      ],
      "metadata": {
        "id": "hTcC1vNppyim"
      }
    },
    {
      "cell_type": "code",
      "source": [
        "bulk_list = list(df[\"question\"]) + list(df[\"answer\"]) + list(df[\"documents\"])\n",
        "bulk_list = [subitem for item in bulk_list for subitem in (item if isinstance(item, list) else [item])]\n",
        "sentences = []\n",
        "for doc in bulk_list:\n",
        "    # Step 1: Split into sentences\n",
        "    if not doc:\n",
        "        continue\n",
        "    for sent in sent_tokenize(doc):\n",
        "        # Step 2: Tokenize into words\n",
        "        words = word_tokenize(sent)\n",
        "        # Step 3: Remove punctuation\n",
        "        words = [w for w in words if w not in string.punctuation]\n",
        "        if words:  # ignore empty sentences\n",
        "            sentences.append(words)\n",
        "\n"
      ],
      "metadata": {
        "id": "Fr6_uMEfp8XG"
      },
      "execution_count": 26,
      "outputs": []
    },
    {
      "cell_type": "code",
      "source": [
        "model = Word2Vec(sentences, vector_size=30, min_count=5, window=10)"
      ],
      "metadata": {
        "id": "9XVRwzpuqA2u"
      },
      "execution_count": 27,
      "outputs": []
    },
    {
      "cell_type": "code",
      "source": [
        "term = 'AMD'\n",
        "model.wv.most_similar(term)"
      ],
      "metadata": {
        "colab": {
          "base_uri": "https://localhost:8080/"
        },
        "id": "IWM6StyiqBl6",
        "outputId": "56cafaa5-bc0b-4658-d1ec-62f68a4cdac7"
      },
      "execution_count": 28,
      "outputs": [
        {
          "data": {
            "text/plain": [
              "[('Intel', 0.9741306304931641),\n",
              " ('Nvidia', 0.966727077960968),\n",
              " ('chipset', 0.9357510805130005),\n",
              " ('DEC', 0.9117414951324463),\n",
              " ('HP', 0.9105905294418335),\n",
              " ('ATI', 0.9085875749588013),\n",
              " ('ARM', 0.9019722938537598),\n",
              " ('IBM', 0.8989870548248291),\n",
              " ('GPU', 0.8948557376861572),\n",
              " ('Motorola', 0.8941123485565186)]"
            ]
          },
          "execution_count": 28,
          "metadata": {},
          "output_type": "execute_result"
        }
      ]
    },
    {
      "cell_type": "code",
      "source": [
        "term = 'trump'\n",
        "model.wv.most_similar(term)"
      ],
      "metadata": {
        "colab": {
          "base_uri": "https://localhost:8080/"
        },
        "id": "DfXZX8crJXik",
        "outputId": "2fedff5a-b21d-40b3-adab-9cbc321a853e"
      },
      "execution_count": 29,
      "outputs": [
        {
          "data": {
            "text/plain": [
              "[('five-card', 0.7952187657356262),\n",
              " ('dice', 0.7898284196853638),\n",
              " ('Players', 0.7889504432678223),\n",
              " ('doubles', 0.7811340689659119),\n",
              " ('tie', 0.7722302079200745),\n",
              " ('wins', 0.7710220813751221),\n",
              " ('contestant', 0.7673041820526123),\n",
              " ('ironing', 0.7644453644752502),\n",
              " ('contestants', 0.7329927086830139),\n",
              " ('Mickelson', 0.7321579456329346)]"
            ]
          },
          "execution_count": 29,
          "metadata": {},
          "output_type": "execute_result"
        }
      ]
    },
    {
      "cell_type": "code",
      "source": [
        "#the classic one also works, nice!\n",
        "vec = model.wv.get_vector('king') + (model.wv.get_vector('woman') - model.wv.get_vector('man'))\n",
        "model.wv.similar_by_vector(vec)"
      ],
      "metadata": {
        "colab": {
          "base_uri": "https://localhost:8080/"
        },
        "id": "r7mtMdiPqG01",
        "outputId": "f89b941b-9e88-4930-c80f-a4f36c996fbc"
      },
      "execution_count": 30,
      "outputs": [
        {
          "data": {
            "text/plain": [
              "[('king', 0.9438665509223938),\n",
              " ('emperor', 0.9332393407821655),\n",
              " ('throne', 0.9157471060752869),\n",
              " ('heir', 0.8885269165039062),\n",
              " ('prince', 0.8831648826599121),\n",
              " ('heirs', 0.8819757699966431),\n",
              " ('Emperor', 0.8783792853355408),\n",
              " ('bishop', 0.8683204054832458),\n",
              " ('duke', 0.8624470829963684),\n",
              " ('clan', 0.8594751358032227)]"
            ]
          },
          "execution_count": 30,
          "metadata": {},
          "output_type": "execute_result"
        }
      ]
    },
    {
      "cell_type": "markdown",
      "source": [
        "## Using t-SNE to visualize the results of the vectorizatin"
      ],
      "metadata": {
        "id": "L-gE1lXVHNvD"
      }
    },
    {
      "cell_type": "code",
      "source": [
        "import random\n",
        "\n",
        "sample = random.sample(list(model.wv.key_to_index), 500)\n",
        "print(sample)"
      ],
      "metadata": {
        "colab": {
          "base_uri": "https://localhost:8080/"
        },
        "id": "ezb-QxOvHKNF",
        "outputId": "ea37733c-f3ad-40df-8ed9-b993e57adc51"
      },
      "execution_count": 31,
      "outputs": [
        {
          "metadata": {
            "tags": null
          },
          "name": "stdout",
          "output_type": "stream",
          "text": [
            "['twinned', 'Columns', 'GeV', 'Schadenfreude', 'Volksoper', 'Corp.', 'Dimensionality', 'Nagpur', 'K-1', 'Camillus', 'Fido', 'alien', 'odham', '10-carbon', 'Fluoromar', 'invitation', 'Aldeburgh', 'SemBioSys', 'Messrs.', 'Spice', 'KIC', 'Oryx', 'Ei-ichi', 'extruding', 'Garson', 'Tariffs', 'Camp', 'Bucherer', 'Michaelmas', 'Jango', 'fenestration', '1707', 'ESI', 'Cosell', 'tri', 'BPT', 'Obregón', 'Wasps', 'repurchase', 'goal-line', 'All-Stars', 'Splendor', 'antibodies', 'highlife', 'Dore', 'они', 'data-driven', 'internetworking', 'interdisciplinarity', 'Amasa', 'fax', 'rosea', 'interlacing', 'Saracens', 'Disasters', 'Powered', 'Hamilton–Jacobi–Bellman', 'stockbroker', 'arbitrarily', 'debridement', 'formula_22-paradoxical', '1458', 'iambic', 'revitalizing', 'Thousand', 'eventuate', 'Lincoln', 'Reed', 'Physician', '11,800', 'pé', 'brisk', 'ng/ml', 'JJ', 'hindbrain', 'opponent', 'Sébastien', 'Shelagh', 'DSSCs', '23-page', 'Orocobix', 'Preachers', '522', '.properties', 'denominator', 'dithiol', 'outfit', 'eculizumab', 'на', '40-60', 'multi-hop', 'Møller', 'ridgetops', 'scrapers', 'extorted', 'Amines', 'tenacity', 'rem', 'Abduction', 'Coman', 'hydroids', 'saṃsāra', 'Fenmore', 'recesses', 'artists', 'Mid-Ulster', 'terebinthifolius', \"'temporale\", 'pear', 'excreting', 'GMO', 'lading', 'Hennepin', 'nanorobots', 'cowardice', 'eighteenth', 'Zhangjiang', 'baserunners', 'Flows', 'synch', 'sediment', 'Question', 'Rodrigues', 'employable', 'Rusty', 'Weichai', 'otolaryngology', 'Tatsu', 'Sanofi-Aventis', 'family-wise', 'piperidine', '381', 'tactics', 'PLTP', 'deemed', 'non-availability', 'Whorf', 'navel', 'NAUI', 'Klout', '-codice_62', 'Wilcke', 'amidships', 'BMP', 'Szacki', 'RON', 'sumptuary', 'Kapital', 'Keras', 'Acrylic', 'sternocleidomastoid', 'ReLUs', 'reconsidered', 'Volkswagen', 'Bris', 'Gerrit', '/p/', 'Marlin', '1890', 'binary-to-text', 'goblin', 'relapsing-remitting', 'PowerPC', 'Schwarz', 'Pforzheim', 'Prediction.io', 'sibutramine', 'incumbency', 'HIT', 'OriginalTable', 'distinctness', 'Shriners', 'Kenner', 'Launceston', 'Tā', 'Hoche', 'Adamson', 'LDH', 'K12', 'Aske', '2,2,4-trimethylpentane', 'Na+', 'individualization', 'Polylactic', 'fifty-meter-tall', 'Wimsey', 'Oxidative', 'CPPs', 'Conforti', 'Dons', 'Entire', 'broadness', 'macular', 'drivers', 'tourniquet', 'step-in', 'Muriel', 'complementary', 'PGNCS', 'Thermometers', 'continuo', 'discoverers', 'Optimizing', 'Perdition', 'friyapen', 'Stroop', 'Facsimile', 'Alfieri', '680x0', 'Zangwill', 're-examination', '990', 'Pets', 'enterica', 'PNS', 'Takauji', 'Marcion', 'agriculture', 'adaptively', 'stereographic', 'Urbanist', 'Scheme', 'handcuffed', 'Palais-Royal', 'pickled', 'disintegrating', 'Aleksandrovich', 'cartilaginous', 'Vinatieri', 'Lucovsky', 'Kodansha', 'neurulation', 'saucer-shaped', \"'Mother\", 'transitioned', 'Citing', 'harpist', 'tucking', 'ragged', 'Canasta', 'Datang', 'immunocompetence', 'Mingus', 'Dekker', 'offensive', 'McBain', 'post-event', 'two-term', 'Kontinental', \"'could\", 'Reston', 'diphosphonic', 'bi-monthly', 'Trommsdorf', 'Virtues', 'Frontiere', 'F-15s', 'ChemAxon', 'locales', '735328', 'Torrentinus', 'Arrangements', 'romances', 'seventy-five', 'wildcards', '99,999.99', 'Missionaries', 'Moreland', 'Implication', 'Ollivier', 'conica', 'Percentages', 'societal', '73,000', 'chard', 'sumi', 'Dooku', 'WonderSwan', '1628', 'Springboks', 'spreads', 'Hollywood', 'Polonica', 'CABI', 'wood-framed', 'Interested', 'Auchinleck', 'Stacy', 'Coghlan', 'UEMOA', 'semicircles', 'bouncing', 'clumsier', 'sequoia', 'Britain', 'Reporter', 'Market', 'pebbles', 'Midgard', 'hinders', 'Z0', 'Ani', 'Shargel', 'Itraconazole', 'Lean', 'Babies', 'miscibility', 'metalanguages', 'Marie-Antoinette', 'blue-gray', 'Commuters', 'NW', 'quasiparticles', 'Cole', 'ammonium', 'GrayArea', 'first-choice', 'verbatim', 'railways', 'Jaffna', 'Büyükşehir', 'auto-detection', 'Mythbuntu', 'Moons', 'Pursued', 'debtors', 'atheistic', 'Vetter', 'corroborate', 'Chandigarh', 'Dnieper', 'depolymerization', 'Regime', 'Fundamentally', 'Renew', \"'Black\", 'player-game', 'tombstone', 'intercourse', 'theatrically', 'Unidad', 'geofencing', 'Neva', 'CamStudio', 'MECC', 'trichotomy', 'Emphasize', 'Sleepy', 'Повісті', 'Wimbledon', 'self-cultivation', 'matrimonial', 'ordinal', 'orthoformate', 'balut', 'discredit', 'potions', 'dig', 'primordial', 'prima', 'mites', \"'Malice\", 'championing', 'engage', 'pounded', 'dyskinesia', 'immediacy', 'Aligarh', 'Ranga', 'Yoma', 'traveling', 'antineoplastics', '3-Picoline', 'al-Kindi', 'Donaghy', 'miscreants', 'Fourier', 'Ruge', 'at-bats', 'emu', 'arylpalladium', 'Noting', '6-chloronicotinic', 'red-haired', 'comb', 'Inter-District', 'TO', 'Crusoe', 'hypoxanthine', 'In-game', 'Contrarily', '-adenosyl', 'Morning', 'malonic', 'development', 'Secunderabad', 'Lihue', 'velvety', '£6.7', 'Allied', 'obscuring', 'Uralvagonzavod', 'settlements', 'peltata', 'imiquimod', 'sold-out', 'demodulator', 'Choruses', 'Kynaston', 'stanza', 'Supérieur', 'Spectres', 'ftrace', 'Bhindranwale', '-3.0', 'nailing', 'α-subunit', 'Campagna', 'Atwater', 'Ileana', 'Outlook', 'Deacy', 'kerb', 'monetized', 'exome', 'flapjacks', 'codice_95', 'Un', 'Ebeltoft', 'Readability', 'suggested', 'scalp', '229', 'proximally', 'zygotes', 'locomotives', 'uranium', 'bosutinib', 'Dusicyon', 'APDS', 'Carbohydrates', 'disoriented', 'Carlsbad', 'Dea', 'Sub-Aqua', 'Transactional', 'unio', '186', 'Conception', 'livestock', 'Fusiliers', 'nog', 'paraphilia', 'mid-time', 'Beuys', 'Pla', 'codice_130', 'rule-making', 'rebid', 'Germanicus', 'Bussard', 'sockeye', 'off-target', ',12-', 'sovereign-debt', 'embezzling', 'typify', 'Empodisma', 'CAIR', 'shaking', 'misleading', 'Hindenburg', 'dot-stuffing', 'pecan', 'nondescript', 'Islamabad', 'self-avoiding', 'calcified', 'Purification', 'therapeutically', 'Beyer', 'subdues', \"'tall\", 'Jukka', 'Niamey', 'glories', 'CFT', 'Ravensbrück', 'Interstate', 'OCI', 'Mysterium', 'Signature', 'sedation', 'Statisticians', 'Sic1', 'polyhedral', 'NYPL', 'Destinations', 'Hotjobs', 'beetroot']\n"
          ]
        }
      ]
    },
    {
      "cell_type": "code",
      "source": [
        "word_vectors = model.wv[sample]\n",
        "word_vectors"
      ],
      "metadata": {
        "colab": {
          "base_uri": "https://localhost:8080/"
        },
        "id": "BMLFR8txHj4b",
        "outputId": "df41bb06-e96f-4272-83f8-13663aaf3671"
      },
      "execution_count": 32,
      "outputs": [
        {
          "data": {
            "text/plain": [
              "array([[ 0.06788646, -0.58151215,  1.6003908 , ...,  0.6530722 ,\n",
              "         0.21855655,  0.48474273],\n",
              "       [ 0.08686287, -0.21170804,  0.14446826, ..., -0.2510813 ,\n",
              "        -0.30747047, -0.32191983],\n",
              "       [ 0.16631931, -0.13562016,  0.11810957, ...,  0.12669373,\n",
              "        -0.04086367, -0.10859871],\n",
              "       ...,\n",
              "       [ 0.17922105, -0.17299412,  0.05449256, ...,  0.03204354,\n",
              "        -0.21552657, -0.15693699],\n",
              "       [ 0.22679651, -0.3295916 ,  0.02184317, ..., -0.02001583,\n",
              "        -0.04169573, -0.13102615],\n",
              "       [ 0.13662997, -0.31884512, -0.11099502, ..., -0.01502689,\n",
              "        -0.08595143, -0.3557251 ]], dtype=float32)"
            ]
          },
          "execution_count": 32,
          "metadata": {},
          "output_type": "execute_result"
        }
      ]
    },
    {
      "cell_type": "code",
      "source": [
        "word_vectors.shape"
      ],
      "metadata": {
        "colab": {
          "base_uri": "https://localhost:8080/"
        },
        "id": "F22lma-LHj0e",
        "outputId": "66474698-233c-4db4-a8ce-8360c27f2b22"
      },
      "execution_count": 33,
      "outputs": [
        {
          "data": {
            "text/plain": [
              "(500, 30)"
            ]
          },
          "execution_count": 33,
          "metadata": {},
          "output_type": "execute_result"
        }
      ]
    },
    {
      "cell_type": "code",
      "source": [
        "from sklearn.manifold import TSNE\n",
        "\n",
        "tsne = TSNE(n_components=3, n_iter=2000)\n",
        "tsne_embedding = tsne.fit_transform(word_vectors)"
      ],
      "metadata": {
        "colab": {
          "base_uri": "https://localhost:8080/"
        },
        "id": "-yQ9qvIZHnin",
        "outputId": "d663a537-f507-4c54-d74d-cea12c6cdadf"
      },
      "execution_count": 34,
      "outputs": [
        {
          "metadata": {
            "tags": null
          },
          "name": "stderr",
          "output_type": "stream",
          "text": [
            "/usr/local/lib/python3.11/dist-packages/sklearn/manifold/_t_sne.py:1164: FutureWarning:\n",
            "\n",
            "'n_iter' was renamed to 'max_iter' in version 1.5 and will be removed in 1.7.\n",
            "\n"
          ]
        }
      ]
    },
    {
      "cell_type": "code",
      "source": [
        "import numpy as np\n",
        "\n",
        "x, y, z = np.transpose(tsne_embedding)"
      ],
      "metadata": {
        "id": "S5K15lVJHpZy"
      },
      "execution_count": 35,
      "outputs": []
    },
    {
      "cell_type": "code",
      "source": [
        "!pip install plotly"
      ],
      "metadata": {
        "colab": {
          "base_uri": "https://localhost:8080/"
        },
        "id": "C5t-i0fkHrqX",
        "outputId": "461bf7c9-bc7e-4661-9caf-c167ca015f7c"
      },
      "execution_count": 36,
      "outputs": [
        {
          "output_type": "stream",
          "name": "stdout",
          "text": [
            "Requirement already satisfied: plotly in /usr/local/lib/python3.11/dist-packages (5.24.1)\n",
            "Requirement already satisfied: tenacity>=6.2.0 in /usr/local/lib/python3.11/dist-packages (from plotly) (9.1.2)\n",
            "Requirement already satisfied: packaging in /usr/local/lib/python3.11/dist-packages (from plotly) (24.2)\n"
          ]
        }
      ]
    },
    {
      "cell_type": "code",
      "source": [
        "import plotly.express as px\n",
        "\n",
        "fig = px.scatter_3d(x=x, y=y, z=z)\n",
        "fig.update_traces(marker=dict(size=3,line=dict(width=2)))\n",
        "fig.show()"
      ],
      "metadata": {
        "colab": {
          "base_uri": "https://localhost:8080/",
          "height": 542
        },
        "id": "tzKeR9GpHsIX",
        "outputId": "98262a4f-59ca-4831-ed74-ff5a1f884fcf"
      },
      "execution_count": 37,
      "outputs": [
        {
          "output_type": "display_data",
          "data": {
            "text/html": [
              "<html>\n",
              "<head><meta charset=\"utf-8\" /></head>\n",
              "<body>\n",
              "    <div>            <script src=\"https://cdnjs.cloudflare.com/ajax/libs/mathjax/2.7.5/MathJax.js?config=TeX-AMS-MML_SVG\"></script><script type=\"text/javascript\">if (window.MathJax && window.MathJax.Hub && window.MathJax.Hub.Config) {window.MathJax.Hub.Config({SVG: {font: \"STIX-Web\"}});}</script>                <script type=\"text/javascript\">window.PlotlyConfig = {MathJaxConfig: 'local'};</script>\n",
              "        <script charset=\"utf-8\" src=\"https://cdn.plot.ly/plotly-2.35.2.min.js\"></script>                <div id=\"94eb889b-08fe-4978-adba-66fad96fbd93\" class=\"plotly-graph-div\" style=\"height:525px; width:100%;\"></div>            <script type=\"text/javascript\">                                    window.PLOTLYENV=window.PLOTLYENV || {};                                    if (document.getElementById(\"94eb889b-08fe-4978-adba-66fad96fbd93\")) {                    Plotly.newPlot(                        \"94eb889b-08fe-4978-adba-66fad96fbd93\",                        [{\"hovertemplate\":\"x=%{x}\\u003cbr\\u003ey=%{y}\\u003cbr\\u003ez=%{z}\\u003cextra\\u003e\\u003c\\u002fextra\\u003e\",\"legendgroup\":\"\",\"marker\":{\"color\":\"#636efa\",\"symbol\":\"circle\",\"line\":{\"width\":2},\"size\":3},\"mode\":\"markers\",\"name\":\"\",\"scene\":\"scene\",\"showlegend\":false,\"x\":[30.148594,11.266919,-22.24482,23.482605,-19.993893,29.096312,-8.751219,23.838238,-9.878901,-27.664555,-3.726359,20.53016,-11.383624,1.3126427,-1.4185846,33.606915,20.465616,-6.8042,24.850435,44.53346,16.115648,3.4767962,0.88536185,-24.693125,20.472399,-2.2600293,39.21012,0.86244833,-3.9679685,7.8817244,-38.172684,31.294008,-13.411171,8.717018,-21.594986,-31.349606,4.2791147,-9.245259,-15.97672,-13.782555,43.714123,10.227683,-12.118164,-20.522985,5.713456,18.671652,-6.3625035,-0.1263593,-18.159897,22.70138,-9.376539,8.377509,-20.064295,-0.48811564,-0.20360608,16.273066,13.195819,-3.3016045,-17.353706,-39.445248,-35.346302,19.271328,27.062338,5.6034093,41.742355,-33.957466,39.275806,38.51979,30.57693,6.6624746,22.850174,-40.531956,13.747906,16.374691,-15.058379,6.2582607,32.348644,11.324794,-5.08086,-0.88339335,4.7840734,36.91482,-0.4304152,-7.839727,-17.057964,12.889418,38.040764,-2.2205927,21.926268,-28.771149,10.50258,24.587444,-17.949844,-5.1769333,-1.0065084,-8.165374,8.394656,-6.1873484,25.567148,-23.428122,-0.44554293,-9.010348,19.197416,-35.783974,41.152325,8.72524,18.289318,-16.346102,9.519226,-35.45843,1.7682487,-30.976805,14.902711,-24.592503,21.92884,27.135342,11.680724,-12.759935,19.69588,-15.287122,-7.0015864,12.939989,27.006393,-5.125713,32.56862,17.42698,-31.190826,-6.3393297,-0.7326446,-36.077602,-5.035083,22.745005,2.049322,20.96972,-6.865129,-1.6503059,21.960464,18.481134,-10.180672,-11.3122835,-22.415049,-5.1925025,-37.687412,-0.23806795,9.297139,11.13697,-25.86931,-5.853665,-2.235582,-26.878819,-43.86757,-16.699074,3.4330742,31.144695,14.883864,29.368511,12.388495,24.013906,33.720158,-7.275401,32.219696,-33.243664,1.5658308,-5.206966,1.0784178,-1.0452257,-28.172983,-9.242193,4.3842773,3.380261,-36.08322,-4.0173044,12.07644,14.530635,12.514368,2.3463526,28.197277,2.355887,-21.725582,0.4970847,-7.752151,-15.786543,-30.757643,-7.465812,-45.89969,18.038532,-5.172172,5.539331,23.26755,-9.103446,-17.889194,-18.715403,-30.70545,-0.21547432,-18.530169,-3.1976569,31.246964,-10.398518,4.690941,14.490407,16.293535,31.63354,0.106645875,-14.952094,12.227314,-32.234356,23.446972,-10.72887,-4.218716,-12.616927,9.981543,15.250089,25.895851,4.0007467,-17.503695,25.14817,34.16238,11.563002,-35.717766,-11.00861,-24.935354,-4.5163164,9.541826,-4.6055923,13.791007,6.894391,-11.379895,0.17635389,9.26861,-6.540136,6.1808176,-23.968737,-16.349796,19.834303,29.977001,22.801594,6.3855433,-14.886114,13.893787,5.719074,23.03746,-29.81331,7.1318374,5.201856,6.219504,3.6041944,-34.84632,28.15462,-0.24953534,3.9783244,-6.5538087,-3.19006,-6.1970897,-12.224255,20.926832,-7.6299634,3.2996044,3.0757527,8.068429,-27.983303,15.129507,25.499117,23.402681,4.7809505,-12.019885,1.4895788,-7.3452735,14.57698,-12.2247925,-11.294336,-43.67081,-29.857378,-26.043627,4.747117,11.107828,20.51184,-12.036863,-1.3135769,26.703257,-12.726747,-17.49726,42.70477,27.528332,-19.765423,-18.008862,-5.3465476,1.586055,28.889523,0.5088121,-13.283172,-40.812862,-17.769453,-33.837414,19.730875,14.148709,41.45602,19.588345,-6.2090173,20.373865,-39.14497,12.471223,27.977003,-0.3462034,-24.190704,8.588044,27.43375,-10.97151,-3.2611752,20.61157,-40.752388,-27.548077,21.648237,-21.507553,39.929108,-3.3311174,-29.478771,-17.699842,-6.2699394,7.734101,26.941853,12.313867,8.438928,-27.969915,-17.448109,-1.3069156,-11.889862,17.715658,19.266996,19.346436,19.20746,17.239092,-16.214249,3.6214793,-24.529371,-21.449265,41.42063,-34.442028,27.430414,-28.497953,42.418987,8.07909,-9.475557,23.363762,-32.92543,-24.504955,8.102953,-18.116434,38.71713,16.658266,43.580807,-13.901605,18.042656,-18.191072,0.64019185,-34.251217,20.066277,22.302032,-14.447913,-9.465985,29.55386,5.912516,9.13227,11.022097,-23.33551,15.972245,-32.855404,-9.836612,-0.42425102,-16.892378,-1.3992369,-20.260412,-26.385365,-10.770113,-2.4764864,5.3994207,-0.14241397,-20.84674,-0.254284,4.6468754,7.691335,-18.020447,-18.781437,-12.815073,24.399197,-10.06896,-0.8088058,-2.480408,28.701344,-12.202065,-6.827678,-28.095957,-16.830843,47.03427,-1.2353463,13.583375,-20.984314,-21.143263,10.80312,-8.345793,9.480653,-36.2518,-14.776229,10.53103,-24.268076,-34.594955,1.3739974,-7.8548746,1.2881329,6.0733304,24.80447,-11.849871,-27.969204,-26.113735,-4.995236,15.4774,13.195843,-10.427733,14.571464,-21.812477,29.462051,4.4722514,-23.727568,-12.356601,-3.3515244,-37.212017,-34.311867,-10.4329,35.43433,16.819407,20.417212,-2.9555063,-27.557894,8.857001,-14.550036,-2.9302943,5.0485353,-3.2982333,0.627695,-19.819618,-2.164275,-2.7410178,14.743521,16.209955,26.125877,-19.384369,-7.225828,-6.376975,10.609625,39.31128,10.102479,7.756773,8.995158,5.085254,-20.870602,-32.264313,20.506165,-2.118186,-4.3216853,12.80953,30.160135,-42.461468,-25.948887,-34.60038,10.755568,-18.544823,-15.949236,-12.692406,-26.517942,-15.740286,-26.701868,-6.313723,20.591444,12.668054,12.8375225,-40.402767,25.508896,-39.388203,1.7767663,4.6399636,-6.074318,31.376165,16.3903,-6.958508,3.8757772,12.978835,-27.072361,-15.395467,10.232191,9.754344,23.121277,19.090258,10.310789,-28.161293,-26.08441,-27.008635,-11.525938,-25.018847,-14.178967,-12.266368,9.348304],\"y\":[-12.296404,-24.337349,9.659533,23.992382,10.405297,-28.144278,16.638536,-16.168104,-12.289504,21.886683,-3.5771036,27.15958,5.2295365,-4.2481556,2.2549012,23.797794,-5.173379,2.638199,-12.03398,1.4085428,-11.4482155,-10.114305,11.758019,-2.6765735,32.75917,-7.8002048,-0.027678441,-16.882511,21.873016,8.382317,-8.465889,0.40698794,-23.765646,22.809286,11.253084,8.28485,17.355772,14.135461,-5.3040338,10.369684,-4.9178057,31.45905,-34.306374,22.736963,30.582787,-9.027379,-31.84436,-25.643696,21.923529,13.666455,-22.783619,-13.808189,4.0960274,23.445831,-4.813063,-21.120182,4.3740187,3.7766995,-31.458778,-4.0308194,13.604427,6.4786253,20.148544,-5.945732,7.6875725,11.571409,3.038387,9.280316,11.668433,1.0601524,-22.06513,9.524979,-28.742126,33.453773,-24.807638,6.433147,-13.842424,23.229712,-10.791702,14.920387,-5.824487,-9.259528,-17.074194,-4.4285107,-38.336143,-0.780433,20.762163,-8.406807,-7.177287,4.7243876,35.495434,12.73504,-7.6020594,-29.074461,-0.6829254,-7.9568906,27.109306,-4.2262063,10.159181,1.1116744,-5.8497524,22.09865,23.660679,14.332176,18.254147,21.883713,-7.3585615,-13.967284,-20.472574,-2.43793,3.1883204,1.9611925,4.3905582,-18.981808,18.275126,29.106392,-11.778822,9.331406,-6.386235,17.83146,-27.130604,-37.00709,-18.628616,3.663493,20.62303,-35.260098,-20.538788,9.930466,13.194674,6.8737893,-32.187363,2.203817,-1.1196033,-18.605324,-19.713789,4.796929,15.163643,5.8481874,0.4270247,34.64082,-18.227083,15.171003,-2.152865,-31.124542,-14.801576,-25.900108,15.751494,19.503689,-35.31291,2.9074042,5.440745,-14.875775,14.038098,-28.951279,25.783691,-10.102394,-0.45109996,-13.805107,-2.1379564,-28.622587,0.9259868,5.7240047,-33.950943,16.807447,9.044842,0.4910645,-11.335635,24.13151,-16.547476,-44.088757,22.644659,15.549605,14.051707,-9.068346,-16.15972,13.4537525,18.209778,-4.100359,6.1428304,19.601036,0.47250128,-2.322001,20.377567,-2.653839,9.310901,23.240314,-23.908129,-25.427338,-12.962959,18.471304,-7.0844646,14.301985,-16.226324,-44.26721,-17.086077,6.954087,18.992985,-32.789467,4.5830173,-21.065336,20.157608,-5.9883122,-22.506592,24.857124,-5.3768196,22.064907,3.3968043,14.553406,-3.7836292,17.431513,8.98713,-22.748919,-21.933998,-10.1472645,-25.46199,8.056011,-14.37357,-30.301369,17.540987,-12.038355,29.094957,-41.030422,19.12026,20.469181,-20.752306,12.256759,19.678856,-17.522179,14.725738,6.0158687,-9.77062,-0.53847295,-0.43369818,-2.6829364,-14.203055,13.071664,22.5675,3.4353094,9.697614,29.111319,-14.889133,-3.6699784,18.999258,12.085873,1.268238,33.07649,18.18036,-5.308449,31.882763,-5.3755293,9.293274,-26.02409,39.457592,6.840617,6.4789615,12.6034355,5.4975476,-30.641228,-3.024119,16.066135,8.273332,-28.044651,24.633982,-20.074492,-31.190624,-15.509605,30.039953,32.699806,-18.467575,23.758184,14.346543,12.379996,-33.248257,-22.597343,-4.836306,-10.00332,11.1650305,3.6177192,0.8213807,4.0794225,-20.927114,14.664427,0.34526613,-7.691856,37.38002,8.073161,13.840633,23.231674,28.521854,9.075146,9.219094,-20.246487,3.502809,-5.834797,-3.5640564,7.4991903,-34.133568,-18.02841,0.80132985,25.868212,-22.423243,3.980753,16.660461,0.4204504,-32.729656,-13.437521,-14.456228,-16.88713,13.158604,-5.6831365,11.378859,-21.904135,7.2664027,12.851889,-32.99205,4.8398614,22.540236,-26.291315,-42.566414,-3.1187186,-4.503176,-15.22293,-9.934858,28.684101,8.940594,-7.2434945,25.224348,2.232708,17.85562,-11.802876,-3.9702163,-11.70152,-3.928225,23.04693,-2.9805145,-3.3046482,24.33362,9.958791,-27.767233,0.30548346,-4.153931,-5.69441,-4.9362116,-6.492248,10.25975,-9.845782,16.711525,1.2947477,-20.147205,-7.6467133,8.656107,16.972075,-34.42689,-26.759176,1.8894928,21.864515,7.502355,-27.112007,-11.957773,4.474446,-22.430838,37.54631,27.433805,-32.721317,3.0153,-20.087452,29.635342,14.723394,15.288302,-8.431012,-28.156267,-7.435998,3.906246,22.94159,18.50182,12.068999,-30.775711,13.540541,29.421967,-13.7461605,-8.436715,28.518267,10.420015,7.9032793,-21.256912,35.9698,-39.271164,24.417257,-4.857872,1.3479046,7.9638853,-0.98929673,9.654331,-30.504488,-33.536575,9.685168,7.152323,1.5259519,0.2878615,-0.72862124,23.052567,3.1959448,-41.696274,-5.1734815,6.5176954,34.694805,-9.193668,-8.472378,6.4269724,21.12828,16.015966,17.58736,-15.366901,23.051054,-13.427389,14.748668,9.831671,10.039789,-2.061206,-8.9486065,-33.001328,13.789592,-3.173926,1.3652897,14.799102,-3.5774157,-42.05723,2.901277,-8.418113,-23.897,-19.85167,-21.281328,-21.635153,-1.5250685,-14.033901,-43.392014,-30.771269,-0.9093795,-4.854382,6.723379,-8.061715,15.613426,-15.717938,-6.0256977,19.192142,-26.130209,25.112183,-25.347404,-11.789424,-26.774725,16.259533,-2.067183,22.519175,-12.951851,18.025152,-37.549454,-43.081482,33.931538,-0.01933416,7.377001,20.25538,-4.1556187,-10.66039,-7.059803,26.998602,21.919735,26.658327,-10.341401,2.1190166,-19.455027,-23.061726,6.5578237,-8.472038,-15.231641,0.99397326,-13.876456,13.36764,-12.222475,2.2223482,0.8051522,-15.665151,16.89498,-18.01705,3.051534,-3.1248024,27.767355,-12.838562,7.993891,-45.062817,-33.638084,-1.6508355,-33.89509,-22.121412,16.134577,9.754378,-8.996142,19.420637,-6.568408,-5.182611,-6.7817473],\"z\":[-20.076284,-4.908237,12.676502,-16.753834,-5.161112,-9.994369,17.05423,-17.855972,-9.924668,-8.824216,0.6737647,-28.24072,-36.93273,19.260754,15.460048,-11.216147,-10.831061,6.0232563,-0.76234984,0.2963326,8.983614,-21.60361,12.734042,18.378775,-0.45096195,-30.643383,-11.851744,14.82584,-27.83452,-6.6686907,-0.82645535,-26.22225,0.03006469,2.154019,18.624277,-4.383719,-32.882866,-28.49565,-28.119364,-20.72929,-1.4777973,-7.2304797,18.274036,-2.6999695,-1.1118644,4.332853,1.9052655,0.0008931863,3.6146536,-20.1566,-7.681797,25.780544,-4.1022215,-17.948782,-22.931805,-6.395659,1.0528197,-29.800741,-14.910305,6.2085633,-20.174625,-25.95766,24.110199,-9.878824,0.7401023,-7.985808,-14.826683,-9.718779,6.410419,-1.1473062,18.000414,8.783018,12.729183,-9.82841,13.86953,-41.162407,-5.081978,-9.710372,17.680656,6.456909,-3.8736677,3.9906704,-15.252485,-5.14368,-6.749639,2.7534008,-1.5570202,-11.222426,7.1195183,9.958692,-20.350657,4.6966367,0.20711997,-9.588328,-8.406413,25.146482,6.5858855,-13.247252,-1.6596259,-31.166534,36.186695,1.1225474,-8.009047,6.97384,8.530568,-25.133553,25.727144,-4.3434844,39.48464,10.9249935,30.396053,-16.435392,-15.981096,-10.6469345,-15.958002,13.692573,-15.722718,-13.842657,-1.9043124,-23.092697,34.22695,-10.546691,-1.2318463,-7.5042996,-2.6561148,4.85533,6.8729763,-7.1382756,19.307058,-13.737925,20.687757,-28.139448,-40.732693,4.3715115,-32.13713,22.619478,9.0548725,27.882008,-24.732409,-15.408638,-20.797342,-1.6144751,-14.7438135,-12.301175,6.356329,10.086107,-5.515381,7.3283973,-0.28715238,-0.18985286,-10.220969,11.8357725,24.93506,-6.5452194,-4.438155,7.74145,-7.8771963,-6.4082847,-21.715939,-18.068829,10.630429,14.60059,-6.250727,23.79239,-4.9490066,7.575162,14.951686,-19.641094,7.4323373,-9.784896,-11.953882,-25.685602,14.949817,-12.028945,15.233995,-23.950808,2.1191673,1.0278933,-10.631948,0.88990915,16.522501,16.482437,-16.506306,21.882313,-3.6777267,0.884709,19.495691,20.94201,4.9351897,-21.123322,6.1614637,6.2972193,12.894516,9.260783,21.572294,5.167815,-8.396031,5.337116,4.905133,2.1880224,23.215336,16.295029,-5.424312,-3.2722442,14.176258,17.218279,8.148793,-3.3911633,10.779453,-14.666628,7.255851,-13.126677,11.627582,22.494963,9.617081,-17.849543,11.578365,30.816683,13.790962,1.8594344,-2.1492991,-3.6499252,-17.97085,-5.7629232,39.014057,-15.909027,-7.2722545,34.908024,-3.7034786,-14.63497,13.748032,12.197199,-0.16919754,13.916538,-26.574211,-35.78545,-2.6163106,7.8437724,28.184605,-8.353764,11.361922,4.5815115,7.4073405,4.020295,-39.649944,4.2527556,-3.9200547,-6.204063,20.685125,9.379276,-0.63246876,14.152546,0.2712231,22.89802,5.0964913,-13.538979,-22.176445,1.4167149,39.719357,9.89775,14.893365,6.4938726,15.0248785,-17.377197,-16.725851,-4.209537,-4.9449186,1.9505346,-18.57577,-11.11242,-13.565601,-13.096353,19.576288,7.9900327,28.246101,17.326216,-7.767438,-0.9212085,-23.632288,-7.2279234,36.391766,4.9627666,3.269034,-13.480062,-4.6094894,-21.848772,-33.365852,-3.1566522,-3.329285,-31.311548,-7.4447436,26.797169,-24.472107,33.690556,-36.770657,6.968627,-4.8871536,34.636955,19.398996,7.5119286,17.610899,14.43897,-12.883754,4.419479,0.46711457,21.338852,19.09529,1.5574676,-14.5813,-10.42912,-25.046936,-19.392714,4.291496,-8.211092,25.682695,-11.305899,19.777119,-23.00521,13.320752,22.773808,-1.160763,-2.918519,-17.279537,-8.980285,-12.191036,-30.629492,12.96187,-4.761811,-33.77364,-15.382345,-22.754347,18.088741,-28.076239,6.135398,-21.109356,4.3389425,-3.5939572,17.59474,18.0897,10.91231,2.687047,3.345689,-20.91381,-19.828337,-12.46307,0.70653474,-1.803692,5.9674087,8.576036,-6.161977,-0.12774763,-21.10803,-7.2861643,17.664888,-1.5795728,-30.179993,30.894978,29.152702,36.501526,-1.926663,36.043076,-4.812376,11.666514,25.410467,32.80754,12.012535,5.876188,-6.677722,-9.68888,-1.6245368,29.416042,9.094682,31.68412,11.799714,-8.954652,-18.758045,-4.1037054,0.99290794,-13.942665,30.499018,23.35931,6.941511,13.842431,23.57565,32.707935,17.372744,-15.128661,3.4301996,22.682215,-1.4926449,-17.546675,25.454391,2.7206259,16.058023,26.786442,-17.089344,-23.293604,24.011103,-10.413802,-37.7862,3.92552,-16.897297,17.843687,-0.3441417,5.1047173,-10.504684,10.339428,5.0665803,16.536343,19.376707,2.3027134,2.1469958,-15.071243,-13.69711,-3.0597427,-6.953279,7.071565,-20.96082,-15.11547,0.38540754,-14.787452,-21.677496,-4.3650136,-17.763264,-12.570742,-7.944382,-6.2901163,-0.32131806,-25.15934,0.8353034,-35.724117,21.468733,-14.686026,9.696961,24.390457,10.409087,30.603752,25.29693,-6.3249445,11.144545,30.2162,3.4996617,-19.95073,14.133612,-13.674494,-3.741494,4.319533,-19.252983,12.487795,33.88867,-26.114477,18.81636,19.259872,1.6573046,-8.654372,6.320412,-9.290116,-25.287327,10.540612,-20.545385,-4.7161937,-7.247205,16.158014,8.261109,-18.742258,-27.868343,15.286114,-5.0705004,18.409199,26.129612,-28.20677,-9.189994,18.32215,32.51462,-2.3352077,-22.552313,0.5956669,33.431915,12.058517,29.967516,5.749878,-2.3027024,7.396428,-13.277448,-19.911974,-10.955929,-18.347614,-24.678219,5.943786,0.50379616,3.779109,-6.551926,16.545563,-13.555518,3.6326592,30.98585,-23.12724,-10.720231,-18.509045,31.8365],\"type\":\"scatter3d\"}],                        {\"template\":{\"data\":{\"histogram2dcontour\":[{\"type\":\"histogram2dcontour\",\"colorbar\":{\"outlinewidth\":0,\"ticks\":\"\"},\"colorscale\":[[0.0,\"#0d0887\"],[0.1111111111111111,\"#46039f\"],[0.2222222222222222,\"#7201a8\"],[0.3333333333333333,\"#9c179e\"],[0.4444444444444444,\"#bd3786\"],[0.5555555555555556,\"#d8576b\"],[0.6666666666666666,\"#ed7953\"],[0.7777777777777778,\"#fb9f3a\"],[0.8888888888888888,\"#fdca26\"],[1.0,\"#f0f921\"]]}],\"choropleth\":[{\"type\":\"choropleth\",\"colorbar\":{\"outlinewidth\":0,\"ticks\":\"\"}}],\"histogram2d\":[{\"type\":\"histogram2d\",\"colorbar\":{\"outlinewidth\":0,\"ticks\":\"\"},\"colorscale\":[[0.0,\"#0d0887\"],[0.1111111111111111,\"#46039f\"],[0.2222222222222222,\"#7201a8\"],[0.3333333333333333,\"#9c179e\"],[0.4444444444444444,\"#bd3786\"],[0.5555555555555556,\"#d8576b\"],[0.6666666666666666,\"#ed7953\"],[0.7777777777777778,\"#fb9f3a\"],[0.8888888888888888,\"#fdca26\"],[1.0,\"#f0f921\"]]}],\"heatmap\":[{\"type\":\"heatmap\",\"colorbar\":{\"outlinewidth\":0,\"ticks\":\"\"},\"colorscale\":[[0.0,\"#0d0887\"],[0.1111111111111111,\"#46039f\"],[0.2222222222222222,\"#7201a8\"],[0.3333333333333333,\"#9c179e\"],[0.4444444444444444,\"#bd3786\"],[0.5555555555555556,\"#d8576b\"],[0.6666666666666666,\"#ed7953\"],[0.7777777777777778,\"#fb9f3a\"],[0.8888888888888888,\"#fdca26\"],[1.0,\"#f0f921\"]]}],\"heatmapgl\":[{\"type\":\"heatmapgl\",\"colorbar\":{\"outlinewidth\":0,\"ticks\":\"\"},\"colorscale\":[[0.0,\"#0d0887\"],[0.1111111111111111,\"#46039f\"],[0.2222222222222222,\"#7201a8\"],[0.3333333333333333,\"#9c179e\"],[0.4444444444444444,\"#bd3786\"],[0.5555555555555556,\"#d8576b\"],[0.6666666666666666,\"#ed7953\"],[0.7777777777777778,\"#fb9f3a\"],[0.8888888888888888,\"#fdca26\"],[1.0,\"#f0f921\"]]}],\"contourcarpet\":[{\"type\":\"contourcarpet\",\"colorbar\":{\"outlinewidth\":0,\"ticks\":\"\"}}],\"contour\":[{\"type\":\"contour\",\"colorbar\":{\"outlinewidth\":0,\"ticks\":\"\"},\"colorscale\":[[0.0,\"#0d0887\"],[0.1111111111111111,\"#46039f\"],[0.2222222222222222,\"#7201a8\"],[0.3333333333333333,\"#9c179e\"],[0.4444444444444444,\"#bd3786\"],[0.5555555555555556,\"#d8576b\"],[0.6666666666666666,\"#ed7953\"],[0.7777777777777778,\"#fb9f3a\"],[0.8888888888888888,\"#fdca26\"],[1.0,\"#f0f921\"]]}],\"surface\":[{\"type\":\"surface\",\"colorbar\":{\"outlinewidth\":0,\"ticks\":\"\"},\"colorscale\":[[0.0,\"#0d0887\"],[0.1111111111111111,\"#46039f\"],[0.2222222222222222,\"#7201a8\"],[0.3333333333333333,\"#9c179e\"],[0.4444444444444444,\"#bd3786\"],[0.5555555555555556,\"#d8576b\"],[0.6666666666666666,\"#ed7953\"],[0.7777777777777778,\"#fb9f3a\"],[0.8888888888888888,\"#fdca26\"],[1.0,\"#f0f921\"]]}],\"mesh3d\":[{\"type\":\"mesh3d\",\"colorbar\":{\"outlinewidth\":0,\"ticks\":\"\"}}],\"scatter\":[{\"fillpattern\":{\"fillmode\":\"overlay\",\"size\":10,\"solidity\":0.2},\"type\":\"scatter\"}],\"parcoords\":[{\"type\":\"parcoords\",\"line\":{\"colorbar\":{\"outlinewidth\":0,\"ticks\":\"\"}}}],\"scatterpolargl\":[{\"type\":\"scatterpolargl\",\"marker\":{\"colorbar\":{\"outlinewidth\":0,\"ticks\":\"\"}}}],\"bar\":[{\"error_x\":{\"color\":\"#2a3f5f\"},\"error_y\":{\"color\":\"#2a3f5f\"},\"marker\":{\"line\":{\"color\":\"#E5ECF6\",\"width\":0.5},\"pattern\":{\"fillmode\":\"overlay\",\"size\":10,\"solidity\":0.2}},\"type\":\"bar\"}],\"scattergeo\":[{\"type\":\"scattergeo\",\"marker\":{\"colorbar\":{\"outlinewidth\":0,\"ticks\":\"\"}}}],\"scatterpolar\":[{\"type\":\"scatterpolar\",\"marker\":{\"colorbar\":{\"outlinewidth\":0,\"ticks\":\"\"}}}],\"histogram\":[{\"marker\":{\"pattern\":{\"fillmode\":\"overlay\",\"size\":10,\"solidity\":0.2}},\"type\":\"histogram\"}],\"scattergl\":[{\"type\":\"scattergl\",\"marker\":{\"colorbar\":{\"outlinewidth\":0,\"ticks\":\"\"}}}],\"scatter3d\":[{\"type\":\"scatter3d\",\"line\":{\"colorbar\":{\"outlinewidth\":0,\"ticks\":\"\"}},\"marker\":{\"colorbar\":{\"outlinewidth\":0,\"ticks\":\"\"}}}],\"scattermapbox\":[{\"type\":\"scattermapbox\",\"marker\":{\"colorbar\":{\"outlinewidth\":0,\"ticks\":\"\"}}}],\"scatterternary\":[{\"type\":\"scatterternary\",\"marker\":{\"colorbar\":{\"outlinewidth\":0,\"ticks\":\"\"}}}],\"scattercarpet\":[{\"type\":\"scattercarpet\",\"marker\":{\"colorbar\":{\"outlinewidth\":0,\"ticks\":\"\"}}}],\"carpet\":[{\"aaxis\":{\"endlinecolor\":\"#2a3f5f\",\"gridcolor\":\"white\",\"linecolor\":\"white\",\"minorgridcolor\":\"white\",\"startlinecolor\":\"#2a3f5f\"},\"baxis\":{\"endlinecolor\":\"#2a3f5f\",\"gridcolor\":\"white\",\"linecolor\":\"white\",\"minorgridcolor\":\"white\",\"startlinecolor\":\"#2a3f5f\"},\"type\":\"carpet\"}],\"table\":[{\"cells\":{\"fill\":{\"color\":\"#EBF0F8\"},\"line\":{\"color\":\"white\"}},\"header\":{\"fill\":{\"color\":\"#C8D4E3\"},\"line\":{\"color\":\"white\"}},\"type\":\"table\"}],\"barpolar\":[{\"marker\":{\"line\":{\"color\":\"#E5ECF6\",\"width\":0.5},\"pattern\":{\"fillmode\":\"overlay\",\"size\":10,\"solidity\":0.2}},\"type\":\"barpolar\"}],\"pie\":[{\"automargin\":true,\"type\":\"pie\"}]},\"layout\":{\"autotypenumbers\":\"strict\",\"colorway\":[\"#636efa\",\"#EF553B\",\"#00cc96\",\"#ab63fa\",\"#FFA15A\",\"#19d3f3\",\"#FF6692\",\"#B6E880\",\"#FF97FF\",\"#FECB52\"],\"font\":{\"color\":\"#2a3f5f\"},\"hovermode\":\"closest\",\"hoverlabel\":{\"align\":\"left\"},\"paper_bgcolor\":\"white\",\"plot_bgcolor\":\"#E5ECF6\",\"polar\":{\"bgcolor\":\"#E5ECF6\",\"angularaxis\":{\"gridcolor\":\"white\",\"linecolor\":\"white\",\"ticks\":\"\"},\"radialaxis\":{\"gridcolor\":\"white\",\"linecolor\":\"white\",\"ticks\":\"\"}},\"ternary\":{\"bgcolor\":\"#E5ECF6\",\"aaxis\":{\"gridcolor\":\"white\",\"linecolor\":\"white\",\"ticks\":\"\"},\"baxis\":{\"gridcolor\":\"white\",\"linecolor\":\"white\",\"ticks\":\"\"},\"caxis\":{\"gridcolor\":\"white\",\"linecolor\":\"white\",\"ticks\":\"\"}},\"coloraxis\":{\"colorbar\":{\"outlinewidth\":0,\"ticks\":\"\"}},\"colorscale\":{\"sequential\":[[0.0,\"#0d0887\"],[0.1111111111111111,\"#46039f\"],[0.2222222222222222,\"#7201a8\"],[0.3333333333333333,\"#9c179e\"],[0.4444444444444444,\"#bd3786\"],[0.5555555555555556,\"#d8576b\"],[0.6666666666666666,\"#ed7953\"],[0.7777777777777778,\"#fb9f3a\"],[0.8888888888888888,\"#fdca26\"],[1.0,\"#f0f921\"]],\"sequentialminus\":[[0.0,\"#0d0887\"],[0.1111111111111111,\"#46039f\"],[0.2222222222222222,\"#7201a8\"],[0.3333333333333333,\"#9c179e\"],[0.4444444444444444,\"#bd3786\"],[0.5555555555555556,\"#d8576b\"],[0.6666666666666666,\"#ed7953\"],[0.7777777777777778,\"#fb9f3a\"],[0.8888888888888888,\"#fdca26\"],[1.0,\"#f0f921\"]],\"diverging\":[[0,\"#8e0152\"],[0.1,\"#c51b7d\"],[0.2,\"#de77ae\"],[0.3,\"#f1b6da\"],[0.4,\"#fde0ef\"],[0.5,\"#f7f7f7\"],[0.6,\"#e6f5d0\"],[0.7,\"#b8e186\"],[0.8,\"#7fbc41\"],[0.9,\"#4d9221\"],[1,\"#276419\"]]},\"xaxis\":{\"gridcolor\":\"white\",\"linecolor\":\"white\",\"ticks\":\"\",\"title\":{\"standoff\":15},\"zerolinecolor\":\"white\",\"automargin\":true,\"zerolinewidth\":2},\"yaxis\":{\"gridcolor\":\"white\",\"linecolor\":\"white\",\"ticks\":\"\",\"title\":{\"standoff\":15},\"zerolinecolor\":\"white\",\"automargin\":true,\"zerolinewidth\":2},\"scene\":{\"xaxis\":{\"backgroundcolor\":\"#E5ECF6\",\"gridcolor\":\"white\",\"linecolor\":\"white\",\"showbackground\":true,\"ticks\":\"\",\"zerolinecolor\":\"white\",\"gridwidth\":2},\"yaxis\":{\"backgroundcolor\":\"#E5ECF6\",\"gridcolor\":\"white\",\"linecolor\":\"white\",\"showbackground\":true,\"ticks\":\"\",\"zerolinecolor\":\"white\",\"gridwidth\":2},\"zaxis\":{\"backgroundcolor\":\"#E5ECF6\",\"gridcolor\":\"white\",\"linecolor\":\"white\",\"showbackground\":true,\"ticks\":\"\",\"zerolinecolor\":\"white\",\"gridwidth\":2}},\"shapedefaults\":{\"line\":{\"color\":\"#2a3f5f\"}},\"annotationdefaults\":{\"arrowcolor\":\"#2a3f5f\",\"arrowhead\":0,\"arrowwidth\":1},\"geo\":{\"bgcolor\":\"white\",\"landcolor\":\"#E5ECF6\",\"subunitcolor\":\"white\",\"showland\":true,\"showlakes\":true,\"lakecolor\":\"white\"},\"title\":{\"x\":0.05},\"mapbox\":{\"style\":\"light\"}}},\"scene\":{\"domain\":{\"x\":[0.0,1.0],\"y\":[0.0,1.0]},\"xaxis\":{\"title\":{\"text\":\"x\"}},\"yaxis\":{\"title\":{\"text\":\"y\"}},\"zaxis\":{\"title\":{\"text\":\"z\"}}},\"legend\":{\"tracegroupgap\":0},\"margin\":{\"t\":60}},                        {\"responsive\": true}                    ).then(function(){\n",
              "                            \n",
              "var gd = document.getElementById('94eb889b-08fe-4978-adba-66fad96fbd93');\n",
              "var x = new MutationObserver(function (mutations, observer) {{\n",
              "        var display = window.getComputedStyle(gd).display;\n",
              "        if (!display || display === 'none') {{\n",
              "            console.log([gd, 'removed!']);\n",
              "            Plotly.purge(gd);\n",
              "            observer.disconnect();\n",
              "        }}\n",
              "}});\n",
              "\n",
              "// Listen for the removal of the full notebook cells\n",
              "var notebookContainer = gd.closest('#notebook-container');\n",
              "if (notebookContainer) {{\n",
              "    x.observe(notebookContainer, {childList: true});\n",
              "}}\n",
              "\n",
              "// Listen for the clearing of the current output cell\n",
              "var outputEl = gd.closest('.output');\n",
              "if (outputEl) {{\n",
              "    x.observe(outputEl, {childList: true});\n",
              "}}\n",
              "\n",
              "                        })                };                            </script>        </div>\n",
              "</body>\n",
              "</html>"
            ]
          },
          "metadata": {}
        }
      ]
    },
    {
      "cell_type": "code",
      "source": [
        "fig = px.scatter_3d(x=x[:200],y=y[:200],z=z[:200],text=sample[:200])\n",
        "fig.update_traces(marker=dict(size=3,line=dict(width=2)),textfont_size=10)\n",
        "fig.show()"
      ],
      "metadata": {
        "colab": {
          "base_uri": "https://localhost:8080/",
          "height": 542
        },
        "id": "Gl_ev5-DHxNg",
        "outputId": "4c38252f-15e0-4892-bb13-b1c4ba20b2ce"
      },
      "execution_count": 38,
      "outputs": [
        {
          "output_type": "display_data",
          "data": {
            "text/html": [
              "<html>\n",
              "<head><meta charset=\"utf-8\" /></head>\n",
              "<body>\n",
              "    <div>            <script src=\"https://cdnjs.cloudflare.com/ajax/libs/mathjax/2.7.5/MathJax.js?config=TeX-AMS-MML_SVG\"></script><script type=\"text/javascript\">if (window.MathJax && window.MathJax.Hub && window.MathJax.Hub.Config) {window.MathJax.Hub.Config({SVG: {font: \"STIX-Web\"}});}</script>                <script type=\"text/javascript\">window.PlotlyConfig = {MathJaxConfig: 'local'};</script>\n",
              "        <script charset=\"utf-8\" src=\"https://cdn.plot.ly/plotly-2.35.2.min.js\"></script>                <div id=\"f95ffea1-eb5c-48a3-bdfe-f32fe6410de3\" class=\"plotly-graph-div\" style=\"height:525px; width:100%;\"></div>            <script type=\"text/javascript\">                                    window.PLOTLYENV=window.PLOTLYENV || {};                                    if (document.getElementById(\"f95ffea1-eb5c-48a3-bdfe-f32fe6410de3\")) {                    Plotly.newPlot(                        \"f95ffea1-eb5c-48a3-bdfe-f32fe6410de3\",                        [{\"hovertemplate\":\"x=%{x}\\u003cbr\\u003ey=%{y}\\u003cbr\\u003ez=%{z}\\u003cbr\\u003etext=%{text}\\u003cextra\\u003e\\u003c\\u002fextra\\u003e\",\"legendgroup\":\"\",\"marker\":{\"color\":\"#636efa\",\"symbol\":\"circle\",\"line\":{\"width\":2},\"size\":3},\"mode\":\"markers+text\",\"name\":\"\",\"scene\":\"scene\",\"showlegend\":false,\"text\":[\"twinned\",\"Columns\",\"GeV\",\"Schadenfreude\",\"Volksoper\",\"Corp.\",\"Dimensionality\",\"Nagpur\",\"K-1\",\"Camillus\",\"Fido\",\"alien\",\"odham\",\"10-carbon\",\"Fluoromar\",\"invitation\",\"Aldeburgh\",\"SemBioSys\",\"Messrs.\",\"Spice\",\"KIC\",\"Oryx\",\"Ei-ichi\",\"extruding\",\"Garson\",\"Tariffs\",\"Camp\",\"Bucherer\",\"Michaelmas\",\"Jango\",\"fenestration\",\"1707\",\"ESI\",\"Cosell\",\"tri\",\"BPT\",\"Obregón\",\"Wasps\",\"repurchase\",\"goal-line\",\"All-Stars\",\"Splendor\",\"antibodies\",\"highlife\",\"Dore\",\"они\",\"data-driven\",\"internetworking\",\"interdisciplinarity\",\"Amasa\",\"fax\",\"rosea\",\"interlacing\",\"Saracens\",\"Disasters\",\"Powered\",\"Hamilton–Jacobi–Bellman\",\"stockbroker\",\"arbitrarily\",\"debridement\",\"formula_22-paradoxical\",\"1458\",\"iambic\",\"revitalizing\",\"Thousand\",\"eventuate\",\"Lincoln\",\"Reed\",\"Physician\",\"11,800\",\"pé\",\"brisk\",\"ng\\u002fml\",\"JJ\",\"hindbrain\",\"opponent\",\"Sébastien\",\"Shelagh\",\"DSSCs\",\"23-page\",\"Orocobix\",\"Preachers\",\"522\",\".properties\",\"denominator\",\"dithiol\",\"outfit\",\"eculizumab\",\"на\",\"40-60\",\"multi-hop\",\"Møller\",\"ridgetops\",\"scrapers\",\"extorted\",\"Amines\",\"tenacity\",\"rem\",\"Abduction\",\"Coman\",\"hydroids\",\"saṃsāra\",\"Fenmore\",\"recesses\",\"artists\",\"Mid-Ulster\",\"terebinthifolius\",\"'temporale\",\"pear\",\"excreting\",\"GMO\",\"lading\",\"Hennepin\",\"nanorobots\",\"cowardice\",\"eighteenth\",\"Zhangjiang\",\"baserunners\",\"Flows\",\"synch\",\"sediment\",\"Question\",\"Rodrigues\",\"employable\",\"Rusty\",\"Weichai\",\"otolaryngology\",\"Tatsu\",\"Sanofi-Aventis\",\"family-wise\",\"piperidine\",\"381\",\"tactics\",\"PLTP\",\"deemed\",\"non-availability\",\"Whorf\",\"navel\",\"NAUI\",\"Klout\",\"-codice_62\",\"Wilcke\",\"amidships\",\"BMP\",\"Szacki\",\"RON\",\"sumptuary\",\"Kapital\",\"Keras\",\"Acrylic\",\"sternocleidomastoid\",\"ReLUs\",\"reconsidered\",\"Volkswagen\",\"Bris\",\"Gerrit\",\"\\u002fp\\u002f\",\"Marlin\",\"1890\",\"binary-to-text\",\"goblin\",\"relapsing-remitting\",\"PowerPC\",\"Schwarz\",\"Pforzheim\",\"Prediction.io\",\"sibutramine\",\"incumbency\",\"HIT\",\"OriginalTable\",\"distinctness\",\"Shriners\",\"Kenner\",\"Launceston\",\"Tā\",\"Hoche\",\"Adamson\",\"LDH\",\"K12\",\"Aske\",\"2,2,4-trimethylpentane\",\"Na+\",\"individualization\",\"Polylactic\",\"fifty-meter-tall\",\"Wimsey\",\"Oxidative\",\"CPPs\",\"Conforti\",\"Dons\",\"Entire\",\"broadness\",\"macular\",\"drivers\",\"tourniquet\",\"step-in\",\"Muriel\",\"complementary\",\"PGNCS\",\"Thermometers\"],\"x\":[30.148594,11.266919,-22.24482,23.482605,-19.993893,29.096312,-8.751219,23.838238,-9.878901,-27.664555,-3.726359,20.53016,-11.383624,1.3126427,-1.4185846,33.606915,20.465616,-6.8042,24.850435,44.53346,16.115648,3.4767962,0.88536185,-24.693125,20.472399,-2.2600293,39.21012,0.86244833,-3.9679685,7.8817244,-38.172684,31.294008,-13.411171,8.717018,-21.594986,-31.349606,4.2791147,-9.245259,-15.97672,-13.782555,43.714123,10.227683,-12.118164,-20.522985,5.713456,18.671652,-6.3625035,-0.1263593,-18.159897,22.70138,-9.376539,8.377509,-20.064295,-0.48811564,-0.20360608,16.273066,13.195819,-3.3016045,-17.353706,-39.445248,-35.346302,19.271328,27.062338,5.6034093,41.742355,-33.957466,39.275806,38.51979,30.57693,6.6624746,22.850174,-40.531956,13.747906,16.374691,-15.058379,6.2582607,32.348644,11.324794,-5.08086,-0.88339335,4.7840734,36.91482,-0.4304152,-7.839727,-17.057964,12.889418,38.040764,-2.2205927,21.926268,-28.771149,10.50258,24.587444,-17.949844,-5.1769333,-1.0065084,-8.165374,8.394656,-6.1873484,25.567148,-23.428122,-0.44554293,-9.010348,19.197416,-35.783974,41.152325,8.72524,18.289318,-16.346102,9.519226,-35.45843,1.7682487,-30.976805,14.902711,-24.592503,21.92884,27.135342,11.680724,-12.759935,19.69588,-15.287122,-7.0015864,12.939989,27.006393,-5.125713,32.56862,17.42698,-31.190826,-6.3393297,-0.7326446,-36.077602,-5.035083,22.745005,2.049322,20.96972,-6.865129,-1.6503059,21.960464,18.481134,-10.180672,-11.3122835,-22.415049,-5.1925025,-37.687412,-0.23806795,9.297139,11.13697,-25.86931,-5.853665,-2.235582,-26.878819,-43.86757,-16.699074,3.4330742,31.144695,14.883864,29.368511,12.388495,24.013906,33.720158,-7.275401,32.219696,-33.243664,1.5658308,-5.206966,1.0784178,-1.0452257,-28.172983,-9.242193,4.3842773,3.380261,-36.08322,-4.0173044,12.07644,14.530635,12.514368,2.3463526,28.197277,2.355887,-21.725582,0.4970847,-7.752151,-15.786543,-30.757643,-7.465812,-45.89969,18.038532,-5.172172,5.539331,23.26755,-9.103446,-17.889194,-18.715403,-30.70545,-0.21547432,-18.530169,-3.1976569,31.246964,-10.398518,4.690941,14.490407],\"y\":[-12.296404,-24.337349,9.659533,23.992382,10.405297,-28.144278,16.638536,-16.168104,-12.289504,21.886683,-3.5771036,27.15958,5.2295365,-4.2481556,2.2549012,23.797794,-5.173379,2.638199,-12.03398,1.4085428,-11.4482155,-10.114305,11.758019,-2.6765735,32.75917,-7.8002048,-0.027678441,-16.882511,21.873016,8.382317,-8.465889,0.40698794,-23.765646,22.809286,11.253084,8.28485,17.355772,14.135461,-5.3040338,10.369684,-4.9178057,31.45905,-34.306374,22.736963,30.582787,-9.027379,-31.84436,-25.643696,21.923529,13.666455,-22.783619,-13.808189,4.0960274,23.445831,-4.813063,-21.120182,4.3740187,3.7766995,-31.458778,-4.0308194,13.604427,6.4786253,20.148544,-5.945732,7.6875725,11.571409,3.038387,9.280316,11.668433,1.0601524,-22.06513,9.524979,-28.742126,33.453773,-24.807638,6.433147,-13.842424,23.229712,-10.791702,14.920387,-5.824487,-9.259528,-17.074194,-4.4285107,-38.336143,-0.780433,20.762163,-8.406807,-7.177287,4.7243876,35.495434,12.73504,-7.6020594,-29.074461,-0.6829254,-7.9568906,27.109306,-4.2262063,10.159181,1.1116744,-5.8497524,22.09865,23.660679,14.332176,18.254147,21.883713,-7.3585615,-13.967284,-20.472574,-2.43793,3.1883204,1.9611925,4.3905582,-18.981808,18.275126,29.106392,-11.778822,9.331406,-6.386235,17.83146,-27.130604,-37.00709,-18.628616,3.663493,20.62303,-35.260098,-20.538788,9.930466,13.194674,6.8737893,-32.187363,2.203817,-1.1196033,-18.605324,-19.713789,4.796929,15.163643,5.8481874,0.4270247,34.64082,-18.227083,15.171003,-2.152865,-31.124542,-14.801576,-25.900108,15.751494,19.503689,-35.31291,2.9074042,5.440745,-14.875775,14.038098,-28.951279,25.783691,-10.102394,-0.45109996,-13.805107,-2.1379564,-28.622587,0.9259868,5.7240047,-33.950943,16.807447,9.044842,0.4910645,-11.335635,24.13151,-16.547476,-44.088757,22.644659,15.549605,14.051707,-9.068346,-16.15972,13.4537525,18.209778,-4.100359,6.1428304,19.601036,0.47250128,-2.322001,20.377567,-2.653839,9.310901,23.240314,-23.908129,-25.427338,-12.962959,18.471304,-7.0844646,14.301985,-16.226324,-44.26721,-17.086077,6.954087,18.992985,-32.789467,4.5830173,-21.065336],\"z\":[-20.076284,-4.908237,12.676502,-16.753834,-5.161112,-9.994369,17.05423,-17.855972,-9.924668,-8.824216,0.6737647,-28.24072,-36.93273,19.260754,15.460048,-11.216147,-10.831061,6.0232563,-0.76234984,0.2963326,8.983614,-21.60361,12.734042,18.378775,-0.45096195,-30.643383,-11.851744,14.82584,-27.83452,-6.6686907,-0.82645535,-26.22225,0.03006469,2.154019,18.624277,-4.383719,-32.882866,-28.49565,-28.119364,-20.72929,-1.4777973,-7.2304797,18.274036,-2.6999695,-1.1118644,4.332853,1.9052655,0.0008931863,3.6146536,-20.1566,-7.681797,25.780544,-4.1022215,-17.948782,-22.931805,-6.395659,1.0528197,-29.800741,-14.910305,6.2085633,-20.174625,-25.95766,24.110199,-9.878824,0.7401023,-7.985808,-14.826683,-9.718779,6.410419,-1.1473062,18.000414,8.783018,12.729183,-9.82841,13.86953,-41.162407,-5.081978,-9.710372,17.680656,6.456909,-3.8736677,3.9906704,-15.252485,-5.14368,-6.749639,2.7534008,-1.5570202,-11.222426,7.1195183,9.958692,-20.350657,4.6966367,0.20711997,-9.588328,-8.406413,25.146482,6.5858855,-13.247252,-1.6596259,-31.166534,36.186695,1.1225474,-8.009047,6.97384,8.530568,-25.133553,25.727144,-4.3434844,39.48464,10.9249935,30.396053,-16.435392,-15.981096,-10.6469345,-15.958002,13.692573,-15.722718,-13.842657,-1.9043124,-23.092697,34.22695,-10.546691,-1.2318463,-7.5042996,-2.6561148,4.85533,6.8729763,-7.1382756,19.307058,-13.737925,20.687757,-28.139448,-40.732693,4.3715115,-32.13713,22.619478,9.0548725,27.882008,-24.732409,-15.408638,-20.797342,-1.6144751,-14.7438135,-12.301175,6.356329,10.086107,-5.515381,7.3283973,-0.28715238,-0.18985286,-10.220969,11.8357725,24.93506,-6.5452194,-4.438155,7.74145,-7.8771963,-6.4082847,-21.715939,-18.068829,10.630429,14.60059,-6.250727,23.79239,-4.9490066,7.575162,14.951686,-19.641094,7.4323373,-9.784896,-11.953882,-25.685602,14.949817,-12.028945,15.233995,-23.950808,2.1191673,1.0278933,-10.631948,0.88990915,16.522501,16.482437,-16.506306,21.882313,-3.6777267,0.884709,19.495691,20.94201,4.9351897,-21.123322,6.1614637,6.2972193,12.894516,9.260783,21.572294,5.167815,-8.396031,5.337116,4.905133,2.1880224],\"type\":\"scatter3d\",\"textfont\":{\"size\":10}}],                        {\"template\":{\"data\":{\"histogram2dcontour\":[{\"type\":\"histogram2dcontour\",\"colorbar\":{\"outlinewidth\":0,\"ticks\":\"\"},\"colorscale\":[[0.0,\"#0d0887\"],[0.1111111111111111,\"#46039f\"],[0.2222222222222222,\"#7201a8\"],[0.3333333333333333,\"#9c179e\"],[0.4444444444444444,\"#bd3786\"],[0.5555555555555556,\"#d8576b\"],[0.6666666666666666,\"#ed7953\"],[0.7777777777777778,\"#fb9f3a\"],[0.8888888888888888,\"#fdca26\"],[1.0,\"#f0f921\"]]}],\"choropleth\":[{\"type\":\"choropleth\",\"colorbar\":{\"outlinewidth\":0,\"ticks\":\"\"}}],\"histogram2d\":[{\"type\":\"histogram2d\",\"colorbar\":{\"outlinewidth\":0,\"ticks\":\"\"},\"colorscale\":[[0.0,\"#0d0887\"],[0.1111111111111111,\"#46039f\"],[0.2222222222222222,\"#7201a8\"],[0.3333333333333333,\"#9c179e\"],[0.4444444444444444,\"#bd3786\"],[0.5555555555555556,\"#d8576b\"],[0.6666666666666666,\"#ed7953\"],[0.7777777777777778,\"#fb9f3a\"],[0.8888888888888888,\"#fdca26\"],[1.0,\"#f0f921\"]]}],\"heatmap\":[{\"type\":\"heatmap\",\"colorbar\":{\"outlinewidth\":0,\"ticks\":\"\"},\"colorscale\":[[0.0,\"#0d0887\"],[0.1111111111111111,\"#46039f\"],[0.2222222222222222,\"#7201a8\"],[0.3333333333333333,\"#9c179e\"],[0.4444444444444444,\"#bd3786\"],[0.5555555555555556,\"#d8576b\"],[0.6666666666666666,\"#ed7953\"],[0.7777777777777778,\"#fb9f3a\"],[0.8888888888888888,\"#fdca26\"],[1.0,\"#f0f921\"]]}],\"heatmapgl\":[{\"type\":\"heatmapgl\",\"colorbar\":{\"outlinewidth\":0,\"ticks\":\"\"},\"colorscale\":[[0.0,\"#0d0887\"],[0.1111111111111111,\"#46039f\"],[0.2222222222222222,\"#7201a8\"],[0.3333333333333333,\"#9c179e\"],[0.4444444444444444,\"#bd3786\"],[0.5555555555555556,\"#d8576b\"],[0.6666666666666666,\"#ed7953\"],[0.7777777777777778,\"#fb9f3a\"],[0.8888888888888888,\"#fdca26\"],[1.0,\"#f0f921\"]]}],\"contourcarpet\":[{\"type\":\"contourcarpet\",\"colorbar\":{\"outlinewidth\":0,\"ticks\":\"\"}}],\"contour\":[{\"type\":\"contour\",\"colorbar\":{\"outlinewidth\":0,\"ticks\":\"\"},\"colorscale\":[[0.0,\"#0d0887\"],[0.1111111111111111,\"#46039f\"],[0.2222222222222222,\"#7201a8\"],[0.3333333333333333,\"#9c179e\"],[0.4444444444444444,\"#bd3786\"],[0.5555555555555556,\"#d8576b\"],[0.6666666666666666,\"#ed7953\"],[0.7777777777777778,\"#fb9f3a\"],[0.8888888888888888,\"#fdca26\"],[1.0,\"#f0f921\"]]}],\"surface\":[{\"type\":\"surface\",\"colorbar\":{\"outlinewidth\":0,\"ticks\":\"\"},\"colorscale\":[[0.0,\"#0d0887\"],[0.1111111111111111,\"#46039f\"],[0.2222222222222222,\"#7201a8\"],[0.3333333333333333,\"#9c179e\"],[0.4444444444444444,\"#bd3786\"],[0.5555555555555556,\"#d8576b\"],[0.6666666666666666,\"#ed7953\"],[0.7777777777777778,\"#fb9f3a\"],[0.8888888888888888,\"#fdca26\"],[1.0,\"#f0f921\"]]}],\"mesh3d\":[{\"type\":\"mesh3d\",\"colorbar\":{\"outlinewidth\":0,\"ticks\":\"\"}}],\"scatter\":[{\"fillpattern\":{\"fillmode\":\"overlay\",\"size\":10,\"solidity\":0.2},\"type\":\"scatter\"}],\"parcoords\":[{\"type\":\"parcoords\",\"line\":{\"colorbar\":{\"outlinewidth\":0,\"ticks\":\"\"}}}],\"scatterpolargl\":[{\"type\":\"scatterpolargl\",\"marker\":{\"colorbar\":{\"outlinewidth\":0,\"ticks\":\"\"}}}],\"bar\":[{\"error_x\":{\"color\":\"#2a3f5f\"},\"error_y\":{\"color\":\"#2a3f5f\"},\"marker\":{\"line\":{\"color\":\"#E5ECF6\",\"width\":0.5},\"pattern\":{\"fillmode\":\"overlay\",\"size\":10,\"solidity\":0.2}},\"type\":\"bar\"}],\"scattergeo\":[{\"type\":\"scattergeo\",\"marker\":{\"colorbar\":{\"outlinewidth\":0,\"ticks\":\"\"}}}],\"scatterpolar\":[{\"type\":\"scatterpolar\",\"marker\":{\"colorbar\":{\"outlinewidth\":0,\"ticks\":\"\"}}}],\"histogram\":[{\"marker\":{\"pattern\":{\"fillmode\":\"overlay\",\"size\":10,\"solidity\":0.2}},\"type\":\"histogram\"}],\"scattergl\":[{\"type\":\"scattergl\",\"marker\":{\"colorbar\":{\"outlinewidth\":0,\"ticks\":\"\"}}}],\"scatter3d\":[{\"type\":\"scatter3d\",\"line\":{\"colorbar\":{\"outlinewidth\":0,\"ticks\":\"\"}},\"marker\":{\"colorbar\":{\"outlinewidth\":0,\"ticks\":\"\"}}}],\"scattermapbox\":[{\"type\":\"scattermapbox\",\"marker\":{\"colorbar\":{\"outlinewidth\":0,\"ticks\":\"\"}}}],\"scatterternary\":[{\"type\":\"scatterternary\",\"marker\":{\"colorbar\":{\"outlinewidth\":0,\"ticks\":\"\"}}}],\"scattercarpet\":[{\"type\":\"scattercarpet\",\"marker\":{\"colorbar\":{\"outlinewidth\":0,\"ticks\":\"\"}}}],\"carpet\":[{\"aaxis\":{\"endlinecolor\":\"#2a3f5f\",\"gridcolor\":\"white\",\"linecolor\":\"white\",\"minorgridcolor\":\"white\",\"startlinecolor\":\"#2a3f5f\"},\"baxis\":{\"endlinecolor\":\"#2a3f5f\",\"gridcolor\":\"white\",\"linecolor\":\"white\",\"minorgridcolor\":\"white\",\"startlinecolor\":\"#2a3f5f\"},\"type\":\"carpet\"}],\"table\":[{\"cells\":{\"fill\":{\"color\":\"#EBF0F8\"},\"line\":{\"color\":\"white\"}},\"header\":{\"fill\":{\"color\":\"#C8D4E3\"},\"line\":{\"color\":\"white\"}},\"type\":\"table\"}],\"barpolar\":[{\"marker\":{\"line\":{\"color\":\"#E5ECF6\",\"width\":0.5},\"pattern\":{\"fillmode\":\"overlay\",\"size\":10,\"solidity\":0.2}},\"type\":\"barpolar\"}],\"pie\":[{\"automargin\":true,\"type\":\"pie\"}]},\"layout\":{\"autotypenumbers\":\"strict\",\"colorway\":[\"#636efa\",\"#EF553B\",\"#00cc96\",\"#ab63fa\",\"#FFA15A\",\"#19d3f3\",\"#FF6692\",\"#B6E880\",\"#FF97FF\",\"#FECB52\"],\"font\":{\"color\":\"#2a3f5f\"},\"hovermode\":\"closest\",\"hoverlabel\":{\"align\":\"left\"},\"paper_bgcolor\":\"white\",\"plot_bgcolor\":\"#E5ECF6\",\"polar\":{\"bgcolor\":\"#E5ECF6\",\"angularaxis\":{\"gridcolor\":\"white\",\"linecolor\":\"white\",\"ticks\":\"\"},\"radialaxis\":{\"gridcolor\":\"white\",\"linecolor\":\"white\",\"ticks\":\"\"}},\"ternary\":{\"bgcolor\":\"#E5ECF6\",\"aaxis\":{\"gridcolor\":\"white\",\"linecolor\":\"white\",\"ticks\":\"\"},\"baxis\":{\"gridcolor\":\"white\",\"linecolor\":\"white\",\"ticks\":\"\"},\"caxis\":{\"gridcolor\":\"white\",\"linecolor\":\"white\",\"ticks\":\"\"}},\"coloraxis\":{\"colorbar\":{\"outlinewidth\":0,\"ticks\":\"\"}},\"colorscale\":{\"sequential\":[[0.0,\"#0d0887\"],[0.1111111111111111,\"#46039f\"],[0.2222222222222222,\"#7201a8\"],[0.3333333333333333,\"#9c179e\"],[0.4444444444444444,\"#bd3786\"],[0.5555555555555556,\"#d8576b\"],[0.6666666666666666,\"#ed7953\"],[0.7777777777777778,\"#fb9f3a\"],[0.8888888888888888,\"#fdca26\"],[1.0,\"#f0f921\"]],\"sequentialminus\":[[0.0,\"#0d0887\"],[0.1111111111111111,\"#46039f\"],[0.2222222222222222,\"#7201a8\"],[0.3333333333333333,\"#9c179e\"],[0.4444444444444444,\"#bd3786\"],[0.5555555555555556,\"#d8576b\"],[0.6666666666666666,\"#ed7953\"],[0.7777777777777778,\"#fb9f3a\"],[0.8888888888888888,\"#fdca26\"],[1.0,\"#f0f921\"]],\"diverging\":[[0,\"#8e0152\"],[0.1,\"#c51b7d\"],[0.2,\"#de77ae\"],[0.3,\"#f1b6da\"],[0.4,\"#fde0ef\"],[0.5,\"#f7f7f7\"],[0.6,\"#e6f5d0\"],[0.7,\"#b8e186\"],[0.8,\"#7fbc41\"],[0.9,\"#4d9221\"],[1,\"#276419\"]]},\"xaxis\":{\"gridcolor\":\"white\",\"linecolor\":\"white\",\"ticks\":\"\",\"title\":{\"standoff\":15},\"zerolinecolor\":\"white\",\"automargin\":true,\"zerolinewidth\":2},\"yaxis\":{\"gridcolor\":\"white\",\"linecolor\":\"white\",\"ticks\":\"\",\"title\":{\"standoff\":15},\"zerolinecolor\":\"white\",\"automargin\":true,\"zerolinewidth\":2},\"scene\":{\"xaxis\":{\"backgroundcolor\":\"#E5ECF6\",\"gridcolor\":\"white\",\"linecolor\":\"white\",\"showbackground\":true,\"ticks\":\"\",\"zerolinecolor\":\"white\",\"gridwidth\":2},\"yaxis\":{\"backgroundcolor\":\"#E5ECF6\",\"gridcolor\":\"white\",\"linecolor\":\"white\",\"showbackground\":true,\"ticks\":\"\",\"zerolinecolor\":\"white\",\"gridwidth\":2},\"zaxis\":{\"backgroundcolor\":\"#E5ECF6\",\"gridcolor\":\"white\",\"linecolor\":\"white\",\"showbackground\":true,\"ticks\":\"\",\"zerolinecolor\":\"white\",\"gridwidth\":2}},\"shapedefaults\":{\"line\":{\"color\":\"#2a3f5f\"}},\"annotationdefaults\":{\"arrowcolor\":\"#2a3f5f\",\"arrowhead\":0,\"arrowwidth\":1},\"geo\":{\"bgcolor\":\"white\",\"landcolor\":\"#E5ECF6\",\"subunitcolor\":\"white\",\"showland\":true,\"showlakes\":true,\"lakecolor\":\"white\"},\"title\":{\"x\":0.05},\"mapbox\":{\"style\":\"light\"}}},\"scene\":{\"domain\":{\"x\":[0.0,1.0],\"y\":[0.0,1.0]},\"xaxis\":{\"title\":{\"text\":\"x\"}},\"yaxis\":{\"title\":{\"text\":\"y\"}},\"zaxis\":{\"title\":{\"text\":\"z\"}}},\"legend\":{\"tracegroupgap\":0},\"margin\":{\"t\":60}},                        {\"responsive\": true}                    ).then(function(){\n",
              "                            \n",
              "var gd = document.getElementById('f95ffea1-eb5c-48a3-bdfe-f32fe6410de3');\n",
              "var x = new MutationObserver(function (mutations, observer) {{\n",
              "        var display = window.getComputedStyle(gd).display;\n",
              "        if (!display || display === 'none') {{\n",
              "            console.log([gd, 'removed!']);\n",
              "            Plotly.purge(gd);\n",
              "            observer.disconnect();\n",
              "        }}\n",
              "}});\n",
              "\n",
              "// Listen for the removal of the full notebook cells\n",
              "var notebookContainer = gd.closest('#notebook-container');\n",
              "if (notebookContainer) {{\n",
              "    x.observe(notebookContainer, {childList: true});\n",
              "}}\n",
              "\n",
              "// Listen for the clearing of the current output cell\n",
              "var outputEl = gd.closest('.output');\n",
              "if (outputEl) {{\n",
              "    x.observe(outputEl, {childList: true});\n",
              "}}\n",
              "\n",
              "                        })                };                            </script>        </div>\n",
              "</body>\n",
              "</html>"
            ]
          },
          "metadata": {}
        }
      ]
    },
    {
      "cell_type": "code",
      "source": [
        "# Add some specific terms to sample:\n",
        "colours = ['red','green','blue','orange','yellow','purple','pink','cream','brown','black','white','gray']\n",
        "\n",
        "word_vectors = model.wv[colours+sample]\n",
        "\n",
        "tsne = TSNE(n_components=3)\n",
        "tsne_embedding = tsne.fit_transform(word_vectors)\n",
        "\n",
        "x, y, z = np.transpose(tsne_embedding)\n",
        "\n",
        "\n",
        "import plotly.express as px\n",
        "\n",
        "r = (-200,200)\n",
        "fig = px.scatter_3d(x=x, y=y, z=z, range_x=r, range_y=r, range_z=r, text=colours + [None] * 500)\n",
        "fig.update_traces(marker=dict(size=3,line=dict(width=2)),textfont_size=10)\n",
        "fig.show()"
      ],
      "metadata": {
        "colab": {
          "base_uri": "https://localhost:8080/",
          "height": 542
        },
        "id": "03qikBRdHys0",
        "outputId": "7bfda1aa-e0a8-409b-ab13-e4c6b49473ee"
      },
      "execution_count": 39,
      "outputs": [
        {
          "output_type": "display_data",
          "data": {
            "text/html": [
              "<html>\n",
              "<head><meta charset=\"utf-8\" /></head>\n",
              "<body>\n",
              "    <div>            <script src=\"https://cdnjs.cloudflare.com/ajax/libs/mathjax/2.7.5/MathJax.js?config=TeX-AMS-MML_SVG\"></script><script type=\"text/javascript\">if (window.MathJax && window.MathJax.Hub && window.MathJax.Hub.Config) {window.MathJax.Hub.Config({SVG: {font: \"STIX-Web\"}});}</script>                <script type=\"text/javascript\">window.PlotlyConfig = {MathJaxConfig: 'local'};</script>\n",
              "        <script charset=\"utf-8\" src=\"https://cdn.plot.ly/plotly-2.35.2.min.js\"></script>                <div id=\"cdebae60-4bdd-449c-9123-babab4ca7633\" class=\"plotly-graph-div\" style=\"height:525px; width:100%;\"></div>            <script type=\"text/javascript\">                                    window.PLOTLYENV=window.PLOTLYENV || {};                                    if (document.getElementById(\"cdebae60-4bdd-449c-9123-babab4ca7633\")) {                    Plotly.newPlot(                        \"cdebae60-4bdd-449c-9123-babab4ca7633\",                        [{\"hovertemplate\":\"x=%{x}\\u003cbr\\u003ey=%{y}\\u003cbr\\u003ez=%{z}\\u003cbr\\u003etext=%{text}\\u003cextra\\u003e\\u003c\\u002fextra\\u003e\",\"legendgroup\":\"\",\"marker\":{\"color\":\"#636efa\",\"symbol\":\"circle\",\"line\":{\"width\":2},\"size\":3},\"mode\":\"markers+text\",\"name\":\"\",\"scene\":\"scene\",\"showlegend\":false,\"text\":[\"red\",\"green\",\"blue\",\"orange\",\"yellow\",\"purple\",\"pink\",\"cream\",\"brown\",\"black\",\"white\",\"gray\",null,null,null,null,null,null,null,null,null,null,null,null,null,null,null,null,null,null,null,null,null,null,null,null,null,null,null,null,null,null,null,null,null,null,null,null,null,null,null,null,null,null,null,null,null,null,null,null,null,null,null,null,null,null,null,null,null,null,null,null,null,null,null,null,null,null,null,null,null,null,null,null,null,null,null,null,null,null,null,null,null,null,null,null,null,null,null,null,null,null,null,null,null,null,null,null,null,null,null,null,null,null,null,null,null,null,null,null,null,null,null,null,null,null,null,null,null,null,null,null,null,null,null,null,null,null,null,null,null,null,null,null,null,null,null,null,null,null,null,null,null,null,null,null,null,null,null,null,null,null,null,null,null,null,null,null,null,null,null,null,null,null,null,null,null,null,null,null,null,null,null,null,null,null,null,null,null,null,null,null,null,null,null,null,null,null,null,null,null,null,null,null,null,null,null,null,null,null,null,null,null,null,null,null,null,null,null,null,null,null,null,null,null,null,null,null,null,null,null,null,null,null,null,null,null,null,null,null,null,null,null,null,null,null,null,null,null,null,null,null,null,null,null,null,null,null,null,null,null,null,null,null,null,null,null,null,null,null,null,null,null,null,null,null,null,null,null,null,null,null,null,null,null,null,null,null,null,null,null,null,null,null,null,null,null,null,null,null,null,null,null,null,null,null,null,null,null,null,null,null,null,null,null,null,null,null,null,null,null,null,null,null,null,null,null,null,null,null,null,null,null,null,null,null,null,null,null,null,null,null,null,null,null,null,null,null,null,null,null,null,null,null,null,null,null,null,null,null,null,null,null,null,null,null,null,null,null,null,null,null,null,null,null,null,null,null,null,null,null,null,null,null,null,null,null,null,null,null,null,null,null,null,null,null,null,null,null,null,null,null,null,null,null,null,null,null,null,null,null,null,null,null,null,null,null,null,null,null,null,null,null,null,null,null,null,null,null,null,null,null,null,null,null,null,null,null,null,null,null,null,null,null,null,null,null,null,null,null,null,null,null,null,null,null,null,null,null,null,null,null,null,null,null,null,null,null,null,null,null,null,null,null,null,null,null,null,null,null,null,null,null,null,null,null,null,null,null,null,null,null,null,null,null,null,null,null,null,null,null,null,null,null,null,null,null,null,null,null,null,null],\"x\":[25.164415,17.334263,21.160341,28.32747,25.668192,23.026413,25.392649,29.274744,29.573498,19.11895,23.07705,20.84669,-7.851311,22.55727,7.9805737,-30.471947,-22.466387,34.71336,-2.046597,-2.6770468,-8.95629,-24.24072,-6.5817747,-8.590382,-36.633236,9.821306,7.4115834,-2.7018294,1.6126227,-2.2016518,10.29756,25.241081,3.3080106,-8.572051,-2.8921273,11.137483,-30.363968,-11.715382,2.5483823,17.885254,-32.08333,-1.6556802,-7.173442,-16.807806,15.195407,-17.124035,12.538416,-13.040408,-30.287012,-29.109428,-41.45995,-23.306183,27.445911,-12.096942,19.000381,-21.474657,-18.94597,9.041123,23.255974,11.9257765,-16.749784,-24.988209,17.40635,20.136482,2.0020168,-27.092813,-11.883002,16.901821,-0.57859707,-17.613976,33.973938,2.9308221,-26.805832,-15.741067,10.558113,0.12807709,21.16918,-17.977215,-0.2734745,5.700909,-10.452943,1.6311389,21.211718,-3.172278,13.416663,-3.326009,25.660793,-4.604655,14.925792,-9.806852,23.58941,-9.971688,1.930091,8.4427185,5.087895,-2.7113688,39.31535,3.5902102,9.192806,-1.2140183,6.338596,2.2138712,-12.981957,-8.605158,1.5657237,19.179924,-8.221232,17.01632,-22.265318,-1.341153,-9.229041,-32.33785,25.259459,-17.88304,-6.777348,-8.486555,14.529932,-24.872402,10.911523,7.5286975,28.146467,4.265379,22.119736,-14.726518,-16.732584,-6.763291,-26.857052,-23.326971,-2.1480417,-17.73739,16.346548,-28.86539,19.611366,30.79402,15.608277,-7.270073,4.18044,30.14212,10.124902,-8.554979,1.8129089,-18.756548,34.441353,-10.83194,-1.7825544,17.169882,-30.329195,14.373488,-10.616105,5.9699073,-21.26277,-39.263367,-18.482859,-12.833949,-11.194769,21.649134,9.4041,9.885681,-33.15756,-19.165918,25.811127,-5.036001,-14.51303,18.15064,3.1344244,36.303467,-6.435559,7.811376,8.91381,11.682798,-13.20043,26.384077,11.77615,1.54699,22.048286,2.8334973,-6.1248474,3.13388,10.473865,-28.040201,10.186149,26.956354,-27.040623,-27.165419,-1.794635,-0.08245033,20.095757,-23.116926,-3.1581485,0.19377159,-18.129591,-15.07373,7.205563,5.487173,-27.509363,12.068622,-12.98421,-2.5958974,40.802902,37.1767,11.44436,-26.561394,4.7221813,-9.441814,9.964058,22.44932,5.47918,-3.0511153,-0.68705225,23.478266,8.318582,20.01183,11.355212,-2.430856,15.951451,-24.371502,11.775335,-3.3256884,-3.9326522,-14.439807,8.686688,-22.57135,-8.825869,14.370744,20.855696,15.32203,26.978598,-20.408213,13.082107,30.361969,-5.5406785,4.582122,-30.43695,30.912659,-2.4665918,-18.984177,30.267834,-14.471805,-25.06592,19.48853,-10.938232,-12.052394,16.796225,6.9621916,-0.48819092,5.287388,-11.369751,-14.377708,-14.230289,-4.516279,4.6565986,-15.146186,14.106496,1.5961,-16.125118,-16.183414,-4.7742133,-21.735947,-18.647596,0.14154688,-15.891162,2.3136554,-11.599592,38.666393,-7.1837144,5.776779,-5.955973,-17.665401,-19.20772,22.684618,0.5799182,-14.859098,2.4898155,23.127571,2.1115203,5.977577,30.814606,11.261658,-39.474342,-26.992895,-17.14791,-23.980799,-21.968042,-20.45849,4.0354443,6.1780953,11.936369,0.008625363,-14.27663,-9.466374,-13.3420925,-11.626462,13.414325,15.728818,22.965017,-10.108532,-34.930695,-19.325342,-31.736649,2.2007532,-22.699148,-30.54548,-15.022996,5.2532454,-24.929224,13.884049,-9.994021,17.248453,33.76727,15.208796,9.756039,-3.9121249,18.853107,6.548308,-16.337284,-0.14898337,25.106016,6.82743,17.127163,11.071279,-21.879004,-6.7283897,-27.092447,-0.33768055,-2.108085,6.885996,33.871532,-20.000013,-35.73406,-21.761946,26.84509,-2.531721,1.102249,12.549157,-14.609624,-29.409052,-8.276212,-42.48516,-19.504837,-3.259661,-14.765908,-2.245497,-10.733176,15.116379,-11.538878,-13.323083,-9.502071,22.240395,-21.604853,-15.209291,7.645734,20.136692,2.8567271,4.983985,-7.7355123,-15.84852,-19.999834,7.131727,-15.511731,17.828188,13.697575,31.41484,-9.456959,-27.96687,36.888313,37.166157,-6.6954327,-12.468297,3.494051,8.579273,13.719811,20.826338,25.12968,-10.393944,-21.992558,3.61568,8.841647,11.446628,-17.107164,-7.7581563,-18.731556,-4.1242533,5.996391,7.622114,13.080122,-24.258127,-7.107126,-20.497663,34.244705,-13.12832,-17.865509,20.961918,12.726592,-21.38223,1.7649667,0.2617373,15.459794,-19.226645,29.428879,-0.58388656,11.982915,-6.714162,-15.1630745,8.251265,21.619583,34.894238,30.55747,-18.320803,-21.91676,7.219863,-5.9395175,-7.1320972,-7.3928204,-17.70529,27.818861,-0.3263443,-4.450385,-19.301226,8.813512,-2.3277082,10.678031,6.567944,-13.800054,-14.881411,-10.968314,-23.474176,6.941523,-9.082786,-3.9479215,-22.446428,-11.341757,6.0029726,21.898018,-24.688437,-3.7669966,-13.073142,-22.445429,-4.355075,36.813778,19.121008,-11.389816,23.41896,-29.962849,11.552459,9.164877,-1.2710873,22.552847,25.847641,31.872574,16.347185,-4.5493717,1.3889219,21.857704,0.6225121,1.3794137,2.566394,-23.52812,18.18953,-15.8117485,13.47333,14.899457,29.532703,-23.424955,6.4067683,3.6945033,5.051495,-22.126398,32.24152,30.534683,-6.566319,-2.3475077,-20.297491,-15.684304,-6.3579974,16.00585,6.5221343,-16.086409,-33.333817,-28.67498,-2.0060482,5.768548,11.216226,-26.193727,-8.981215,12.137481,24.642822,-6.411901,-7.215604,-12.520176,20.04205,6.4648256,16.912132,7.5669436,-3.3348136,7.349816,-7.9070873,-10.626639,-28.159813,-16.204979,-21.977783,31.906448,30.533049,4.338328,28.88402,11.27186,-25.258476,-2.694547,15.387312,-26.285273,-9.49382,-14.268141,15.639113],\"y\":[34.221943,26.529316,31.022354,24.864582,29.488314,24.538647,26.79405,21.139765,30.223392,34.625107,32.9849,25.945208,-26.526112,-23.229982,1.1129441,-2.7939808,3.202548,-10.4972315,-25.733387,-21.55705,-14.485212,9.902038,-13.0015545,25.827818,13.145679,0.31838113,-3.6724122,13.670183,-4.2444997,-6.672887,-17.03701,2.8559659,-7.929636,-9.306868,-0.6743691,-0.07392232,8.412451,-21.979284,-0.97653294,-0.9101121,-8.695899,9.378787,10.949933,-26.240046,5.6885204,9.443186,-2.557226,7.6911016,-17.69314,-12.572861,0.62453127,-9.381345,0.4160294,10.559123,24.448202,9.557184,9.005419,-10.629268,-11.323135,-13.256623,12.964914,-10.999716,-16.789095,5.0333443,-17.636368,-2.688132,-13.3123455,-21.96101,-21.438702,-24.78388,-17.178421,18.932945,5.4935765,-21.842493,23.158463,-21.21721,2.1612666,7.8161745,1.6494367,5.494419,8.029104,-21.043758,0.8951991,20.028936,-34.679707,6.7159724,3.1570323,32.107597,-9.133987,18.63972,4.1162286,-0.8045003,-17.10768,-9.42726,-37.265823,-14.522146,-13.507593,-18.657467,10.7622595,-7.349027,-10.150289,4.967358,25.737516,3.1841142,-6.433749,-22.343075,-11.031729,7.868277,9.569102,-1.588438,0.269745,6.5268564,8.683793,9.933118,13.9688015,18.576868,2.8976214,-22.20944,1.8486995,-10.238897,21.561207,13.184846,-1.7864306,-0.44884717,-13.295384,-17.360954,-5.9460254,-22.332716,-12.608766,-6.7796535,-13.64416,-4.6315193,27.957361,-16.957859,-16.752972,-6.2293224,9.68593,-2.295543,27.36368,-0.5625189,2.058245,3.931604,8.49196,-23.117432,39.482906,-12.737981,26.792526,-6.424652,-0.46911767,21.673586,-16.995893,0.13545011,-29.420492,4.312911,-1.6531016,-24.58336,-18.842836,-32.178524,10.741719,11.187371,-14.066753,4.2346735,10.465647,10.408943,-33.349648,-7.295989,13.078031,-12.1331625,12.760544,-22.63835,-29.872187,-19.846775,4.4996014,11.174461,-19.645569,6.612383,4.129889,-8.509388,17.943132,-1.8859197,-22.583942,-23.017118,13.866451,-11.73868,4.093406,-10.280688,-22.05083,-13.27241,7.9872875,-13.3210745,-0.27489933,5.607508,1.6107188,12.87253,6.253774,4.341398,17.39591,16.990187,6.8982906,1.7123601,-11.536918,-5.605688,-3.3132212,11.511349,23.560001,-5.7641864,21.793192,-1.5011922,8.384389,-7.7096944,-22.346277,-15.642813,16.568577,-6.762529,-13.434414,11.158594,-4.83501,27.062511,-5.619974,2.537578,-10.5612135,-1.4721675,-31.28523,-28.202806,-3.0057087,1.5704998,-0.72090876,-13.658606,-16.473642,22.822237,21.762316,-18.188566,4.539399,-17.006268,25.879175,1.8293658,18.301947,-5.666701,5.7387624,18.228556,15.985027,-6.552944,-6.0456433,3.8565226,-12.670757,-4.7746835,-23.853195,13.132225,13.3612,15.471573,21.090393,14.729688,-5.672686,8.790971,3.3860645,0.17884369,36.295662,3.9678707,13.7453785,-22.632277,29.452728,-8.026956,-1.0650063,1.9427161,-26.82165,5.4890876,-3.2773569,-5.65634,-18.640638,-11.415436,-6.4649634,25.194592,0.27008232,-5.5796924,19.791674,-34.947098,-20.23175,-17.594547,-11.463975,7.2586513,-1.1698964,4.181013,15.445544,4.444864,36.13349,-26.954826,8.947636,-13.692412,-1.4779354,-18.175,-23.037767,-3.6901417,34.12797,6.000197,-12.197931,-1.7457589,-5.1303134,-13.229504,-14.478808,7.975945,12.884138,-14.526675,12.249421,25.73373,-4.3263884,18.457024,38.411774,5.2264,-8.761079,22.45183,-2.618218,28.540846,-28.268995,4.2076087,-4.6280947,3.12088,-11.337248,-3.3418136,4.2909946,-23.663294,-6.5807123,1.4294199,-4.218004,-24.149944,8.663045,9.119472,11.237402,-0.351721,16.728796,28.784613,1.6753701,-8.26686,-13.825523,-12.919206,-9.959982,7.159554,10.603714,0.83549845,-0.9241961,-13.309122,18.853796,-15.0486555,-16.019289,9.536004,-17.884737,18.641644,9.147672,-1.1855214,18.46063,-31.666878,32.829918,5.219064,-14.792677,-12.72245,-21.071293,-7.596963,-0.035100613,-15.429231,6.590027,1.152254,-14.163478,3.0512881,3.4080703,-7.636475,-12.302897,1.9412477,5.9758053,22.852747,23.078224,29.051466,17.849337,-10.439286,21.36593,5.1422687,5.3918443,36.177715,26.310196,27.379368,18.692673,2.892065,2.3773642,-17.002638,32.91563,11.819252,7.6906652,14.725457,8.75948,-10.050286,-8.293763,0.29271787,19.180004,9.292438,13.865738,19.216919,5.6346188,-0.8970173,26.910109,30.824047,-26.703787,13.299976,8.376737,-12.892026,0.66839904,7.717291,7.7073655,4.3919506,23.648827,-5.2043757,-9.804304,13.469606,-3.7585263,37.033806,25.002966,-16.13485,6.5430574,-0.6723474,12.950465,19.492168,-18.698814,-11.043154,-4.2331953,21.23021,7.488582,17.873064,-14.096803,-0.9958963,-23.3055,19.546871,6.6700015,-10.682961,4.065522,-18.475986,-29.440182,-6.3300376,-14.729318,-11.742874,10.295494,-3.1020837,-17.141453,-4.61148,-14.579203,-13.054317,24.709635,28.137873,-31.418552,13.518476,11.804159,-1.9369326,12.902759,-2.098346,-4.357898,-1.0676476,11.630532,19.505848,-17.864048,-6.887601,-22.644114,-16.009405,13.8112,-35.080757,-13.555808,22.101542,-17.49275,-3.6175835,-29.181108,-6.8478613,10.305544,0.61071366,-22.089067,-23.31382,-29.214554,-18.90238,9.89218,-4.150957,19.980358,-9.50936,-9.31939,-1.461784,16.401236,-7.9328556,10.220072,27.145357,27.744608,-13.299671,-8.456148,11.773455,3.727244,-21.642807,17.253128,12.919137,-5.183065,4.0806017,-16.350859,19.422207,-26.983707,-5.5513062,-12.414343,13.287156,-22.720547,-8.073344,-3.499364,-3.7738783,-16.051271,-14.2543,28.849329,2.8932343,13.977372,14.170341,-2.4568067,-8.086998,-14.612334,10.035479],\"z\":[-14.835572,-16.64179,-15.384299,-16.798838,-17.98096,-15.272087,-11.765762,-12.187188,-13.640791,-10.137353,-8.924549,-10.521302,-35.03855,-14.956623,32.626053,-24.522982,16.162384,-19.697472,-1.6146806,-34.12772,21.210741,21.19558,0.84377074,-24.162077,16.192541,-2.5706527,2.8869572,-33.873234,-34.457817,4.445992,-19.893898,-29.111036,-12.629875,-8.905412,-3.2604733,20.043247,-10.94913,-3.6396608,-44.7017,8.461216,-0.29939318,-1.9065942,36.297165,-24.803354,26.380852,-16.713215,32.842846,28.787882,-4.646243,7.2399044,13.198627,13.876291,-23.56948,-10.324823,16.013855,13.519478,-10.167607,-14.073214,11.1412945,12.6604595,12.859786,-19.1859,20.116226,-9.146407,26.433517,-7.3597193,-5.40212,-15.251413,-10.793838,19.849426,18.822054,17.319021,36.977226,-15.654039,-28.547113,7.423904,-34.074883,30.244919,-43.76818,-40.65055,-27.286734,-3.2163975,-14.376806,27.653427,-3.3692343,-10.184905,5.6234903,-13.652131,-24.551756,-14.091386,15.306247,-7.4170938,3.6667435,-33.38625,-8.256938,10.389727,10.745619,-9.442838,-31.453268,12.028327,-17.476074,29.360632,0.2753314,-24.624838,21.336775,14.642098,12.657404,7.4501467,-19.216007,12.895787,-30.313303,1.626245,-0.28980586,4.85619,-18.283112,24.128157,-41.042732,-10.168523,-13.814068,20.068008,-3.871344,15.912078,-1.4463928,32.765366,-14.175798,31.951872,-21.79176,-28.783173,-40.747402,11.580544,-5.4708276,10.343075,4.348243,-10.869639,-23.11648,9.6505,-30.974314,-12.159784,27.4854,7.6494164,-5.138023,36.52395,6.507439,-18.259129,-12.234432,-17.212605,-1.9599688,3.1032438,-21.858942,-10.719178,13.872986,-4.16182,6.839151,1.744967,38.9182,10.086545,-8.742711,-2.8520896,25.523214,-1.245933,7.1545057,20.914291,39.50805,21.780273,2.0931752,-18.445538,-12.635846,-25.315544,-18.12761,-21.665503,-26.336397,13.732688,-23.268682,30.687775,5.851555,-8.984442,3.534209,5.0002337,22.174063,1.3524137,-5.5274563,-3.062108,27.827896,1.8654872,-16.850307,-36.828377,-4.7388997,-3.1117506,-24.598675,0.77308506,19.005722,-3.9047735,6.972635,7.9424825,28.817583,6.655171,36.915237,-10.007883,2.2449007,10.510964,-19.159334,4.8400884,17.922018,12.075412,21.764374,26.983244,6.869259,4.9369755,-33.748238,14.573584,0.4778012,-12.194635,-21.445591,-20.178381,8.592865,8.744337,-8.530139,21.40751,-11.0637665,6.544629,5.026325,8.342902,-5.656428,-14.585772,-19.084597,-7.0201025,7.795333,-22.381886,-31.337954,8.358644,19.428934,15.622877,19.863688,4.029229,-1.4444526,2.0822206,-4.747766,-14.374994,1.8523699,-3.3421457,-5.8307567,4.2954154,-11.363963,22.064592,20.522255,-28.623945,-39.447613,-30.163584,-17.700426,3.97346,-5.5755396,-9.93306,-17.978756,22.472677,-16.313524,-8.800102,-10.890147,-11.261531,26.109728,-19.109072,-14.20345,-2.6928942,2.9111176,0.08829511,7.210171,0.5613661,-14.643344,6.218827,-0.31427965,2.5606573,39.218643,22.393526,-14.855717,-6.5225616,-24.111702,-13.702757,16.005957,5.5576296,6.698917,-6.0312195,-36.25626,6.7433634,36.137924,25.821741,11.158718,-5.468164,-10.185318,-22.54863,9.791447,5.597669,-23.409132,14.53781,2.174242,-37.43471,-25.561499,21.0008,19.63631,6.184718,-6.8250446,-27.790363,-10.814825,13.567209,34.707745,2.5757852,33.71179,-10.577226,-3.7365882,-30.675226,-5.7862945,-2.497286,-25.686935,10.034297,-4.1590548,-20.431694,-1.9793633,19.60783,-2.2939994,-18.219112,15.709708,8.6540785,-21.024002,41.357624,25.372126,-29.428688,15.664215,-40.356678,10.54918,31.00393,5.089827,3.3722394,27.182854,-27.908123,-9.565863,0.9913763,31.088766,11.132805,1.6310881,8.48727,-23.930788,-14.677887,-28.392935,-33.719784,-27.975468,16.235182,-8.880674,12.83612,18.850937,-25.381868,24.877247,-9.380018,14.608209,-22.654924,-4.813334,12.01605,-27.11151,36.49482,23.53145,-1.4589005,15.379268,-25.920378,-13.204186,-21.886538,11.901195,-16.021004,13.415128,4.7062087,27.45504,-26.269943,-14.491571,-3.5673156,1.6476315,-31.917597,0.05605123,-12.194674,-22.594296,5.0970387,-9.153939,22.654331,5.096589,-1.7155266,11.120088,-1.727674,-0.042391818,24.24701,-0.051368073,-0.017111948,-5.3605566,0.81490445,15.250104,-3.0581276,-8.122342,-8.082101,12.9187,12.954786,11.028417,-23.979397,-0.19026792,-10.897563,4.882819,-26.197811,9.334394,6.6181006,26.68453,13.820044,-34.975895,2.1344082,13.457362,23.57738,25.944035,-6.138274,13.737826,-7.817973,10.459552,22.007133,28.021122,25.287392,25.936523,-14.443192,23.93546,-3.6390107,12.852238,-26.335115,8.5589075,19.33556,31.228683,-3.3422005,-15.3438225,-3.2775352,8.218565,-12.285428,19.228428,-22.54568,8.155334,21.082308,14.826563,1.870849,32.945618,36.48031,5.116649,-31.502697,-32.373672,-16.931818,-6.371383,12.039792,-14.158766,7.4093285,11.28472,26.91899,14.808652,-1.1236862,22.099096,1.3633358,3.5493298,1.0605357,-38.363106,-22.594234,10.285616,15.038569,2.9226508,-13.203626,-35.575294,3.9356906,-7.8995214,-6.152974,16.393555,25.834385,26.213394,-10.886977,0.7391658,16.515673,-13.460637,-23.544785,22.24867,27.635925,20.792791,-7.3356333,19.236586,8.840129,7.0987797,28.322624,4.443409,7.532131,0.29296216,-16.605816,-4.7583156,-10.914125,32.672405,-36.393635,29.192617,-3.0761595,9.01657,1.1728654,-29.153881,-3.0874195,12.912482,-0.33492872,-24.852634,18.258955,9.455154,-7.590074,26.858799,-5.755916,-15.048331,-6.7252083,16.625631,24.16115,17.403461,5.8569613,17.49855,19.771093,11.415702,-11.64149],\"type\":\"scatter3d\",\"textfont\":{\"size\":10}}],                        {\"template\":{\"data\":{\"histogram2dcontour\":[{\"type\":\"histogram2dcontour\",\"colorbar\":{\"outlinewidth\":0,\"ticks\":\"\"},\"colorscale\":[[0.0,\"#0d0887\"],[0.1111111111111111,\"#46039f\"],[0.2222222222222222,\"#7201a8\"],[0.3333333333333333,\"#9c179e\"],[0.4444444444444444,\"#bd3786\"],[0.5555555555555556,\"#d8576b\"],[0.6666666666666666,\"#ed7953\"],[0.7777777777777778,\"#fb9f3a\"],[0.8888888888888888,\"#fdca26\"],[1.0,\"#f0f921\"]]}],\"choropleth\":[{\"type\":\"choropleth\",\"colorbar\":{\"outlinewidth\":0,\"ticks\":\"\"}}],\"histogram2d\":[{\"type\":\"histogram2d\",\"colorbar\":{\"outlinewidth\":0,\"ticks\":\"\"},\"colorscale\":[[0.0,\"#0d0887\"],[0.1111111111111111,\"#46039f\"],[0.2222222222222222,\"#7201a8\"],[0.3333333333333333,\"#9c179e\"],[0.4444444444444444,\"#bd3786\"],[0.5555555555555556,\"#d8576b\"],[0.6666666666666666,\"#ed7953\"],[0.7777777777777778,\"#fb9f3a\"],[0.8888888888888888,\"#fdca26\"],[1.0,\"#f0f921\"]]}],\"heatmap\":[{\"type\":\"heatmap\",\"colorbar\":{\"outlinewidth\":0,\"ticks\":\"\"},\"colorscale\":[[0.0,\"#0d0887\"],[0.1111111111111111,\"#46039f\"],[0.2222222222222222,\"#7201a8\"],[0.3333333333333333,\"#9c179e\"],[0.4444444444444444,\"#bd3786\"],[0.5555555555555556,\"#d8576b\"],[0.6666666666666666,\"#ed7953\"],[0.7777777777777778,\"#fb9f3a\"],[0.8888888888888888,\"#fdca26\"],[1.0,\"#f0f921\"]]}],\"heatmapgl\":[{\"type\":\"heatmapgl\",\"colorbar\":{\"outlinewidth\":0,\"ticks\":\"\"},\"colorscale\":[[0.0,\"#0d0887\"],[0.1111111111111111,\"#46039f\"],[0.2222222222222222,\"#7201a8\"],[0.3333333333333333,\"#9c179e\"],[0.4444444444444444,\"#bd3786\"],[0.5555555555555556,\"#d8576b\"],[0.6666666666666666,\"#ed7953\"],[0.7777777777777778,\"#fb9f3a\"],[0.8888888888888888,\"#fdca26\"],[1.0,\"#f0f921\"]]}],\"contourcarpet\":[{\"type\":\"contourcarpet\",\"colorbar\":{\"outlinewidth\":0,\"ticks\":\"\"}}],\"contour\":[{\"type\":\"contour\",\"colorbar\":{\"outlinewidth\":0,\"ticks\":\"\"},\"colorscale\":[[0.0,\"#0d0887\"],[0.1111111111111111,\"#46039f\"],[0.2222222222222222,\"#7201a8\"],[0.3333333333333333,\"#9c179e\"],[0.4444444444444444,\"#bd3786\"],[0.5555555555555556,\"#d8576b\"],[0.6666666666666666,\"#ed7953\"],[0.7777777777777778,\"#fb9f3a\"],[0.8888888888888888,\"#fdca26\"],[1.0,\"#f0f921\"]]}],\"surface\":[{\"type\":\"surface\",\"colorbar\":{\"outlinewidth\":0,\"ticks\":\"\"},\"colorscale\":[[0.0,\"#0d0887\"],[0.1111111111111111,\"#46039f\"],[0.2222222222222222,\"#7201a8\"],[0.3333333333333333,\"#9c179e\"],[0.4444444444444444,\"#bd3786\"],[0.5555555555555556,\"#d8576b\"],[0.6666666666666666,\"#ed7953\"],[0.7777777777777778,\"#fb9f3a\"],[0.8888888888888888,\"#fdca26\"],[1.0,\"#f0f921\"]]}],\"mesh3d\":[{\"type\":\"mesh3d\",\"colorbar\":{\"outlinewidth\":0,\"ticks\":\"\"}}],\"scatter\":[{\"fillpattern\":{\"fillmode\":\"overlay\",\"size\":10,\"solidity\":0.2},\"type\":\"scatter\"}],\"parcoords\":[{\"type\":\"parcoords\",\"line\":{\"colorbar\":{\"outlinewidth\":0,\"ticks\":\"\"}}}],\"scatterpolargl\":[{\"type\":\"scatterpolargl\",\"marker\":{\"colorbar\":{\"outlinewidth\":0,\"ticks\":\"\"}}}],\"bar\":[{\"error_x\":{\"color\":\"#2a3f5f\"},\"error_y\":{\"color\":\"#2a3f5f\"},\"marker\":{\"line\":{\"color\":\"#E5ECF6\",\"width\":0.5},\"pattern\":{\"fillmode\":\"overlay\",\"size\":10,\"solidity\":0.2}},\"type\":\"bar\"}],\"scattergeo\":[{\"type\":\"scattergeo\",\"marker\":{\"colorbar\":{\"outlinewidth\":0,\"ticks\":\"\"}}}],\"scatterpolar\":[{\"type\":\"scatterpolar\",\"marker\":{\"colorbar\":{\"outlinewidth\":0,\"ticks\":\"\"}}}],\"histogram\":[{\"marker\":{\"pattern\":{\"fillmode\":\"overlay\",\"size\":10,\"solidity\":0.2}},\"type\":\"histogram\"}],\"scattergl\":[{\"type\":\"scattergl\",\"marker\":{\"colorbar\":{\"outlinewidth\":0,\"ticks\":\"\"}}}],\"scatter3d\":[{\"type\":\"scatter3d\",\"line\":{\"colorbar\":{\"outlinewidth\":0,\"ticks\":\"\"}},\"marker\":{\"colorbar\":{\"outlinewidth\":0,\"ticks\":\"\"}}}],\"scattermapbox\":[{\"type\":\"scattermapbox\",\"marker\":{\"colorbar\":{\"outlinewidth\":0,\"ticks\":\"\"}}}],\"scatterternary\":[{\"type\":\"scatterternary\",\"marker\":{\"colorbar\":{\"outlinewidth\":0,\"ticks\":\"\"}}}],\"scattercarpet\":[{\"type\":\"scattercarpet\",\"marker\":{\"colorbar\":{\"outlinewidth\":0,\"ticks\":\"\"}}}],\"carpet\":[{\"aaxis\":{\"endlinecolor\":\"#2a3f5f\",\"gridcolor\":\"white\",\"linecolor\":\"white\",\"minorgridcolor\":\"white\",\"startlinecolor\":\"#2a3f5f\"},\"baxis\":{\"endlinecolor\":\"#2a3f5f\",\"gridcolor\":\"white\",\"linecolor\":\"white\",\"minorgridcolor\":\"white\",\"startlinecolor\":\"#2a3f5f\"},\"type\":\"carpet\"}],\"table\":[{\"cells\":{\"fill\":{\"color\":\"#EBF0F8\"},\"line\":{\"color\":\"white\"}},\"header\":{\"fill\":{\"color\":\"#C8D4E3\"},\"line\":{\"color\":\"white\"}},\"type\":\"table\"}],\"barpolar\":[{\"marker\":{\"line\":{\"color\":\"#E5ECF6\",\"width\":0.5},\"pattern\":{\"fillmode\":\"overlay\",\"size\":10,\"solidity\":0.2}},\"type\":\"barpolar\"}],\"pie\":[{\"automargin\":true,\"type\":\"pie\"}]},\"layout\":{\"autotypenumbers\":\"strict\",\"colorway\":[\"#636efa\",\"#EF553B\",\"#00cc96\",\"#ab63fa\",\"#FFA15A\",\"#19d3f3\",\"#FF6692\",\"#B6E880\",\"#FF97FF\",\"#FECB52\"],\"font\":{\"color\":\"#2a3f5f\"},\"hovermode\":\"closest\",\"hoverlabel\":{\"align\":\"left\"},\"paper_bgcolor\":\"white\",\"plot_bgcolor\":\"#E5ECF6\",\"polar\":{\"bgcolor\":\"#E5ECF6\",\"angularaxis\":{\"gridcolor\":\"white\",\"linecolor\":\"white\",\"ticks\":\"\"},\"radialaxis\":{\"gridcolor\":\"white\",\"linecolor\":\"white\",\"ticks\":\"\"}},\"ternary\":{\"bgcolor\":\"#E5ECF6\",\"aaxis\":{\"gridcolor\":\"white\",\"linecolor\":\"white\",\"ticks\":\"\"},\"baxis\":{\"gridcolor\":\"white\",\"linecolor\":\"white\",\"ticks\":\"\"},\"caxis\":{\"gridcolor\":\"white\",\"linecolor\":\"white\",\"ticks\":\"\"}},\"coloraxis\":{\"colorbar\":{\"outlinewidth\":0,\"ticks\":\"\"}},\"colorscale\":{\"sequential\":[[0.0,\"#0d0887\"],[0.1111111111111111,\"#46039f\"],[0.2222222222222222,\"#7201a8\"],[0.3333333333333333,\"#9c179e\"],[0.4444444444444444,\"#bd3786\"],[0.5555555555555556,\"#d8576b\"],[0.6666666666666666,\"#ed7953\"],[0.7777777777777778,\"#fb9f3a\"],[0.8888888888888888,\"#fdca26\"],[1.0,\"#f0f921\"]],\"sequentialminus\":[[0.0,\"#0d0887\"],[0.1111111111111111,\"#46039f\"],[0.2222222222222222,\"#7201a8\"],[0.3333333333333333,\"#9c179e\"],[0.4444444444444444,\"#bd3786\"],[0.5555555555555556,\"#d8576b\"],[0.6666666666666666,\"#ed7953\"],[0.7777777777777778,\"#fb9f3a\"],[0.8888888888888888,\"#fdca26\"],[1.0,\"#f0f921\"]],\"diverging\":[[0,\"#8e0152\"],[0.1,\"#c51b7d\"],[0.2,\"#de77ae\"],[0.3,\"#f1b6da\"],[0.4,\"#fde0ef\"],[0.5,\"#f7f7f7\"],[0.6,\"#e6f5d0\"],[0.7,\"#b8e186\"],[0.8,\"#7fbc41\"],[0.9,\"#4d9221\"],[1,\"#276419\"]]},\"xaxis\":{\"gridcolor\":\"white\",\"linecolor\":\"white\",\"ticks\":\"\",\"title\":{\"standoff\":15},\"zerolinecolor\":\"white\",\"automargin\":true,\"zerolinewidth\":2},\"yaxis\":{\"gridcolor\":\"white\",\"linecolor\":\"white\",\"ticks\":\"\",\"title\":{\"standoff\":15},\"zerolinecolor\":\"white\",\"automargin\":true,\"zerolinewidth\":2},\"scene\":{\"xaxis\":{\"backgroundcolor\":\"#E5ECF6\",\"gridcolor\":\"white\",\"linecolor\":\"white\",\"showbackground\":true,\"ticks\":\"\",\"zerolinecolor\":\"white\",\"gridwidth\":2},\"yaxis\":{\"backgroundcolor\":\"#E5ECF6\",\"gridcolor\":\"white\",\"linecolor\":\"white\",\"showbackground\":true,\"ticks\":\"\",\"zerolinecolor\":\"white\",\"gridwidth\":2},\"zaxis\":{\"backgroundcolor\":\"#E5ECF6\",\"gridcolor\":\"white\",\"linecolor\":\"white\",\"showbackground\":true,\"ticks\":\"\",\"zerolinecolor\":\"white\",\"gridwidth\":2}},\"shapedefaults\":{\"line\":{\"color\":\"#2a3f5f\"}},\"annotationdefaults\":{\"arrowcolor\":\"#2a3f5f\",\"arrowhead\":0,\"arrowwidth\":1},\"geo\":{\"bgcolor\":\"white\",\"landcolor\":\"#E5ECF6\",\"subunitcolor\":\"white\",\"showland\":true,\"showlakes\":true,\"lakecolor\":\"white\"},\"title\":{\"x\":0.05},\"mapbox\":{\"style\":\"light\"}}},\"scene\":{\"domain\":{\"x\":[0.0,1.0],\"y\":[0.0,1.0]},\"xaxis\":{\"title\":{\"text\":\"x\"},\"range\":[-200,200]},\"yaxis\":{\"title\":{\"text\":\"y\"},\"range\":[-200,200]},\"zaxis\":{\"title\":{\"text\":\"z\"},\"range\":[-200,200]}},\"legend\":{\"tracegroupgap\":0},\"margin\":{\"t\":60}},                        {\"responsive\": true}                    ).then(function(){\n",
              "                            \n",
              "var gd = document.getElementById('cdebae60-4bdd-449c-9123-babab4ca7633');\n",
              "var x = new MutationObserver(function (mutations, observer) {{\n",
              "        var display = window.getComputedStyle(gd).display;\n",
              "        if (!display || display === 'none') {{\n",
              "            console.log([gd, 'removed!']);\n",
              "            Plotly.purge(gd);\n",
              "            observer.disconnect();\n",
              "        }}\n",
              "}});\n",
              "\n",
              "// Listen for the removal of the full notebook cells\n",
              "var notebookContainer = gd.closest('#notebook-container');\n",
              "if (notebookContainer) {{\n",
              "    x.observe(notebookContainer, {childList: true});\n",
              "}}\n",
              "\n",
              "// Listen for the clearing of the current output cell\n",
              "var outputEl = gd.closest('.output');\n",
              "if (outputEl) {{\n",
              "    x.observe(outputEl, {childList: true});\n",
              "}}\n",
              "\n",
              "                        })                };                            </script>        </div>\n",
              "</body>\n",
              "</html>"
            ]
          },
          "metadata": {}
        }
      ]
    }
  ]
}