{
 "cells": [
  {
   "cell_type": "markdown",
   "metadata": {
    "colab_type": "text",
    "id": "view-in-github"
   },
   "source": [
    "<a href=\"https://colab.research.google.com/github/hirdeshkumar2407/NLP_Group_Assigment/blob/main/1_word2vec_working.ipynb\" target=\"_parent\"><img src=\"https://colab.research.google.com/assets/colab-badge.svg\" alt=\"Open In Colab\"/></a>"
   ]
  },
  {
   "cell_type": "markdown",
   "metadata": {
    "id": "1rpeJp0YmiJX"
   },
   "source": [
    "# Word2Vec: Initial Setup"
   ]
  },
  {
   "cell_type": "markdown",
   "metadata": {
    "id": "7szzS9_qmiHb"
   },
   "source": [
    "## Imports and stuff here:"
   ]
  },
  {
   "cell_type": "code",
   "execution_count": 23,
   "metadata": {
    "colab": {
     "base_uri": "https://localhost:8080/"
    },
    "id": "F2rVmMyoAJTj",
    "outputId": "aee7c65f-895b-4d2a-f5f7-d54ecba2b47a"
   },
   "outputs": [
    {
     "name": "stdout",
     "output_type": "stream",
     "text": [
      "Requirement already satisfied: gensim in /usr/local/lib/python3.11/dist-packages (4.3.3)\n",
      "Requirement already satisfied: numpy<2.0,>=1.18.5 in /usr/local/lib/python3.11/dist-packages (from gensim) (1.26.4)\n",
      "Requirement already satisfied: scipy<1.14.0,>=1.7.0 in /usr/local/lib/python3.11/dist-packages (from gensim) (1.13.1)\n",
      "Requirement already satisfied: smart-open>=1.8.1 in /usr/local/lib/python3.11/dist-packages (from gensim) (7.1.0)\n",
      "Requirement already satisfied: wrapt in /usr/local/lib/python3.11/dist-packages (from smart-open>=1.8.1->gensim) (1.17.2)\n"
     ]
    }
   ],
   "source": [
    "!pip install --upgrade gensim\n"
   ]
  },
  {
   "cell_type": "markdown",
   "metadata": {
    "id": "GeCnhZ8xBAho"
   },
   "source": [
    "**After running the \"!pip install --upgrade gensim\"\n",
    " above, you MUST restart the session from the runtime options and then run the cell below**"
   ]
  },
  {
   "cell_type": "code",
   "execution_count": 1,
   "metadata": {
    "colab": {
     "base_uri": "https://localhost:8080/"
    },
    "id": "YHDNpMYHlurP",
    "outputId": "6ce10fcc-e7a3-45e1-8644-19996eacd33a"
   },
   "outputs": [
    {
     "name": "stderr",
     "output_type": "stream",
     "text": [
      "[nltk_data] Downloading package punkt_tab to\n",
      "[nltk_data]     /home/fffeelipe/nltk_data...\n",
      "[nltk_data]   Package punkt_tab is already up-to-date!\n"
     ]
    },
    {
     "data": {
      "text/plain": [
       "True"
      ]
     },
     "execution_count": 1,
     "metadata": {},
     "output_type": "execute_result"
    }
   ],
   "source": [
    "# !pip install --upgrade gensim\n",
    "\n",
    "import gensim\n",
    "import re\n",
    "import nltk\n",
    "import string\n",
    "\n",
    "from gensim.models.word2vec import Word2Vec\n",
    "from nltk.tokenize import sent_tokenize, word_tokenize\n",
    "\n",
    "import nltk\n",
    "nltk.download('punkt_tab')"
   ]
  },
  {
   "cell_type": "markdown",
   "metadata": {
    "id": "IzQQBrsvolCz"
   },
   "source": [
    "## Loading the data from huggingface"
   ]
  },
  {
   "cell_type": "code",
   "execution_count": 4,
   "metadata": {
    "colab": {
     "base_uri": "https://localhost:8080/"
    },
    "id": "Dt4IwnPmop8k",
    "outputId": "20177542-e558-49b2-b5f9-7e5536262cf7"
   },
   "outputs": [
    {
     "name": "stdout",
     "output_type": "stream",
     "text": [
      "Total entries: 40541\n",
      "<class 'pandas.core.frame.DataFrame'>\n",
      "RangeIndex: 40541 entries, 0 to 40540\n",
      "Data columns (total 3 columns):\n",
      " #   Column     Non-Null Count  Dtype \n",
      "---  ------     --------------  ----- \n",
      " 0   question   40541 non-null  object\n",
      " 1   answer     40541 non-null  object\n",
      " 2   documents  40541 non-null  object\n",
      "dtypes: object(3)\n",
      "memory usage: 950.3+ KB\n"
     ]
    }
   ],
   "source": [
    "import pandas as pd\n",
    "\n",
    "df = pd.read_json(\"../rag_instruct.json\")\n",
    "\n",
    "print(f\"Total entries: {len(df)}\")\n",
    "df.info()\n"
   ]
  },
  {
   "cell_type": "markdown",
   "metadata": {
    "id": "hTcC1vNppyim"
   },
   "source": [
    "## Word2vec Implementation"
   ]
  },
  {
   "cell_type": "code",
   "execution_count": 5,
   "metadata": {
    "id": "Fr6_uMEfp8XG"
   },
   "outputs": [],
   "source": [
    "bulk_list = list(df[\"question\"]) + list(df[\"answer\"]) + list(df[\"documents\"])\n",
    "bulk_list = [subitem for item in bulk_list for subitem in (item if isinstance(item, list) else [item])]\n",
    "sentences = []\n",
    "for doc in bulk_list:\n",
    "    # Step 1: Split into sentences\n",
    "    if not doc:\n",
    "        continue\n",
    "    for sent in sent_tokenize(doc):\n",
    "        # Step 2: Tokenize into words\n",
    "        words = word_tokenize(sent)\n",
    "        # Step 3: Remove punctuation\n",
    "        words = [w for w in words if w not in string.punctuation]\n",
    "        if words:  # ignore empty sentences\n",
    "            sentences.append(words)\n",
    "\n"
   ]
  },
  {
   "cell_type": "code",
   "execution_count": 7,
   "metadata": {
    "id": "9XVRwzpuqA2u"
   },
   "outputs": [],
   "source": [
    "model = Word2Vec(sentences, vector_size=150, min_count=5, window=10,workers=20)"
   ]
  },
  {
   "cell_type": "code",
   "execution_count": 8,
   "metadata": {
    "colab": {
     "base_uri": "https://localhost:8080/"
    },
    "id": "IWM6StyiqBl6",
    "outputId": "56cafaa5-bc0b-4658-d1ec-62f68a4cdac7"
   },
   "outputs": [
    {
     "data": {
      "text/plain": [
       "[('Intel', 0.8940874338150024),\n",
       " ('Nvidia', 0.8904625177383423),\n",
       " ('ARM', 0.8258988261222839),\n",
       " ('ATI', 0.8161741495132446),\n",
       " ('microarchitecture', 0.7998629212379456),\n",
       " ('PowerPC', 0.7953680753707886),\n",
       " ('Motorola', 0.7907679080963135),\n",
       " ('Radeon', 0.7876049876213074),\n",
       " ('chipset', 0.7775804400444031),\n",
       " ('Pentium', 0.7723988890647888)]"
      ]
     },
     "execution_count": 8,
     "metadata": {},
     "output_type": "execute_result"
    }
   ],
   "source": [
    "term = 'AMD'\n",
    "model.wv.most_similar(term)"
   ]
  },
  {
   "cell_type": "code",
   "execution_count": 11,
   "metadata": {
    "colab": {
     "base_uri": "https://localhost:8080/"
    },
    "id": "DfXZX8crJXik",
    "outputId": "2fedff5a-b21d-40b3-adab-9cbc321a853e"
   },
   "outputs": [
    {
     "data": {
      "text/plain": [
       "[('botanical', 0.6735371351242065),\n",
       " ('gardens', 0.6342332363128662),\n",
       " ('horticulture', 0.6213271617889404),\n",
       " ('Botanical', 0.5380962491035461),\n",
       " ('ecology', 0.5332503318786621),\n",
       " ('horticultural', 0.5298502445220947),\n",
       " ('urbanism', 0.5149864554405212),\n",
       " ('gardening', 0.5097508430480957),\n",
       " ('Botanic', 0.5090389847755432),\n",
       " ('forestry', 0.5080088376998901)]"
      ]
     },
     "execution_count": 11,
     "metadata": {},
     "output_type": "execute_result"
    }
   ],
   "source": [
    "term = 'botanic'\n",
    "model.wv.most_similar(term)"
   ]
  },
  {
   "cell_type": "code",
   "execution_count": null,
   "metadata": {
    "colab": {
     "base_uri": "https://localhost:8080/"
    },
    "id": "r7mtMdiPqG01",
    "outputId": "f89b941b-9e88-4930-c80f-a4f36c996fbc"
   },
   "outputs": [
    {
     "data": {
      "text/plain": [
       "[('king', 0.8508338332176208),\n",
       " ('queen', 0.779104471206665),\n",
       " ('emperor', 0.7695624232292175),\n",
       " ('throne', 0.7436816096305847),\n",
       " ('Emperor', 0.7402945160865784),\n",
       " ('prince', 0.7277659177780151),\n",
       " ('duke', 0.7075802683830261),\n",
       " ('monarch', 0.7067133784294128),\n",
       " ('Empress', 0.6999112963676453),\n",
       " ('empress', 0.6928224563598633)]"
      ]
     },
     "execution_count": 12,
     "metadata": {},
     "output_type": "execute_result"
    }
   ],
   "source": [
    "#the classic one also works, nice!\n",
    "vec = model.wv.get_vector('king') + (model.wv.get_vector('woman') - model.wv.get_vector('man'))\n",
    "model.wv.similar_by_vector(vec)"
   ]
  },
  {
   "cell_type": "code",
   "execution_count": null,
   "metadata": {},
   "outputs": [
    {
     "data": {
      "text/plain": [
       "[('death', 0.8527194857597351),\n",
       " ('crime', 0.8057100176811218),\n",
       " ('murder', 0.7660595774650574),\n",
       " ('rape', 0.7164438366889954),\n",
       " ('arrest', 0.7131326198577881),\n",
       " ('kidnapping', 0.7049978375434875),\n",
       " ('suicide', 0.7009158730506897),\n",
       " ('homicide', 0.6922276616096497),\n",
       " ('conviction', 0.6913067698478699),\n",
       " ('incarceration', 0.6839260458946228)]"
      ]
     },
     "execution_count": 32,
     "metadata": {},
     "output_type": "execute_result"
    }
   ],
   "source": [
    "#Here's a fun one, hehe!\n",
    "vec = model.wv.get_vector('death') + model.wv.get_vector('crime')\n",
    "model.wv.similar_by_vector(vec)"
   ]
  },
  {
   "cell_type": "markdown",
   "metadata": {
    "id": "L-gE1lXVHNvD"
   },
   "source": [
    "## Using t-SNE to visualize the results of the vectorizatin"
   ]
  },
  {
   "cell_type": "code",
   "execution_count": 13,
   "metadata": {
    "colab": {
     "base_uri": "https://localhost:8080/"
    },
    "id": "ezb-QxOvHKNF",
    "outputId": "ea37733c-f3ad-40df-8ed9-b993e57adc51"
   },
   "outputs": [
    {
     "name": "stdout",
     "output_type": "stream",
     "text": [
      "['Accurately', 'devoiced', 'Insider', 'Aagaard', 'capercaillie', 'VWAP', 'Haymes', 'butchers', 'Vuorineuvos', 'blister', 'humiliation', 'NDTL', 'MAOs', 'Jong-Il', 'people', 'telecoms', 'Caledonian', 'film-makers', 'seedbed', 'Merchant', 'Huelva', 'Optic', 'user-provided', '53–47', 'Montevideo', 'Seifert', 'Prahran', 'government-supported', '//arcticdrones.org/', 'ROILA', 'Onamo', 'Valuing', 'tolerates', 'Gorda', 'fining', 'Palmyrenes', 'Châteaux', 'Susan', 'ostracized', 'Sudanese', 'Cydia', 'Danforth', 'fragment', \"'mabilis\", 'userland', 'Kaufmann', 'erasure', 'menstrual', 'Stratospheric', 'Elephant', 'Seawater', 'Weiler', 'Dag', 'Nishizono', 'inn', 'BIO', 'Revan', 'typename', 'autumns', '35.4', 'Ani', '2015.', 'McMoRan', 'Arthropods', 'SlackBuilds', 'irreverent', 'Regorafenib', 'Hauptmann', 'self-contradiction', 'political-military', 're-enters', 'Rædwald', 'nominated', 'outfitted', 'fridges', '10–0', 'Paxil', 'catapulted', 'self-limiting', 'Gnaeus', 'SmallBASIC', 'spars', 'Vrije', 'organizational', 'Humming', 'time-line', 'destiny', 'Olbrycht', '1.5–2', 'Galectin-3', 'Hey', 'Ruobei', 'Metro-style', 'correlates', 'plumage', 'Harcourt', 'deltaic', 'skillset', 'Gabriel', 'CNCI', 'five-member', 'Andress', 'interpreting', 'Bethesda', 'compiler-assisted', 'nous', '220,000', '1442', '.onai', 'para-xylylene', 'Bumetanide', 'schoolgirl', 'Members', 'PDC', 'crocuses', 'EDO', 'mg/100', 'fentanyl', 'Espionage', 'East-Central', '12.3', 'narcolepsy', 'Leybold', 'Popish', 'thermodynamically', 'Pasternak', 'Bazin', 'Kandahar', 'Statecharts', 'Pharas', 'Danilo', 'Quests', 'QoE', 'NEOWISE', 'microformats', 'pseudo-environment', 'Truffle', 'Matiyasevich', 'Fertility', 'infiltrate', 'Pinba', 'Oriente', '35.0', 'semi-definite', 'Metzinger', 'abomasum', 'cannabinoids', 'Quotations', 'Firm', 'families', 'mailroom', 'doesn', 'tethered', '-carbamoylputrescine', 'intermarried', 'Photochemical', 'letter-by-letter', 'Leonor', 'Carola', 'signatories', ',4,4', '56th', 'insulin-sensitive', 'implication', 'roller', 'ornaments', 'Kurma', 'Manufacturer', 'codice_98', 'Disciplines', 'parenthesisation', 'capability', 'losses', 'ninth-largest', 'hastalis', 'Dialectic', 'Delius', '440,000', \"'When\", '3c-sleep-THEM-past', '-dropping', 'biofouling', 'Tethytheria', 'Feathers.js', 'Leica', 'Partyman', 'Kurtzman', 'perks', 'peregrine', 'Lannister', 'short-sighted', 'Quinacridone', 'Tesoro', 'Borg', '173rd', 'dispassionately', 'furin', 'Nuke', 'soloing', 'Gould‐Jacobs', 'svartálfar', 'Biologicals', 'succulent', 'dozen', 'detracts', 'Aika', 'Model-Driven', 'replications', 'Douglass', 'Briers', 'seafloor', 'biosimilar', 'photochemically', 'BTEC', 'Bioversity', 'Trigonometric', '5–20', 'alba', 'buns', 'Ahly', 'perm', 'Culpepper', 'thread-like', 'Monoculture', 'Weitzman', 'formula_49', 'promising—', 'crests', 'obj3', 'in-vehicle', 'trough', 'disarray', 're-trained', 'Recession', 'Cassirer', '£4', 'human-scale', 'spectacular', 'Koirala', 'second-floor', 'betrays', 'Kochba', 'lastly', 'McOndo', 'Leaders', 'delights', 'Granville', 'sesterces', '2,4-D.', 'Nicopolis', 'Mondego', 'troublemakers', 'gefitinib', 'multigraphs', 'propounded', 'Five-Year', 'Haven', 'Beechcraft', 'MET', 'Saran', 'Turbulent', 'subgenres', 'EDLP', 'capsid', 'eye-catching', 'Tey', 'brook', 'well-ordering', 'sunflowers', 'Courant', 'individualised', 'Galley', 'Masaki', 'Profile', 'chamber', 'Spawning', 'highest-selling', 'MetaTexis', 'less-effective', 'Anti-Secession', 'Assistant', 'Pt', 'strictly', 'syndication', 'likeminded', 'issues—where', 'Strahler', 'Borisov', 'Hinton', 'Trisomy', 'Haun', 'milker', 'tetraploid', 'I-IV', 'PeopleBrowsr', 'Platonic', 'Ca', 'animal', 'fissionable', 'decision-making', 'ceramide', 'Kaifeng', 'SMILE', 'Shechem', '88,000', 'Gena', 'needle-like', 'superfund', 'Ejido', 'dinnerware', 'Utica', 'hand-picked', 'estimated', 'Mandaeans', 'lymphocytic', 'anti-Chinese', 'relieves', 'Levees', 'memory', 'Grimthorpe', 'Auguste', 'Cura', 'Nederlandse', '≅', 'Evolutionary', 'Terminate', 'Providing', 'thin-layer', 'doses', '-enolate', 'Buyer', 'scrobiculatum', 'mucronulatum', 'Curitiba', 'AAV', 'Psellos', 'Rocky', 'mapcode', 'book-related', 'Hwanung', 'Cui', 'Waitresses', 'romanesque', 'Śiva', 'falsifiability', 'Annabella', 'tutoring', 'Kosta', 'empties', \"'Finding\", 'tripled', 'Tactical', 'Coronary', 'licks', 'Garrido', 'bit-rate', 'TX-2', 'caregivers', 'glossolalic', 'Miscellanea', 'diggings', 'Cherkasy', 'MTH', 'Weblog', 'Peltandra', 'Hilton', 'Corbet', 'DP', 'scruffy', 'Arak', 'Kabbalistic', 'phthalides', 'ERDG', 'AACS', 'unimproved', 'sati', 'Daoists', 'Shaheed', 'Romanies', 'WFPC', 'Aung', 'anti-socialist', 'handset', 'classmate', 'preaches', 'splenomegaly', 'Physiological', 'engenders', 'addressing', 'XenClient', '47a', 'syllogisms', '140-character', 'Caleb', '₹', 'Nerites', '4-Phenyl-1,2,4-triazoline-3,5-dione', 'stranding', 'Madding', 'Billiards', 'amides', 'Batis', 'kidnappers', 'Tagasaste', 'phenylbutyrate', 'Canada', 'lay-offs', 'Mattel', 'amplifies', 'mashing', 'arrears', 'self-published', 'maximises', 'AVIC', 'Nitto', 'R5000', 'Lange', 'Cabezas', 'dental', \"B'alaj\", \"'progressive\", 'Cinnabon', 'silence', 'businesswoman', 'notching', 'butenes', '−x', 'Tercer', 'geodynamics', 'macroeconomy', 'confrontational', 'uprated', '353', 'upliftment', 'confection', 'routine', 'Luckett', 'six-minute', 'Keel', 'Dever', 'quota', 'Hall–Héroult', 'JDAM', '2,000–3,000', '2-nitro', 'relinquishing', 'two-way', 'omnipotence', 'diaphragms', 'TCC', 'ditransitive', '78.6', 'Sealand', 'indiction', 'Strathearn', 'lithographic', 'Roddick', 'Oort', 'Lluís', 'hartshorn', 'inspires', 'irritans', 'unclean', 'Polyphemus', 'frotteurism', 'dialogs', '1945', 'encyclopedias', 'dark-haired', 'Vino', 'scour', 'palaeontologists', 'hikkake', 'anticoagulant', 'Incredible', 'HOK', 'filtration', '9/8', 'Foo', '2-ethoxyethanol', 'powerfully', 'ESXi', 'undeclared', 'juxtapose', 'formula_214', 'Whitsunday', 'Schlegel', 'protein-coding', 'hisses', 'wast', 'Kisan', 'Startling', 'login', 'Heike', 'Characteristics', 'in-order', 'wildflowers', 'Apes', 'covered', 'reintroduction']\n"
     ]
    }
   ],
   "source": [
    "import random\n",
    "\n",
    "sample = random.sample(list(model.wv.key_to_index), 500)\n",
    "print(sample)"
   ]
  },
  {
   "cell_type": "code",
   "execution_count": 14,
   "metadata": {
    "colab": {
     "base_uri": "https://localhost:8080/"
    },
    "id": "BMLFR8txHj4b",
    "outputId": "df41bb06-e96f-4272-83f8-13663aaf3671"
   },
   "outputs": [
    {
     "data": {
      "text/plain": [
       "array([[-0.05304888,  0.22996989,  0.06552716, ...,  0.05292306,\n",
       "         0.03482943, -0.00735704],\n",
       "       [-0.0170351 ,  0.01983383,  0.02952911, ..., -0.07331342,\n",
       "         0.05489556, -0.03687836],\n",
       "       [-0.5951109 ,  0.04130193,  0.39474326, ..., -0.00290083,\n",
       "        -0.0125163 , -0.1960428 ],\n",
       "       ...,\n",
       "       [-0.1498093 , -0.12702395,  0.06790061, ..., -0.26720548,\n",
       "        -0.00633115, -0.09923371],\n",
       "       [ 0.5442664 ,  1.1920257 ,  1.9112399 , ...,  1.6566833 ,\n",
       "         1.462895  , -0.9850346 ],\n",
       "       [ 0.34841   , -0.34049398,  0.25743812, ..., -0.253145  ,\n",
       "        -0.06130734,  0.3762094 ]], dtype=float32)"
      ]
     },
     "execution_count": 14,
     "metadata": {},
     "output_type": "execute_result"
    }
   ],
   "source": [
    "word_vectors = model.wv[sample]\n",
    "word_vectors"
   ]
  },
  {
   "cell_type": "code",
   "execution_count": 15,
   "metadata": {
    "colab": {
     "base_uri": "https://localhost:8080/"
    },
    "id": "F22lma-LHj0e",
    "outputId": "66474698-233c-4db4-a8ce-8360c27f2b22"
   },
   "outputs": [
    {
     "data": {
      "text/plain": [
       "(500, 150)"
      ]
     },
     "execution_count": 15,
     "metadata": {},
     "output_type": "execute_result"
    }
   ],
   "source": [
    "word_vectors.shape"
   ]
  },
  {
   "cell_type": "code",
   "execution_count": 16,
   "metadata": {
    "colab": {
     "base_uri": "https://localhost:8080/"
    },
    "id": "-yQ9qvIZHnin",
    "outputId": "d663a537-f507-4c54-d74d-cea12c6cdadf"
   },
   "outputs": [
    {
     "name": "stderr",
     "output_type": "stream",
     "text": [
      "/home/fffeelipe/.conda/envs/py312/lib/python3.12/site-packages/sklearn/manifold/_t_sne.py:1164: FutureWarning: 'n_iter' was renamed to 'max_iter' in version 1.5 and will be removed in 1.7.\n",
      "  warnings.warn(\n"
     ]
    }
   ],
   "source": [
    "from sklearn.manifold import TSNE\n",
    "\n",
    "tsne = TSNE(n_components=3, n_iter=2000)\n",
    "tsne_embedding = tsne.fit_transform(word_vectors)"
   ]
  },
  {
   "cell_type": "code",
   "execution_count": 17,
   "metadata": {
    "id": "S5K15lVJHpZy"
   },
   "outputs": [],
   "source": [
    "import numpy as np\n",
    "\n",
    "x, y, z = np.transpose(tsne_embedding)"
   ]
  },
  {
   "cell_type": "code",
   "execution_count": 36,
   "metadata": {
    "colab": {
     "base_uri": "https://localhost:8080/"
    },
    "id": "C5t-i0fkHrqX",
    "outputId": "461bf7c9-bc7e-4661-9caf-c167ca015f7c"
   },
   "outputs": [
    {
     "name": "stdout",
     "output_type": "stream",
     "text": [
      "Requirement already satisfied: plotly in /usr/local/lib/python3.11/dist-packages (5.24.1)\n",
      "Requirement already satisfied: tenacity>=6.2.0 in /usr/local/lib/python3.11/dist-packages (from plotly) (9.1.2)\n",
      "Requirement already satisfied: packaging in /usr/local/lib/python3.11/dist-packages (from plotly) (24.2)\n"
     ]
    }
   ],
   "source": [
    "!pip install plotly"
   ]
  },
  {
   "cell_type": "code",
   "execution_count": 18,
   "metadata": {
    "colab": {
     "base_uri": "https://localhost:8080/",
     "height": 542
    },
    "id": "tzKeR9GpHsIX",
    "outputId": "98262a4f-59ca-4831-ed74-ff5a1f884fcf"
   },
   "outputs": [
    {
     "data": {
      "application/vnd.plotly.v1+json": {
       "config": {
        "plotlyServerURL": "https://plot.ly"
       },
       "data": [
        {
         "hovertemplate": "x=%{x}<br>y=%{y}<br>z=%{z}<extra></extra>",
         "legendgroup": "",
         "marker": {
          "color": "#636efa",
          "line": {
           "width": 2
          },
          "size": 3,
          "symbol": "circle"
         },
         "mode": "markers",
         "name": "",
         "scene": "scene",
         "showlegend": false,
         "type": "scatter3d",
         "x": {
          "bdata": "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",
          "dtype": "f4"
         },
         "y": {
          "bdata": "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",
          "dtype": "f4"
         },
         "z": {
          "bdata": "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",
          "dtype": "f4"
         }
        }
       ],
       "layout": {
        "legend": {
         "tracegroupgap": 0
        },
        "margin": {
         "t": 60
        },
        "scene": {
         "domain": {
          "x": [
           0,
           1
          ],
          "y": [
           0,
           1
          ]
         },
         "xaxis": {
          "title": {
           "text": "x"
          }
         },
         "yaxis": {
          "title": {
           "text": "y"
          }
         },
         "zaxis": {
          "title": {
           "text": "z"
          }
         }
        },
        "template": {
         "data": {
          "bar": [
           {
            "error_x": {
             "color": "#2a3f5f"
            },
            "error_y": {
             "color": "#2a3f5f"
            },
            "marker": {
             "line": {
              "color": "#E5ECF6",
              "width": 0.5
             },
             "pattern": {
              "fillmode": "overlay",
              "size": 10,
              "solidity": 0.2
             }
            },
            "type": "bar"
           }
          ],
          "barpolar": [
           {
            "marker": {
             "line": {
              "color": "#E5ECF6",
              "width": 0.5
             },
             "pattern": {
              "fillmode": "overlay",
              "size": 10,
              "solidity": 0.2
             }
            },
            "type": "barpolar"
           }
          ],
          "carpet": [
           {
            "aaxis": {
             "endlinecolor": "#2a3f5f",
             "gridcolor": "white",
             "linecolor": "white",
             "minorgridcolor": "white",
             "startlinecolor": "#2a3f5f"
            },
            "baxis": {
             "endlinecolor": "#2a3f5f",
             "gridcolor": "white",
             "linecolor": "white",
             "minorgridcolor": "white",
             "startlinecolor": "#2a3f5f"
            },
            "type": "carpet"
           }
          ],
          "choropleth": [
           {
            "colorbar": {
             "outlinewidth": 0,
             "ticks": ""
            },
            "type": "choropleth"
           }
          ],
          "contour": [
           {
            "colorbar": {
             "outlinewidth": 0,
             "ticks": ""
            },
            "colorscale": [
             [
              0,
              "#0d0887"
             ],
             [
              0.1111111111111111,
              "#46039f"
             ],
             [
              0.2222222222222222,
              "#7201a8"
             ],
             [
              0.3333333333333333,
              "#9c179e"
             ],
             [
              0.4444444444444444,
              "#bd3786"
             ],
             [
              0.5555555555555556,
              "#d8576b"
             ],
             [
              0.6666666666666666,
              "#ed7953"
             ],
             [
              0.7777777777777778,
              "#fb9f3a"
             ],
             [
              0.8888888888888888,
              "#fdca26"
             ],
             [
              1,
              "#f0f921"
             ]
            ],
            "type": "contour"
           }
          ],
          "contourcarpet": [
           {
            "colorbar": {
             "outlinewidth": 0,
             "ticks": ""
            },
            "type": "contourcarpet"
           }
          ],
          "heatmap": [
           {
            "colorbar": {
             "outlinewidth": 0,
             "ticks": ""
            },
            "colorscale": [
             [
              0,
              "#0d0887"
             ],
             [
              0.1111111111111111,
              "#46039f"
             ],
             [
              0.2222222222222222,
              "#7201a8"
             ],
             [
              0.3333333333333333,
              "#9c179e"
             ],
             [
              0.4444444444444444,
              "#bd3786"
             ],
             [
              0.5555555555555556,
              "#d8576b"
             ],
             [
              0.6666666666666666,
              "#ed7953"
             ],
             [
              0.7777777777777778,
              "#fb9f3a"
             ],
             [
              0.8888888888888888,
              "#fdca26"
             ],
             [
              1,
              "#f0f921"
             ]
            ],
            "type": "heatmap"
           }
          ],
          "histogram": [
           {
            "marker": {
             "pattern": {
              "fillmode": "overlay",
              "size": 10,
              "solidity": 0.2
             }
            },
            "type": "histogram"
           }
          ],
          "histogram2d": [
           {
            "colorbar": {
             "outlinewidth": 0,
             "ticks": ""
            },
            "colorscale": [
             [
              0,
              "#0d0887"
             ],
             [
              0.1111111111111111,
              "#46039f"
             ],
             [
              0.2222222222222222,
              "#7201a8"
             ],
             [
              0.3333333333333333,
              "#9c179e"
             ],
             [
              0.4444444444444444,
              "#bd3786"
             ],
             [
              0.5555555555555556,
              "#d8576b"
             ],
             [
              0.6666666666666666,
              "#ed7953"
             ],
             [
              0.7777777777777778,
              "#fb9f3a"
             ],
             [
              0.8888888888888888,
              "#fdca26"
             ],
             [
              1,
              "#f0f921"
             ]
            ],
            "type": "histogram2d"
           }
          ],
          "histogram2dcontour": [
           {
            "colorbar": {
             "outlinewidth": 0,
             "ticks": ""
            },
            "colorscale": [
             [
              0,
              "#0d0887"
             ],
             [
              0.1111111111111111,
              "#46039f"
             ],
             [
              0.2222222222222222,
              "#7201a8"
             ],
             [
              0.3333333333333333,
              "#9c179e"
             ],
             [
              0.4444444444444444,
              "#bd3786"
             ],
             [
              0.5555555555555556,
              "#d8576b"
             ],
             [
              0.6666666666666666,
              "#ed7953"
             ],
             [
              0.7777777777777778,
              "#fb9f3a"
             ],
             [
              0.8888888888888888,
              "#fdca26"
             ],
             [
              1,
              "#f0f921"
             ]
            ],
            "type": "histogram2dcontour"
           }
          ],
          "mesh3d": [
           {
            "colorbar": {
             "outlinewidth": 0,
             "ticks": ""
            },
            "type": "mesh3d"
           }
          ],
          "parcoords": [
           {
            "line": {
             "colorbar": {
              "outlinewidth": 0,
              "ticks": ""
             }
            },
            "type": "parcoords"
           }
          ],
          "pie": [
           {
            "automargin": true,
            "type": "pie"
           }
          ],
          "scatter": [
           {
            "fillpattern": {
             "fillmode": "overlay",
             "size": 10,
             "solidity": 0.2
            },
            "type": "scatter"
           }
          ],
          "scatter3d": [
           {
            "line": {
             "colorbar": {
              "outlinewidth": 0,
              "ticks": ""
             }
            },
            "marker": {
             "colorbar": {
              "outlinewidth": 0,
              "ticks": ""
             }
            },
            "type": "scatter3d"
           }
          ],
          "scattercarpet": [
           {
            "marker": {
             "colorbar": {
              "outlinewidth": 0,
              "ticks": ""
             }
            },
            "type": "scattercarpet"
           }
          ],
          "scattergeo": [
           {
            "marker": {
             "colorbar": {
              "outlinewidth": 0,
              "ticks": ""
             }
            },
            "type": "scattergeo"
           }
          ],
          "scattergl": [
           {
            "marker": {
             "colorbar": {
              "outlinewidth": 0,
              "ticks": ""
             }
            },
            "type": "scattergl"
           }
          ],
          "scattermap": [
           {
            "marker": {
             "colorbar": {
              "outlinewidth": 0,
              "ticks": ""
             }
            },
            "type": "scattermap"
           }
          ],
          "scattermapbox": [
           {
            "marker": {
             "colorbar": {
              "outlinewidth": 0,
              "ticks": ""
             }
            },
            "type": "scattermapbox"
           }
          ],
          "scatterpolar": [
           {
            "marker": {
             "colorbar": {
              "outlinewidth": 0,
              "ticks": ""
             }
            },
            "type": "scatterpolar"
           }
          ],
          "scatterpolargl": [
           {
            "marker": {
             "colorbar": {
              "outlinewidth": 0,
              "ticks": ""
             }
            },
            "type": "scatterpolargl"
           }
          ],
          "scatterternary": [
           {
            "marker": {
             "colorbar": {
              "outlinewidth": 0,
              "ticks": ""
             }
            },
            "type": "scatterternary"
           }
          ],
          "surface": [
           {
            "colorbar": {
             "outlinewidth": 0,
             "ticks": ""
            },
            "colorscale": [
             [
              0,
              "#0d0887"
             ],
             [
              0.1111111111111111,
              "#46039f"
             ],
             [
              0.2222222222222222,
              "#7201a8"
             ],
             [
              0.3333333333333333,
              "#9c179e"
             ],
             [
              0.4444444444444444,
              "#bd3786"
             ],
             [
              0.5555555555555556,
              "#d8576b"
             ],
             [
              0.6666666666666666,
              "#ed7953"
             ],
             [
              0.7777777777777778,
              "#fb9f3a"
             ],
             [
              0.8888888888888888,
              "#fdca26"
             ],
             [
              1,
              "#f0f921"
             ]
            ],
            "type": "surface"
           }
          ],
          "table": [
           {
            "cells": {
             "fill": {
              "color": "#EBF0F8"
             },
             "line": {
              "color": "white"
             }
            },
            "header": {
             "fill": {
              "color": "#C8D4E3"
             },
             "line": {
              "color": "white"
             }
            },
            "type": "table"
           }
          ]
         },
         "layout": {
          "annotationdefaults": {
           "arrowcolor": "#2a3f5f",
           "arrowhead": 0,
           "arrowwidth": 1
          },
          "autotypenumbers": "strict",
          "coloraxis": {
           "colorbar": {
            "outlinewidth": 0,
            "ticks": ""
           }
          },
          "colorscale": {
           "diverging": [
            [
             0,
             "#8e0152"
            ],
            [
             0.1,
             "#c51b7d"
            ],
            [
             0.2,
             "#de77ae"
            ],
            [
             0.3,
             "#f1b6da"
            ],
            [
             0.4,
             "#fde0ef"
            ],
            [
             0.5,
             "#f7f7f7"
            ],
            [
             0.6,
             "#e6f5d0"
            ],
            [
             0.7,
             "#b8e186"
            ],
            [
             0.8,
             "#7fbc41"
            ],
            [
             0.9,
             "#4d9221"
            ],
            [
             1,
             "#276419"
            ]
           ],
           "sequential": [
            [
             0,
             "#0d0887"
            ],
            [
             0.1111111111111111,
             "#46039f"
            ],
            [
             0.2222222222222222,
             "#7201a8"
            ],
            [
             0.3333333333333333,
             "#9c179e"
            ],
            [
             0.4444444444444444,
             "#bd3786"
            ],
            [
             0.5555555555555556,
             "#d8576b"
            ],
            [
             0.6666666666666666,
             "#ed7953"
            ],
            [
             0.7777777777777778,
             "#fb9f3a"
            ],
            [
             0.8888888888888888,
             "#fdca26"
            ],
            [
             1,
             "#f0f921"
            ]
           ],
           "sequentialminus": [
            [
             0,
             "#0d0887"
            ],
            [
             0.1111111111111111,
             "#46039f"
            ],
            [
             0.2222222222222222,
             "#7201a8"
            ],
            [
             0.3333333333333333,
             "#9c179e"
            ],
            [
             0.4444444444444444,
             "#bd3786"
            ],
            [
             0.5555555555555556,
             "#d8576b"
            ],
            [
             0.6666666666666666,
             "#ed7953"
            ],
            [
             0.7777777777777778,
             "#fb9f3a"
            ],
            [
             0.8888888888888888,
             "#fdca26"
            ],
            [
             1,
             "#f0f921"
            ]
           ]
          },
          "colorway": [
           "#636efa",
           "#EF553B",
           "#00cc96",
           "#ab63fa",
           "#FFA15A",
           "#19d3f3",
           "#FF6692",
           "#B6E880",
           "#FF97FF",
           "#FECB52"
          ],
          "font": {
           "color": "#2a3f5f"
          },
          "geo": {
           "bgcolor": "white",
           "lakecolor": "white",
           "landcolor": "#E5ECF6",
           "showlakes": true,
           "showland": true,
           "subunitcolor": "white"
          },
          "hoverlabel": {
           "align": "left"
          },
          "hovermode": "closest",
          "mapbox": {
           "style": "light"
          },
          "paper_bgcolor": "white",
          "plot_bgcolor": "#E5ECF6",
          "polar": {
           "angularaxis": {
            "gridcolor": "white",
            "linecolor": "white",
            "ticks": ""
           },
           "bgcolor": "#E5ECF6",
           "radialaxis": {
            "gridcolor": "white",
            "linecolor": "white",
            "ticks": ""
           }
          },
          "scene": {
           "xaxis": {
            "backgroundcolor": "#E5ECF6",
            "gridcolor": "white",
            "gridwidth": 2,
            "linecolor": "white",
            "showbackground": true,
            "ticks": "",
            "zerolinecolor": "white"
           },
           "yaxis": {
            "backgroundcolor": "#E5ECF6",
            "gridcolor": "white",
            "gridwidth": 2,
            "linecolor": "white",
            "showbackground": true,
            "ticks": "",
            "zerolinecolor": "white"
           },
           "zaxis": {
            "backgroundcolor": "#E5ECF6",
            "gridcolor": "white",
            "gridwidth": 2,
            "linecolor": "white",
            "showbackground": true,
            "ticks": "",
            "zerolinecolor": "white"
           }
          },
          "shapedefaults": {
           "line": {
            "color": "#2a3f5f"
           }
          },
          "ternary": {
           "aaxis": {
            "gridcolor": "white",
            "linecolor": "white",
            "ticks": ""
           },
           "baxis": {
            "gridcolor": "white",
            "linecolor": "white",
            "ticks": ""
           },
           "bgcolor": "#E5ECF6",
           "caxis": {
            "gridcolor": "white",
            "linecolor": "white",
            "ticks": ""
           }
          },
          "title": {
           "x": 0.05
          },
          "xaxis": {
           "automargin": true,
           "gridcolor": "white",
           "linecolor": "white",
           "ticks": "",
           "title": {
            "standoff": 15
           },
           "zerolinecolor": "white",
           "zerolinewidth": 2
          },
          "yaxis": {
           "automargin": true,
           "gridcolor": "white",
           "linecolor": "white",
           "ticks": "",
           "title": {
            "standoff": 15
           },
           "zerolinecolor": "white",
           "zerolinewidth": 2
          }
         }
        }
       }
      }
     },
     "metadata": {},
     "output_type": "display_data"
    }
   ],
   "source": [
    "import plotly.express as px\n",
    "\n",
    "fig = px.scatter_3d(x=x, y=y, z=z)\n",
    "fig.update_traces(marker=dict(size=3,line=dict(width=2)))\n",
    "fig.show()"
   ]
  },
  {
   "cell_type": "code",
   "execution_count": 38,
   "metadata": {
    "colab": {
     "base_uri": "https://localhost:8080/",
     "height": 542
    },
    "id": "Gl_ev5-DHxNg",
    "outputId": "4c38252f-15e0-4892-bb13-b1c4ba20b2ce"
   },
   "outputs": [
    {
     "data": {
      "text/html": [
       "<html>\n",
       "<head><meta charset=\"utf-8\" /></head>\n",
       "<body>\n",
       "    <div>            <script src=\"https://cdnjs.cloudflare.com/ajax/libs/mathjax/2.7.5/MathJax.js?config=TeX-AMS-MML_SVG\"></script><script type=\"text/javascript\">if (window.MathJax && window.MathJax.Hub && window.MathJax.Hub.Config) {window.MathJax.Hub.Config({SVG: {font: \"STIX-Web\"}});}</script>                <script type=\"text/javascript\">window.PlotlyConfig = {MathJaxConfig: 'local'};</script>\n",
       "        <script charset=\"utf-8\" src=\"https://cdn.plot.ly/plotly-2.35.2.min.js\"></script>                <div id=\"f95ffea1-eb5c-48a3-bdfe-f32fe6410de3\" class=\"plotly-graph-div\" style=\"height:525px; width:100%;\"></div>            <script type=\"text/javascript\">                                    window.PLOTLYENV=window.PLOTLYENV || {};                                    if (document.getElementById(\"f95ffea1-eb5c-48a3-bdfe-f32fe6410de3\")) {                    Plotly.newPlot(                        \"f95ffea1-eb5c-48a3-bdfe-f32fe6410de3\",                        [{\"hovertemplate\":\"x=%{x}\\u003cbr\\u003ey=%{y}\\u003cbr\\u003ez=%{z}\\u003cbr\\u003etext=%{text}\\u003cextra\\u003e\\u003c\\u002fextra\\u003e\",\"legendgroup\":\"\",\"marker\":{\"color\":\"#636efa\",\"symbol\":\"circle\",\"line\":{\"width\":2},\"size\":3},\"mode\":\"markers+text\",\"name\":\"\",\"scene\":\"scene\",\"showlegend\":false,\"text\":[\"twinned\",\"Columns\",\"GeV\",\"Schadenfreude\",\"Volksoper\",\"Corp.\",\"Dimensionality\",\"Nagpur\",\"K-1\",\"Camillus\",\"Fido\",\"alien\",\"odham\",\"10-carbon\",\"Fluoromar\",\"invitation\",\"Aldeburgh\",\"SemBioSys\",\"Messrs.\",\"Spice\",\"KIC\",\"Oryx\",\"Ei-ichi\",\"extruding\",\"Garson\",\"Tariffs\",\"Camp\",\"Bucherer\",\"Michaelmas\",\"Jango\",\"fenestration\",\"1707\",\"ESI\",\"Cosell\",\"tri\",\"BPT\",\"Obregón\",\"Wasps\",\"repurchase\",\"goal-line\",\"All-Stars\",\"Splendor\",\"antibodies\",\"highlife\",\"Dore\",\"они\",\"data-driven\",\"internetworking\",\"interdisciplinarity\",\"Amasa\",\"fax\",\"rosea\",\"interlacing\",\"Saracens\",\"Disasters\",\"Powered\",\"Hamilton–Jacobi–Bellman\",\"stockbroker\",\"arbitrarily\",\"debridement\",\"formula_22-paradoxical\",\"1458\",\"iambic\",\"revitalizing\",\"Thousand\",\"eventuate\",\"Lincoln\",\"Reed\",\"Physician\",\"11,800\",\"pé\",\"brisk\",\"ng\\u002fml\",\"JJ\",\"hindbrain\",\"opponent\",\"Sébastien\",\"Shelagh\",\"DSSCs\",\"23-page\",\"Orocobix\",\"Preachers\",\"522\",\".properties\",\"denominator\",\"dithiol\",\"outfit\",\"eculizumab\",\"на\",\"40-60\",\"multi-hop\",\"Møller\",\"ridgetops\",\"scrapers\",\"extorted\",\"Amines\",\"tenacity\",\"rem\",\"Abduction\",\"Coman\",\"hydroids\",\"saṃsāra\",\"Fenmore\",\"recesses\",\"artists\",\"Mid-Ulster\",\"terebinthifolius\",\"'temporale\",\"pear\",\"excreting\",\"GMO\",\"lading\",\"Hennepin\",\"nanorobots\",\"cowardice\",\"eighteenth\",\"Zhangjiang\",\"baserunners\",\"Flows\",\"synch\",\"sediment\",\"Question\",\"Rodrigues\",\"employable\",\"Rusty\",\"Weichai\",\"otolaryngology\",\"Tatsu\",\"Sanofi-Aventis\",\"family-wise\",\"piperidine\",\"381\",\"tactics\",\"PLTP\",\"deemed\",\"non-availability\",\"Whorf\",\"navel\",\"NAUI\",\"Klout\",\"-codice_62\",\"Wilcke\",\"amidships\",\"BMP\",\"Szacki\",\"RON\",\"sumptuary\",\"Kapital\",\"Keras\",\"Acrylic\",\"sternocleidomastoid\",\"ReLUs\",\"reconsidered\",\"Volkswagen\",\"Bris\",\"Gerrit\",\"\\u002fp\\u002f\",\"Marlin\",\"1890\",\"binary-to-text\",\"goblin\",\"relapsing-remitting\",\"PowerPC\",\"Schwarz\",\"Pforzheim\",\"Prediction.io\",\"sibutramine\",\"incumbency\",\"HIT\",\"OriginalTable\",\"distinctness\",\"Shriners\",\"Kenner\",\"Launceston\",\"Tā\",\"Hoche\",\"Adamson\",\"LDH\",\"K12\",\"Aske\",\"2,2,4-trimethylpentane\",\"Na+\",\"individualization\",\"Polylactic\",\"fifty-meter-tall\",\"Wimsey\",\"Oxidative\",\"CPPs\",\"Conforti\",\"Dons\",\"Entire\",\"broadness\",\"macular\",\"drivers\",\"tourniquet\",\"step-in\",\"Muriel\",\"complementary\",\"PGNCS\",\"Thermometers\"],\"x\":[30.148594,11.266919,-22.24482,23.482605,-19.993893,29.096312,-8.751219,23.838238,-9.878901,-27.664555,-3.726359,20.53016,-11.383624,1.3126427,-1.4185846,33.606915,20.465616,-6.8042,24.850435,44.53346,16.115648,3.4767962,0.88536185,-24.693125,20.472399,-2.2600293,39.21012,0.86244833,-3.9679685,7.8817244,-38.172684,31.294008,-13.411171,8.717018,-21.594986,-31.349606,4.2791147,-9.245259,-15.97672,-13.782555,43.714123,10.227683,-12.118164,-20.522985,5.713456,18.671652,-6.3625035,-0.1263593,-18.159897,22.70138,-9.376539,8.377509,-20.064295,-0.48811564,-0.20360608,16.273066,13.195819,-3.3016045,-17.353706,-39.445248,-35.346302,19.271328,27.062338,5.6034093,41.742355,-33.957466,39.275806,38.51979,30.57693,6.6624746,22.850174,-40.531956,13.747906,16.374691,-15.058379,6.2582607,32.348644,11.324794,-5.08086,-0.88339335,4.7840734,36.91482,-0.4304152,-7.839727,-17.057964,12.889418,38.040764,-2.2205927,21.926268,-28.771149,10.50258,24.587444,-17.949844,-5.1769333,-1.0065084,-8.165374,8.394656,-6.1873484,25.567148,-23.428122,-0.44554293,-9.010348,19.197416,-35.783974,41.152325,8.72524,18.289318,-16.346102,9.519226,-35.45843,1.7682487,-30.976805,14.902711,-24.592503,21.92884,27.135342,11.680724,-12.759935,19.69588,-15.287122,-7.0015864,12.939989,27.006393,-5.125713,32.56862,17.42698,-31.190826,-6.3393297,-0.7326446,-36.077602,-5.035083,22.745005,2.049322,20.96972,-6.865129,-1.6503059,21.960464,18.481134,-10.180672,-11.3122835,-22.415049,-5.1925025,-37.687412,-0.23806795,9.297139,11.13697,-25.86931,-5.853665,-2.235582,-26.878819,-43.86757,-16.699074,3.4330742,31.144695,14.883864,29.368511,12.388495,24.013906,33.720158,-7.275401,32.219696,-33.243664,1.5658308,-5.206966,1.0784178,-1.0452257,-28.172983,-9.242193,4.3842773,3.380261,-36.08322,-4.0173044,12.07644,14.530635,12.514368,2.3463526,28.197277,2.355887,-21.725582,0.4970847,-7.752151,-15.786543,-30.757643,-7.465812,-45.89969,18.038532,-5.172172,5.539331,23.26755,-9.103446,-17.889194,-18.715403,-30.70545,-0.21547432,-18.530169,-3.1976569,31.246964,-10.398518,4.690941,14.490407],\"y\":[-12.296404,-24.337349,9.659533,23.992382,10.405297,-28.144278,16.638536,-16.168104,-12.289504,21.886683,-3.5771036,27.15958,5.2295365,-4.2481556,2.2549012,23.797794,-5.173379,2.638199,-12.03398,1.4085428,-11.4482155,-10.114305,11.758019,-2.6765735,32.75917,-7.8002048,-0.027678441,-16.882511,21.873016,8.382317,-8.465889,0.40698794,-23.765646,22.809286,11.253084,8.28485,17.355772,14.135461,-5.3040338,10.369684,-4.9178057,31.45905,-34.306374,22.736963,30.582787,-9.027379,-31.84436,-25.643696,21.923529,13.666455,-22.783619,-13.808189,4.0960274,23.445831,-4.813063,-21.120182,4.3740187,3.7766995,-31.458778,-4.0308194,13.604427,6.4786253,20.148544,-5.945732,7.6875725,11.571409,3.038387,9.280316,11.668433,1.0601524,-22.06513,9.524979,-28.742126,33.453773,-24.807638,6.433147,-13.842424,23.229712,-10.791702,14.920387,-5.824487,-9.259528,-17.074194,-4.4285107,-38.336143,-0.780433,20.762163,-8.406807,-7.177287,4.7243876,35.495434,12.73504,-7.6020594,-29.074461,-0.6829254,-7.9568906,27.109306,-4.2262063,10.159181,1.1116744,-5.8497524,22.09865,23.660679,14.332176,18.254147,21.883713,-7.3585615,-13.967284,-20.472574,-2.43793,3.1883204,1.9611925,4.3905582,-18.981808,18.275126,29.106392,-11.778822,9.331406,-6.386235,17.83146,-27.130604,-37.00709,-18.628616,3.663493,20.62303,-35.260098,-20.538788,9.930466,13.194674,6.8737893,-32.187363,2.203817,-1.1196033,-18.605324,-19.713789,4.796929,15.163643,5.8481874,0.4270247,34.64082,-18.227083,15.171003,-2.152865,-31.124542,-14.801576,-25.900108,15.751494,19.503689,-35.31291,2.9074042,5.440745,-14.875775,14.038098,-28.951279,25.783691,-10.102394,-0.45109996,-13.805107,-2.1379564,-28.622587,0.9259868,5.7240047,-33.950943,16.807447,9.044842,0.4910645,-11.335635,24.13151,-16.547476,-44.088757,22.644659,15.549605,14.051707,-9.068346,-16.15972,13.4537525,18.209778,-4.100359,6.1428304,19.601036,0.47250128,-2.322001,20.377567,-2.653839,9.310901,23.240314,-23.908129,-25.427338,-12.962959,18.471304,-7.0844646,14.301985,-16.226324,-44.26721,-17.086077,6.954087,18.992985,-32.789467,4.5830173,-21.065336],\"z\":[-20.076284,-4.908237,12.676502,-16.753834,-5.161112,-9.994369,17.05423,-17.855972,-9.924668,-8.824216,0.6737647,-28.24072,-36.93273,19.260754,15.460048,-11.216147,-10.831061,6.0232563,-0.76234984,0.2963326,8.983614,-21.60361,12.734042,18.378775,-0.45096195,-30.643383,-11.851744,14.82584,-27.83452,-6.6686907,-0.82645535,-26.22225,0.03006469,2.154019,18.624277,-4.383719,-32.882866,-28.49565,-28.119364,-20.72929,-1.4777973,-7.2304797,18.274036,-2.6999695,-1.1118644,4.332853,1.9052655,0.0008931863,3.6146536,-20.1566,-7.681797,25.780544,-4.1022215,-17.948782,-22.931805,-6.395659,1.0528197,-29.800741,-14.910305,6.2085633,-20.174625,-25.95766,24.110199,-9.878824,0.7401023,-7.985808,-14.826683,-9.718779,6.410419,-1.1473062,18.000414,8.783018,12.729183,-9.82841,13.86953,-41.162407,-5.081978,-9.710372,17.680656,6.456909,-3.8736677,3.9906704,-15.252485,-5.14368,-6.749639,2.7534008,-1.5570202,-11.222426,7.1195183,9.958692,-20.350657,4.6966367,0.20711997,-9.588328,-8.406413,25.146482,6.5858855,-13.247252,-1.6596259,-31.166534,36.186695,1.1225474,-8.009047,6.97384,8.530568,-25.133553,25.727144,-4.3434844,39.48464,10.9249935,30.396053,-16.435392,-15.981096,-10.6469345,-15.958002,13.692573,-15.722718,-13.842657,-1.9043124,-23.092697,34.22695,-10.546691,-1.2318463,-7.5042996,-2.6561148,4.85533,6.8729763,-7.1382756,19.307058,-13.737925,20.687757,-28.139448,-40.732693,4.3715115,-32.13713,22.619478,9.0548725,27.882008,-24.732409,-15.408638,-20.797342,-1.6144751,-14.7438135,-12.301175,6.356329,10.086107,-5.515381,7.3283973,-0.28715238,-0.18985286,-10.220969,11.8357725,24.93506,-6.5452194,-4.438155,7.74145,-7.8771963,-6.4082847,-21.715939,-18.068829,10.630429,14.60059,-6.250727,23.79239,-4.9490066,7.575162,14.951686,-19.641094,7.4323373,-9.784896,-11.953882,-25.685602,14.949817,-12.028945,15.233995,-23.950808,2.1191673,1.0278933,-10.631948,0.88990915,16.522501,16.482437,-16.506306,21.882313,-3.6777267,0.884709,19.495691,20.94201,4.9351897,-21.123322,6.1614637,6.2972193,12.894516,9.260783,21.572294,5.167815,-8.396031,5.337116,4.905133,2.1880224],\"type\":\"scatter3d\",\"textfont\":{\"size\":10}}],                        {\"template\":{\"data\":{\"histogram2dcontour\":[{\"type\":\"histogram2dcontour\",\"colorbar\":{\"outlinewidth\":0,\"ticks\":\"\"},\"colorscale\":[[0.0,\"#0d0887\"],[0.1111111111111111,\"#46039f\"],[0.2222222222222222,\"#7201a8\"],[0.3333333333333333,\"#9c179e\"],[0.4444444444444444,\"#bd3786\"],[0.5555555555555556,\"#d8576b\"],[0.6666666666666666,\"#ed7953\"],[0.7777777777777778,\"#fb9f3a\"],[0.8888888888888888,\"#fdca26\"],[1.0,\"#f0f921\"]]}],\"choropleth\":[{\"type\":\"choropleth\",\"colorbar\":{\"outlinewidth\":0,\"ticks\":\"\"}}],\"histogram2d\":[{\"type\":\"histogram2d\",\"colorbar\":{\"outlinewidth\":0,\"ticks\":\"\"},\"colorscale\":[[0.0,\"#0d0887\"],[0.1111111111111111,\"#46039f\"],[0.2222222222222222,\"#7201a8\"],[0.3333333333333333,\"#9c179e\"],[0.4444444444444444,\"#bd3786\"],[0.5555555555555556,\"#d8576b\"],[0.6666666666666666,\"#ed7953\"],[0.7777777777777778,\"#fb9f3a\"],[0.8888888888888888,\"#fdca26\"],[1.0,\"#f0f921\"]]}],\"heatmap\":[{\"type\":\"heatmap\",\"colorbar\":{\"outlinewidth\":0,\"ticks\":\"\"},\"colorscale\":[[0.0,\"#0d0887\"],[0.1111111111111111,\"#46039f\"],[0.2222222222222222,\"#7201a8\"],[0.3333333333333333,\"#9c179e\"],[0.4444444444444444,\"#bd3786\"],[0.5555555555555556,\"#d8576b\"],[0.6666666666666666,\"#ed7953\"],[0.7777777777777778,\"#fb9f3a\"],[0.8888888888888888,\"#fdca26\"],[1.0,\"#f0f921\"]]}],\"heatmapgl\":[{\"type\":\"heatmapgl\",\"colorbar\":{\"outlinewidth\":0,\"ticks\":\"\"},\"colorscale\":[[0.0,\"#0d0887\"],[0.1111111111111111,\"#46039f\"],[0.2222222222222222,\"#7201a8\"],[0.3333333333333333,\"#9c179e\"],[0.4444444444444444,\"#bd3786\"],[0.5555555555555556,\"#d8576b\"],[0.6666666666666666,\"#ed7953\"],[0.7777777777777778,\"#fb9f3a\"],[0.8888888888888888,\"#fdca26\"],[1.0,\"#f0f921\"]]}],\"contourcarpet\":[{\"type\":\"contourcarpet\",\"colorbar\":{\"outlinewidth\":0,\"ticks\":\"\"}}],\"contour\":[{\"type\":\"contour\",\"colorbar\":{\"outlinewidth\":0,\"ticks\":\"\"},\"colorscale\":[[0.0,\"#0d0887\"],[0.1111111111111111,\"#46039f\"],[0.2222222222222222,\"#7201a8\"],[0.3333333333333333,\"#9c179e\"],[0.4444444444444444,\"#bd3786\"],[0.5555555555555556,\"#d8576b\"],[0.6666666666666666,\"#ed7953\"],[0.7777777777777778,\"#fb9f3a\"],[0.8888888888888888,\"#fdca26\"],[1.0,\"#f0f921\"]]}],\"surface\":[{\"type\":\"surface\",\"colorbar\":{\"outlinewidth\":0,\"ticks\":\"\"},\"colorscale\":[[0.0,\"#0d0887\"],[0.1111111111111111,\"#46039f\"],[0.2222222222222222,\"#7201a8\"],[0.3333333333333333,\"#9c179e\"],[0.4444444444444444,\"#bd3786\"],[0.5555555555555556,\"#d8576b\"],[0.6666666666666666,\"#ed7953\"],[0.7777777777777778,\"#fb9f3a\"],[0.8888888888888888,\"#fdca26\"],[1.0,\"#f0f921\"]]}],\"mesh3d\":[{\"type\":\"mesh3d\",\"colorbar\":{\"outlinewidth\":0,\"ticks\":\"\"}}],\"scatter\":[{\"fillpattern\":{\"fillmode\":\"overlay\",\"size\":10,\"solidity\":0.2},\"type\":\"scatter\"}],\"parcoords\":[{\"type\":\"parcoords\",\"line\":{\"colorbar\":{\"outlinewidth\":0,\"ticks\":\"\"}}}],\"scatterpolargl\":[{\"type\":\"scatterpolargl\",\"marker\":{\"colorbar\":{\"outlinewidth\":0,\"ticks\":\"\"}}}],\"bar\":[{\"error_x\":{\"color\":\"#2a3f5f\"},\"error_y\":{\"color\":\"#2a3f5f\"},\"marker\":{\"line\":{\"color\":\"#E5ECF6\",\"width\":0.5},\"pattern\":{\"fillmode\":\"overlay\",\"size\":10,\"solidity\":0.2}},\"type\":\"bar\"}],\"scattergeo\":[{\"type\":\"scattergeo\",\"marker\":{\"colorbar\":{\"outlinewidth\":0,\"ticks\":\"\"}}}],\"scatterpolar\":[{\"type\":\"scatterpolar\",\"marker\":{\"colorbar\":{\"outlinewidth\":0,\"ticks\":\"\"}}}],\"histogram\":[{\"marker\":{\"pattern\":{\"fillmode\":\"overlay\",\"size\":10,\"solidity\":0.2}},\"type\":\"histogram\"}],\"scattergl\":[{\"type\":\"scattergl\",\"marker\":{\"colorbar\":{\"outlinewidth\":0,\"ticks\":\"\"}}}],\"scatter3d\":[{\"type\":\"scatter3d\",\"line\":{\"colorbar\":{\"outlinewidth\":0,\"ticks\":\"\"}},\"marker\":{\"colorbar\":{\"outlinewidth\":0,\"ticks\":\"\"}}}],\"scattermapbox\":[{\"type\":\"scattermapbox\",\"marker\":{\"colorbar\":{\"outlinewidth\":0,\"ticks\":\"\"}}}],\"scatterternary\":[{\"type\":\"scatterternary\",\"marker\":{\"colorbar\":{\"outlinewidth\":0,\"ticks\":\"\"}}}],\"scattercarpet\":[{\"type\":\"scattercarpet\",\"marker\":{\"colorbar\":{\"outlinewidth\":0,\"ticks\":\"\"}}}],\"carpet\":[{\"aaxis\":{\"endlinecolor\":\"#2a3f5f\",\"gridcolor\":\"white\",\"linecolor\":\"white\",\"minorgridcolor\":\"white\",\"startlinecolor\":\"#2a3f5f\"},\"baxis\":{\"endlinecolor\":\"#2a3f5f\",\"gridcolor\":\"white\",\"linecolor\":\"white\",\"minorgridcolor\":\"white\",\"startlinecolor\":\"#2a3f5f\"},\"type\":\"carpet\"}],\"table\":[{\"cells\":{\"fill\":{\"color\":\"#EBF0F8\"},\"line\":{\"color\":\"white\"}},\"header\":{\"fill\":{\"color\":\"#C8D4E3\"},\"line\":{\"color\":\"white\"}},\"type\":\"table\"}],\"barpolar\":[{\"marker\":{\"line\":{\"color\":\"#E5ECF6\",\"width\":0.5},\"pattern\":{\"fillmode\":\"overlay\",\"size\":10,\"solidity\":0.2}},\"type\":\"barpolar\"}],\"pie\":[{\"automargin\":true,\"type\":\"pie\"}]},\"layout\":{\"autotypenumbers\":\"strict\",\"colorway\":[\"#636efa\",\"#EF553B\",\"#00cc96\",\"#ab63fa\",\"#FFA15A\",\"#19d3f3\",\"#FF6692\",\"#B6E880\",\"#FF97FF\",\"#FECB52\"],\"font\":{\"color\":\"#2a3f5f\"},\"hovermode\":\"closest\",\"hoverlabel\":{\"align\":\"left\"},\"paper_bgcolor\":\"white\",\"plot_bgcolor\":\"#E5ECF6\",\"polar\":{\"bgcolor\":\"#E5ECF6\",\"angularaxis\":{\"gridcolor\":\"white\",\"linecolor\":\"white\",\"ticks\":\"\"},\"radialaxis\":{\"gridcolor\":\"white\",\"linecolor\":\"white\",\"ticks\":\"\"}},\"ternary\":{\"bgcolor\":\"#E5ECF6\",\"aaxis\":{\"gridcolor\":\"white\",\"linecolor\":\"white\",\"ticks\":\"\"},\"baxis\":{\"gridcolor\":\"white\",\"linecolor\":\"white\",\"ticks\":\"\"},\"caxis\":{\"gridcolor\":\"white\",\"linecolor\":\"white\",\"ticks\":\"\"}},\"coloraxis\":{\"colorbar\":{\"outlinewidth\":0,\"ticks\":\"\"}},\"colorscale\":{\"sequential\":[[0.0,\"#0d0887\"],[0.1111111111111111,\"#46039f\"],[0.2222222222222222,\"#7201a8\"],[0.3333333333333333,\"#9c179e\"],[0.4444444444444444,\"#bd3786\"],[0.5555555555555556,\"#d8576b\"],[0.6666666666666666,\"#ed7953\"],[0.7777777777777778,\"#fb9f3a\"],[0.8888888888888888,\"#fdca26\"],[1.0,\"#f0f921\"]],\"sequentialminus\":[[0.0,\"#0d0887\"],[0.1111111111111111,\"#46039f\"],[0.2222222222222222,\"#7201a8\"],[0.3333333333333333,\"#9c179e\"],[0.4444444444444444,\"#bd3786\"],[0.5555555555555556,\"#d8576b\"],[0.6666666666666666,\"#ed7953\"],[0.7777777777777778,\"#fb9f3a\"],[0.8888888888888888,\"#fdca26\"],[1.0,\"#f0f921\"]],\"diverging\":[[0,\"#8e0152\"],[0.1,\"#c51b7d\"],[0.2,\"#de77ae\"],[0.3,\"#f1b6da\"],[0.4,\"#fde0ef\"],[0.5,\"#f7f7f7\"],[0.6,\"#e6f5d0\"],[0.7,\"#b8e186\"],[0.8,\"#7fbc41\"],[0.9,\"#4d9221\"],[1,\"#276419\"]]},\"xaxis\":{\"gridcolor\":\"white\",\"linecolor\":\"white\",\"ticks\":\"\",\"title\":{\"standoff\":15},\"zerolinecolor\":\"white\",\"automargin\":true,\"zerolinewidth\":2},\"yaxis\":{\"gridcolor\":\"white\",\"linecolor\":\"white\",\"ticks\":\"\",\"title\":{\"standoff\":15},\"zerolinecolor\":\"white\",\"automargin\":true,\"zerolinewidth\":2},\"scene\":{\"xaxis\":{\"backgroundcolor\":\"#E5ECF6\",\"gridcolor\":\"white\",\"linecolor\":\"white\",\"showbackground\":true,\"ticks\":\"\",\"zerolinecolor\":\"white\",\"gridwidth\":2},\"yaxis\":{\"backgroundcolor\":\"#E5ECF6\",\"gridcolor\":\"white\",\"linecolor\":\"white\",\"showbackground\":true,\"ticks\":\"\",\"zerolinecolor\":\"white\",\"gridwidth\":2},\"zaxis\":{\"backgroundcolor\":\"#E5ECF6\",\"gridcolor\":\"white\",\"linecolor\":\"white\",\"showbackground\":true,\"ticks\":\"\",\"zerolinecolor\":\"white\",\"gridwidth\":2}},\"shapedefaults\":{\"line\":{\"color\":\"#2a3f5f\"}},\"annotationdefaults\":{\"arrowcolor\":\"#2a3f5f\",\"arrowhead\":0,\"arrowwidth\":1},\"geo\":{\"bgcolor\":\"white\",\"landcolor\":\"#E5ECF6\",\"subunitcolor\":\"white\",\"showland\":true,\"showlakes\":true,\"lakecolor\":\"white\"},\"title\":{\"x\":0.05},\"mapbox\":{\"style\":\"light\"}}},\"scene\":{\"domain\":{\"x\":[0.0,1.0],\"y\":[0.0,1.0]},\"xaxis\":{\"title\":{\"text\":\"x\"}},\"yaxis\":{\"title\":{\"text\":\"y\"}},\"zaxis\":{\"title\":{\"text\":\"z\"}}},\"legend\":{\"tracegroupgap\":0},\"margin\":{\"t\":60}},                        {\"responsive\": true}                    ).then(function(){\n",
       "                            \n",
       "var gd = document.getElementById('f95ffea1-eb5c-48a3-bdfe-f32fe6410de3');\n",
       "var x = new MutationObserver(function (mutations, observer) {{\n",
       "        var display = window.getComputedStyle(gd).display;\n",
       "        if (!display || display === 'none') {{\n",
       "            console.log([gd, 'removed!']);\n",
       "            Plotly.purge(gd);\n",
       "            observer.disconnect();\n",
       "        }}\n",
       "}});\n",
       "\n",
       "// Listen for the removal of the full notebook cells\n",
       "var notebookContainer = gd.closest('#notebook-container');\n",
       "if (notebookContainer) {{\n",
       "    x.observe(notebookContainer, {childList: true});\n",
       "}}\n",
       "\n",
       "// Listen for the clearing of the current output cell\n",
       "var outputEl = gd.closest('.output');\n",
       "if (outputEl) {{\n",
       "    x.observe(outputEl, {childList: true});\n",
       "}}\n",
       "\n",
       "                        })                };                            </script>        </div>\n",
       "</body>\n",
       "</html>"
      ]
     },
     "metadata": {},
     "output_type": "display_data"
    }
   ],
   "source": [
    "fig = px.scatter_3d(x=x[:200],y=y[:200],z=z[:200],text=sample[:200])\n",
    "fig.update_traces(marker=dict(size=3,line=dict(width=2)),textfont_size=10)\n",
    "fig.show()"
   ]
  },
  {
   "cell_type": "code",
   "execution_count": 19,
   "metadata": {
    "colab": {
     "base_uri": "https://localhost:8080/",
     "height": 542
    },
    "id": "03qikBRdHys0",
    "outputId": "7bfda1aa-e0a8-409b-ab13-e4c6b49473ee"
   },
   "outputs": [
    {
     "data": {
      "application/vnd.plotly.v1+json": {
       "config": {
        "plotlyServerURL": "https://plot.ly"
       },
       "data": [
        {
         "hovertemplate": "x=%{x}<br>y=%{y}<br>z=%{z}<br>text=%{text}<extra></extra>",
         "legendgroup": "",
         "marker": {
          "color": "#636efa",
          "line": {
           "width": 2
          },
          "size": 3,
          "symbol": "circle"
         },
         "mode": "markers+text",
         "name": "",
         "scene": "scene",
         "showlegend": false,
         "text": [
          "red",
          "green",
          "blue",
          "orange",
          "yellow",
          "purple",
          "pink",
          "cream",
          "brown",
          "black",
          "white",
          "gray",
          null,
          null,
          null,
          null,
          null,
          null,
          null,
          null,
          null,
          null,
          null,
          null,
          null,
          null,
          null,
          null,
          null,
          null,
          null,
          null,
          null,
          null,
          null,
          null,
          null,
          null,
          null,
          null,
          null,
          null,
          null,
          null,
          null,
          null,
          null,
          null,
          null,
          null,
          null,
          null,
          null,
          null,
          null,
          null,
          null,
          null,
          null,
          null,
          null,
          null,
          null,
          null,
          null,
          null,
          null,
          null,
          null,
          null,
          null,
          null,
          null,
          null,
          null,
          null,
          null,
          null,
          null,
          null,
          null,
          null,
          null,
          null,
          null,
          null,
          null,
          null,
          null,
          null,
          null,
          null,
          null,
          null,
          null,
          null,
          null,
          null,
          null,
          null,
          null,
          null,
          null,
          null,
          null,
          null,
          null,
          null,
          null,
          null,
          null,
          null,
          null,
          null,
          null,
          null,
          null,
          null,
          null,
          null,
          null,
          null,
          null,
          null,
          null,
          null,
          null,
          null,
          null,
          null,
          null,
          null,
          null,
          null,
          null,
          null,
          null,
          null,
          null,
          null,
          null,
          null,
          null,
          null,
          null,
          null,
          null,
          null,
          null,
          null,
          null,
          null,
          null,
          null,
          null,
          null,
          null,
          null,
          null,
          null,
          null,
          null,
          null,
          null,
          null,
          null,
          null,
          null,
          null,
          null,
          null,
          null,
          null,
          null,
          null,
          null,
          null,
          null,
          null,
          null,
          null,
          null,
          null,
          null,
          null,
          null,
          null,
          null,
          null,
          null,
          null,
          null,
          null,
          null,
          null,
          null,
          null,
          null,
          null,
          null,
          null,
          null,
          null,
          null,
          null,
          null,
          null,
          null,
          null,
          null,
          null,
          null,
          null,
          null,
          null,
          null,
          null,
          null,
          null,
          null,
          null,
          null,
          null,
          null,
          null,
          null,
          null,
          null,
          null,
          null,
          null,
          null,
          null,
          null,
          null,
          null,
          null,
          null,
          null,
          null,
          null,
          null,
          null,
          null,
          null,
          null,
          null,
          null,
          null,
          null,
          null,
          null,
          null,
          null,
          null,
          null,
          null,
          null,
          null,
          null,
          null,
          null,
          null,
          null,
          null,
          null,
          null,
          null,
          null,
          null,
          null,
          null,
          null,
          null,
          null,
          null,
          null,
          null,
          null,
          null,
          null,
          null,
          null,
          null,
          null,
          null,
          null,
          null,
          null,
          null,
          null,
          null,
          null,
          null,
          null,
          null,
          null,
          null,
          null,
          null,
          null,
          null,
          null,
          null,
          null,
          null,
          null,
          null,
          null,
          null,
          null,
          null,
          null,
          null,
          null,
          null,
          null,
          null,
          null,
          null,
          null,
          null,
          null,
          null,
          null,
          null,
          null,
          null,
          null,
          null,
          null,
          null,
          null,
          null,
          null,
          null,
          null,
          null,
          null,
          null,
          null,
          null,
          null,
          null,
          null,
          null,
          null,
          null,
          null,
          null,
          null,
          null,
          null,
          null,
          null,
          null,
          null,
          null,
          null,
          null,
          null,
          null,
          null,
          null,
          null,
          null,
          null,
          null,
          null,
          null,
          null,
          null,
          null,
          null,
          null,
          null,
          null,
          null,
          null,
          null,
          null,
          null,
          null,
          null,
          null,
          null,
          null,
          null,
          null,
          null,
          null,
          null,
          null,
          null,
          null,
          null,
          null,
          null,
          null,
          null,
          null,
          null,
          null,
          null,
          null,
          null,
          null,
          null,
          null,
          null,
          null,
          null,
          null,
          null,
          null,
          null,
          null,
          null,
          null,
          null,
          null,
          null,
          null,
          null,
          null,
          null,
          null,
          null,
          null,
          null,
          null,
          null,
          null,
          null,
          null,
          null,
          null,
          null,
          null,
          null,
          null,
          null,
          null,
          null,
          null,
          null,
          null,
          null,
          null,
          null,
          null,
          null,
          null,
          null,
          null,
          null,
          null,
          null,
          null,
          null,
          null,
          null,
          null,
          null,
          null,
          null,
          null,
          null,
          null,
          null,
          null,
          null,
          null,
          null,
          null,
          null,
          null,
          null,
          null,
          null,
          null,
          null,
          null,
          null,
          null,
          null,
          null,
          null,
          null,
          null,
          null,
          null,
          null,
          null,
          null,
          null,
          null,
          null,
          null,
          null,
          null,
          null,
          null,
          null,
          null,
          null,
          null,
          null,
          null,
          null,
          null,
          null
         ],
         "textfont": {
          "size": 10
         },
         "type": "scatter3d",
         "x": {
          "bdata": "ouaDQuM/U0Kww2tCAppyQsfNiULgbmBCYkZrQtMNYUIzvIxCcSyIQtG5jUIE72dCWCcLQbXYn8EHdYBCasnpQPrUsUF5mYfCYs4uQfNj0cBgQN3B6aY7QrtJ3sHlHMzA927TQTGqSsI7XLxB1om2wdAqKEKCKFjCTx1rwZssY0LevHBBC6o8Qg85okHS7MdA3yyfQcSv3kG8HQJC58AqwjxNmULFr+fB7XdFwVmcOsHBfDNCZO8uQj+6E8K4oOHB8I2nQf2uOEJHKknCeEq6wJi1/MFI3/JBNQPTQUTUC0ImCEnBv0QlQsA9iML0sOlBbCldQT6Xg0IarufBwkRmwuE7qkETXqRA5WA7Qs9LUkKmHSNCXUttwi2IhMLpgXxCM/WBQaRN20BE/AlCs97yQfoTE8LI5wxA0oyOwcI6ckGWCATCfI3LwGF9e8Icov7BYONqQlr+RUEhlM/ASQwkwVFHKUKKNsHAy4UlwLRzMkJurgLCQIVbwJByykBISrBBXFOEwImF4cEcQ07BokEfwjfUo8GVqr7BdjSYQohxE0IslQvB8mYKwS3QIEIV0yFCLTW5wLgtMcJb7zdCMJsSws3IGkIDXNtARyZXwtdgXELKqTZABvSLwegTUEH5ps/By1E+QrO4pkDEzUDBa5M1wnaLLUIxGSdCagixwZhcgEGwDJbBIfEsQlIV/cDTY4tB64J4QjwuAEIdCtpA+MsCwsXbD0JMyUJCBXCXwcTwdcF01LHBsVG1P20et0GadWzCWyZSwhmhOsG1Ng/CchFCwnzGAEKrT7JBh1qIQoPyhcHov2DCdT2vQYKjd0LQYJ5BrykHQn65vMCigPZB82JYQb51dEIVHQZCqmrpQdwtYL95X2ZB6NJrwj6jL78P8uBBZN6jwkE79sHbm5pB2qGZQTfjjkJIvvxB4rZlwWnVC8LrWTdCltwhQtmhlcElSm9CE5iUQgd5DkLQ/WZAfyWewp1eFUE9zCPA4o/2Qd/J8MEp+ezAtSvxv2ZTvMAX5xZCZIkfwm94r0DBw8lBYwNMwfUg/MGBzJbBJo12QbC5h8LcekhCeDwswlmeNsJQP5DBFE/dQao37EAEY4rCWIw9wv1iSsE9u4FCrG0RwYBTCsLjEbrBKwxUQoIMG0Ln7h5B2RCMwnsVmMBxc5bBndJswR+IH0LpWiTCKh+kQNM5UEIhTwNCVGVMwl4a6kFeiwfC6f24wf7aSkIM+S9CDbHDwRHGi8Lg9QpBOPTKQUpsi8GcbXFA7x/sQWptc8I1UBNCLX6PQvFZZEGIgL9AUe4lwmCH1sFc0qFBySIbwtQgbUBrzYnArEDpwH3SMUKw1hzCYrPdQMwAH8KBSvVB8a7ywW0nI0LRPHnBZbUHQnCf0EBVJgpCxXTOwft6RsJi+f3B9AFnQb2cCcIXm2TCwlWkQaeWOULBdVzAqcyGPnS20kHiHTZCfcinwWd9dMGcawFCj9kMwsubCMJw681B48GMv1hSTEJj1xRCjJs3wj5TW8ICc9nBiUSQQuWOp0DKs6HBt1GNwaAJv8Gwdf3BS7gpQTvLgkIwzDVCMBPZwStk1cHFfbzBQNcYwpWXm8AiPaJA3KX/QROfn8ET10TCd+KiwI+Ha8EwNaDB77MywkjpK8KAdTlCbnEqQiQxZEHpeNtBDbqPQcGfDsCR6ZxCTgaEwHhe1sDkq7BBCyYOQnlPMcGXdIHBe5jSv+KyrrxCKiDBI0CLQmVdLcE1jMRBT4g+wtRomMHiA93BgFfcPnylTMJ4viVC7vvewWm8fECcbh/CvE/4QepSRsLJvWzCBUM+wkStM0KAzDBCM9FWwlliBkL4VtNBAqW6v5XHqEFKNSXC+ryKQlR1SEBP5mfCCC+XwceDHMJJuLNB5W0iwmMkIsHXTi7Bae0bwTiY3UEDsgDCSWk8QL5QMEIyaf1AyFsZQW3R2cHSkGHC2IkKwr9Rk8KpeKtBtGbwQXH+BMKnbLzB6qKHwerGAcDNJyZCUItswsoLKkLRgVlCNLOowcz1bUEnGT/C2+BhwTLFDsLoPwBCgawCQTo7g8LW3DrBN02IwX71mEHUFkHC7TKvP+hmxz5uPGFB41BPwlR1mcLayhVCxHIUwhhuMUFblFpCetpnwR5Rf8KHM6dA2I4Uws7YtsFzg5HCS8AIQmAeRkEHyyDC5hIqQok+UcJVgJHC0PiQwG2iP0IkxfDBlHScQWTZ6kE4k8C/epyMQRMwksIRB2xCwiJXwUviScG0sDfAfM4EQY3fJsGDh3dBWR95wsxF7EHEW0hCVxThwXkDJEJ0btTBCorEwcWjg8J+Ow3CnzusQdcyYsJHKVPArga1wYEUscHJjPPBidc1wj97BsJTvoY/Mo6aQUvxhcK6AQ1CQrD+QNpG88EgQhHCVJMdQOykI0H8X8tAcpwUQvhNgEDN3M0/Rch/Qvr/P8IjRqPCGX7zwavZ08Ft6XJCYQ2LQZHPCkGRlh5B2i8xwjTcz0HVsU3Cx42Uwea1FUGeOLLAQiBuwSwoGMCBLAXCcE2RwT2ZK8GSp9XBYAeRQb4qe0LWl8nAGPQYwq75HkG5SO3AnSYFwmNtQcIXJ/hBmjSEQiWwmUHfVsJByvuIv1m0MkKACQ3Ct88hws8ueELReAvAJwdUwlknIUJzGdvAdSKGQdxWZUEw3D/CqGlSwYV3jkF7ise+nO6mwlh4XEG4OYPB6FYwwUiAHEIT0YdCZfjHQT14V0E=",
          "dtype": "f4"
         },
         "y": {
          "bdata": "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",
          "dtype": "f4"
         },
         "z": {
          "bdata": "ANifQdG6h0Ez9ZRBJmp3PxgEGUEoiLxAB4TgvydPXsEqQe+9HxGvQRdSW0HlDp5Ay6AIwh6VaUAiR7nBS5gDwlqk+790OCPCCcAmwse89MHXOo4/3YuxQfrOCsI1zIpAfNtfQvu8+MGDwWJCH6FwQmsUhsGA8cXBudGUQI6mBMLvtE5BqN8GQUSztMHB1qBAGHGmQcWeEsKW5zfB3W0CQTgq8cDSM0FC+vwLwWLYVUJC0iZCAEqawYwaAUDTyAVC9FKHvSuWisJd2gjCPsEQQojd3cA4dETC+yQDQia+dsAkmADCeLdGwkRIF0IqZoJCY7PAwXsIl8HDD5VAG5M+QQbAh8FPlpRA9jX/wR3jgUHaYy7CDjcfQrAoGcH8/ojAtyLgwbnVlEE2m//ALXaoQWrmrkFqn2rCAzjqQJ2Fg8KO8R1Aa4mEwKh8jsCSQSZCZTwuwiLLasHZ4WfCymNZQS7NOUJHqJdBcyiLQlCk6MD5N/c/05CSwmvYZsGjHtRByWMQwYW3mkE+VIzC24VyQd8+3EHs/LVBcMrywTrXikCrDihC7gpZwWR0iEH6kQvCEp2yQXzhhMBR9IHC9pkqQmIR1cHQQjzCRtRkwpxuCsGNYZTCGtFfwn+EE8KmOAdCMv8bwIl7kELy3RbA93jKwb5jFkJtXX3Al67cwK2cyMEjBobBAO9sQsyRzcGGmQjB+DMjQo16W0Lsleo9h4gLwqn0iUI4LjrCdCc2wu5V60FkXFdC4Up3wXnqK8Kwfh/CdZiCQdVXbkHfZNJAjySxv2HNq8G+wVvCxbvDQUJXh0IH7jRCqvoyQQF6/0EB3BtCkDVKwpVSjULHiUJCleCBwd6lccGo3TlC/TCWPCXIBsKYTYhCMaysQNZxv0FiAkRCrgJMv//Ki8FNNEjCYp1mwp2o5T6MapLBNewdwPbCY8Lp7MLBIb7SwMV+ysGnmKbBtJOzQcbS1EEE37jB4RLvQDh8I0L1G9xBqBxxQd45ZMJEXDnCb4YTQk+qYsLkH6jBVYMGQQbFVkKAAMJBGG6GwRPkBcJdSU3Bu+g9wsW71UGnUcFBV9CIwZASfEGzgNZAZOlAwaLsNcIFk4lBdjrtQQjHcUJXAaxA1suAwlsnE0Jn0CPCus3EPgLyj0FzZEjCG6SdwP3oFMKcw/tBXSBNQmTLJcJWvaTAzYrcQTS8L0FG4mxCo1nVQTtK2L8kELtBmHMXQoILVkEnYCnB6habQco+ccExGwHCv9fzQfehVkE8nsfB+UAuwjXxnsGp+bNAIDZJQQ8zecFdrBlCJci7QWgikkI2ad9BcQpHwE30tEEaOsNAFkCMwhhow8AI3n5A1BaZwi9TGUKH78xA54JZwuEA5kH0L3fCvNIFwkLdBMDQjPBA+VyXQQ67qsB5YV1C3h89QpXl/cEA/D3CdGAFQv0tzsEaw1JC2DYrQUgrpcHIkVjBhRSDwkRVB0IYDepBujwJQuBL9MEeXSXAmIhKwmZwMsAwqRbCM4Fuwt6risEoq4PAf+3kwW2jMULYlHfAenDuwcB9e0FtNBlCSYoWQvzpGsKgaGpCBv6RwmnxS8LGiuXBAPfoQeWZysDHrJ3B7PyEws3+GEIA4bTBROoKwbVYgj8lVPhA/MFVQaEPhcIaG3FCsy3uQUQZJkHjTMxBWTREQvY+TkJkfVdAFDsJQebNRsKc9RrCJcYGQoJgeUEXvDRCxPywwa6mSEIiRClC5xn7QQukekH0A0pCQ5uiQQtE2MFv0IFBGldIQQQtnMCpo2jC2YMeQb8h38BCWmVCMb2SwSoL10HxjEZCTko6Qvy3dEJ9CC5CIQ60QGE7+z8WmDlBJtNIQfVXa78Y3iTCGv4YwUcCNMI07XRBpXqnwag0fMERkgHCHlyPwR114cFNLGXC5lfLwXI81sCmp+1A8KvRQWUQWcF6FxFCiX9gQi69BkJKNd3BZidtwXVOykGLzBjCksBSQkB158H7f2LB9WbdQXjwWkGvxqFBzbT9QQDMC0H8XhvCyPqkwHlxH0LwNizCrNScQYZVdsLgpRFCVPdQwTJZu0Hqo8FBpJmAwdiljUFe7uNAICGqQZcUg8CcaVpB3ryKwR0+kUFWCHjCMo6CwZ6nXULG2ulBMR0WwkUgVEK/8BPCz9iHQkZ9c8Js36rBvv5owpqs3EHKqCLBj03sQT6yAULixArBWl8fwTWsgUKfmz/BtuREwrqcM8EW7QBCTwgaQXAKcEDZffLBxLCPwYuHGcKr29M+ml1awl9YKUIrkQLBuUp7Qcyk9sGfXV7C2G5hQrZtP0LaxSLBhngRwqqRvUA7/ibCBXcIwso+rb8GDJJCzC2IQGQyscHb11pBZbE0QpQmMMKZwHjBmVOFwuNcj0FIRVLB9lDbQNJLh8HOAVLCE6QKwtokNcHpB91A80KkQc4KcUIC9APCEW9Rv2flBUGUzUlB6FB7wodxJsLTLiVBZoP8Qb+XEkLUKPc+DHv5QTmhOMFNm11CN+2oQPRzCMJNPbHB0OwAwtojjsLDIb49hx+MQe7tMMKKq7bB52YIQFGcH8KsCDTCqKnuwaJiu0AvCLFBQ3e6QasIUULuGnFCy/nLwYmXesEwT5hClAN5wddx0MFuaZNBfCgrwiFPZL926cZBbjifwGXkMMKbPylAsu5kwuw1d0K+xqbBS4sMwRs8qb/+zT7Cx9HQQVo1XEHh1XtCBtpLQjJRrUBjGJjBZ4ZKwd3NKkE=",
          "dtype": "f4"
         }
        }
       ],
       "layout": {
        "legend": {
         "tracegroupgap": 0
        },
        "margin": {
         "t": 60
        },
        "scene": {
         "domain": {
          "x": [
           0,
           1
          ],
          "y": [
           0,
           1
          ]
         },
         "xaxis": {
          "range": [
           -200,
           200
          ],
          "title": {
           "text": "x"
          }
         },
         "yaxis": {
          "range": [
           -200,
           200
          ],
          "title": {
           "text": "y"
          }
         },
         "zaxis": {
          "range": [
           -200,
           200
          ],
          "title": {
           "text": "z"
          }
         }
        },
        "template": {
         "data": {
          "bar": [
           {
            "error_x": {
             "color": "#2a3f5f"
            },
            "error_y": {
             "color": "#2a3f5f"
            },
            "marker": {
             "line": {
              "color": "#E5ECF6",
              "width": 0.5
             },
             "pattern": {
              "fillmode": "overlay",
              "size": 10,
              "solidity": 0.2
             }
            },
            "type": "bar"
           }
          ],
          "barpolar": [
           {
            "marker": {
             "line": {
              "color": "#E5ECF6",
              "width": 0.5
             },
             "pattern": {
              "fillmode": "overlay",
              "size": 10,
              "solidity": 0.2
             }
            },
            "type": "barpolar"
           }
          ],
          "carpet": [
           {
            "aaxis": {
             "endlinecolor": "#2a3f5f",
             "gridcolor": "white",
             "linecolor": "white",
             "minorgridcolor": "white",
             "startlinecolor": "#2a3f5f"
            },
            "baxis": {
             "endlinecolor": "#2a3f5f",
             "gridcolor": "white",
             "linecolor": "white",
             "minorgridcolor": "white",
             "startlinecolor": "#2a3f5f"
            },
            "type": "carpet"
           }
          ],
          "choropleth": [
           {
            "colorbar": {
             "outlinewidth": 0,
             "ticks": ""
            },
            "type": "choropleth"
           }
          ],
          "contour": [
           {
            "colorbar": {
             "outlinewidth": 0,
             "ticks": ""
            },
            "colorscale": [
             [
              0,
              "#0d0887"
             ],
             [
              0.1111111111111111,
              "#46039f"
             ],
             [
              0.2222222222222222,
              "#7201a8"
             ],
             [
              0.3333333333333333,
              "#9c179e"
             ],
             [
              0.4444444444444444,
              "#bd3786"
             ],
             [
              0.5555555555555556,
              "#d8576b"
             ],
             [
              0.6666666666666666,
              "#ed7953"
             ],
             [
              0.7777777777777778,
              "#fb9f3a"
             ],
             [
              0.8888888888888888,
              "#fdca26"
             ],
             [
              1,
              "#f0f921"
             ]
            ],
            "type": "contour"
           }
          ],
          "contourcarpet": [
           {
            "colorbar": {
             "outlinewidth": 0,
             "ticks": ""
            },
            "type": "contourcarpet"
           }
          ],
          "heatmap": [
           {
            "colorbar": {
             "outlinewidth": 0,
             "ticks": ""
            },
            "colorscale": [
             [
              0,
              "#0d0887"
             ],
             [
              0.1111111111111111,
              "#46039f"
             ],
             [
              0.2222222222222222,
              "#7201a8"
             ],
             [
              0.3333333333333333,
              "#9c179e"
             ],
             [
              0.4444444444444444,
              "#bd3786"
             ],
             [
              0.5555555555555556,
              "#d8576b"
             ],
             [
              0.6666666666666666,
              "#ed7953"
             ],
             [
              0.7777777777777778,
              "#fb9f3a"
             ],
             [
              0.8888888888888888,
              "#fdca26"
             ],
             [
              1,
              "#f0f921"
             ]
            ],
            "type": "heatmap"
           }
          ],
          "histogram": [
           {
            "marker": {
             "pattern": {
              "fillmode": "overlay",
              "size": 10,
              "solidity": 0.2
             }
            },
            "type": "histogram"
           }
          ],
          "histogram2d": [
           {
            "colorbar": {
             "outlinewidth": 0,
             "ticks": ""
            },
            "colorscale": [
             [
              0,
              "#0d0887"
             ],
             [
              0.1111111111111111,
              "#46039f"
             ],
             [
              0.2222222222222222,
              "#7201a8"
             ],
             [
              0.3333333333333333,
              "#9c179e"
             ],
             [
              0.4444444444444444,
              "#bd3786"
             ],
             [
              0.5555555555555556,
              "#d8576b"
             ],
             [
              0.6666666666666666,
              "#ed7953"
             ],
             [
              0.7777777777777778,
              "#fb9f3a"
             ],
             [
              0.8888888888888888,
              "#fdca26"
             ],
             [
              1,
              "#f0f921"
             ]
            ],
            "type": "histogram2d"
           }
          ],
          "histogram2dcontour": [
           {
            "colorbar": {
             "outlinewidth": 0,
             "ticks": ""
            },
            "colorscale": [
             [
              0,
              "#0d0887"
             ],
             [
              0.1111111111111111,
              "#46039f"
             ],
             [
              0.2222222222222222,
              "#7201a8"
             ],
             [
              0.3333333333333333,
              "#9c179e"
             ],
             [
              0.4444444444444444,
              "#bd3786"
             ],
             [
              0.5555555555555556,
              "#d8576b"
             ],
             [
              0.6666666666666666,
              "#ed7953"
             ],
             [
              0.7777777777777778,
              "#fb9f3a"
             ],
             [
              0.8888888888888888,
              "#fdca26"
             ],
             [
              1,
              "#f0f921"
             ]
            ],
            "type": "histogram2dcontour"
           }
          ],
          "mesh3d": [
           {
            "colorbar": {
             "outlinewidth": 0,
             "ticks": ""
            },
            "type": "mesh3d"
           }
          ],
          "parcoords": [
           {
            "line": {
             "colorbar": {
              "outlinewidth": 0,
              "ticks": ""
             }
            },
            "type": "parcoords"
           }
          ],
          "pie": [
           {
            "automargin": true,
            "type": "pie"
           }
          ],
          "scatter": [
           {
            "fillpattern": {
             "fillmode": "overlay",
             "size": 10,
             "solidity": 0.2
            },
            "type": "scatter"
           }
          ],
          "scatter3d": [
           {
            "line": {
             "colorbar": {
              "outlinewidth": 0,
              "ticks": ""
             }
            },
            "marker": {
             "colorbar": {
              "outlinewidth": 0,
              "ticks": ""
             }
            },
            "type": "scatter3d"
           }
          ],
          "scattercarpet": [
           {
            "marker": {
             "colorbar": {
              "outlinewidth": 0,
              "ticks": ""
             }
            },
            "type": "scattercarpet"
           }
          ],
          "scattergeo": [
           {
            "marker": {
             "colorbar": {
              "outlinewidth": 0,
              "ticks": ""
             }
            },
            "type": "scattergeo"
           }
          ],
          "scattergl": [
           {
            "marker": {
             "colorbar": {
              "outlinewidth": 0,
              "ticks": ""
             }
            },
            "type": "scattergl"
           }
          ],
          "scattermap": [
           {
            "marker": {
             "colorbar": {
              "outlinewidth": 0,
              "ticks": ""
             }
            },
            "type": "scattermap"
           }
          ],
          "scattermapbox": [
           {
            "marker": {
             "colorbar": {
              "outlinewidth": 0,
              "ticks": ""
             }
            },
            "type": "scattermapbox"
           }
          ],
          "scatterpolar": [
           {
            "marker": {
             "colorbar": {
              "outlinewidth": 0,
              "ticks": ""
             }
            },
            "type": "scatterpolar"
           }
          ],
          "scatterpolargl": [
           {
            "marker": {
             "colorbar": {
              "outlinewidth": 0,
              "ticks": ""
             }
            },
            "type": "scatterpolargl"
           }
          ],
          "scatterternary": [
           {
            "marker": {
             "colorbar": {
              "outlinewidth": 0,
              "ticks": ""
             }
            },
            "type": "scatterternary"
           }
          ],
          "surface": [
           {
            "colorbar": {
             "outlinewidth": 0,
             "ticks": ""
            },
            "colorscale": [
             [
              0,
              "#0d0887"
             ],
             [
              0.1111111111111111,
              "#46039f"
             ],
             [
              0.2222222222222222,
              "#7201a8"
             ],
             [
              0.3333333333333333,
              "#9c179e"
             ],
             [
              0.4444444444444444,
              "#bd3786"
             ],
             [
              0.5555555555555556,
              "#d8576b"
             ],
             [
              0.6666666666666666,
              "#ed7953"
             ],
             [
              0.7777777777777778,
              "#fb9f3a"
             ],
             [
              0.8888888888888888,
              "#fdca26"
             ],
             [
              1,
              "#f0f921"
             ]
            ],
            "type": "surface"
           }
          ],
          "table": [
           {
            "cells": {
             "fill": {
              "color": "#EBF0F8"
             },
             "line": {
              "color": "white"
             }
            },
            "header": {
             "fill": {
              "color": "#C8D4E3"
             },
             "line": {
              "color": "white"
             }
            },
            "type": "table"
           }
          ]
         },
         "layout": {
          "annotationdefaults": {
           "arrowcolor": "#2a3f5f",
           "arrowhead": 0,
           "arrowwidth": 1
          },
          "autotypenumbers": "strict",
          "coloraxis": {
           "colorbar": {
            "outlinewidth": 0,
            "ticks": ""
           }
          },
          "colorscale": {
           "diverging": [
            [
             0,
             "#8e0152"
            ],
            [
             0.1,
             "#c51b7d"
            ],
            [
             0.2,
             "#de77ae"
            ],
            [
             0.3,
             "#f1b6da"
            ],
            [
             0.4,
             "#fde0ef"
            ],
            [
             0.5,
             "#f7f7f7"
            ],
            [
             0.6,
             "#e6f5d0"
            ],
            [
             0.7,
             "#b8e186"
            ],
            [
             0.8,
             "#7fbc41"
            ],
            [
             0.9,
             "#4d9221"
            ],
            [
             1,
             "#276419"
            ]
           ],
           "sequential": [
            [
             0,
             "#0d0887"
            ],
            [
             0.1111111111111111,
             "#46039f"
            ],
            [
             0.2222222222222222,
             "#7201a8"
            ],
            [
             0.3333333333333333,
             "#9c179e"
            ],
            [
             0.4444444444444444,
             "#bd3786"
            ],
            [
             0.5555555555555556,
             "#d8576b"
            ],
            [
             0.6666666666666666,
             "#ed7953"
            ],
            [
             0.7777777777777778,
             "#fb9f3a"
            ],
            [
             0.8888888888888888,
             "#fdca26"
            ],
            [
             1,
             "#f0f921"
            ]
           ],
           "sequentialminus": [
            [
             0,
             "#0d0887"
            ],
            [
             0.1111111111111111,
             "#46039f"
            ],
            [
             0.2222222222222222,
             "#7201a8"
            ],
            [
             0.3333333333333333,
             "#9c179e"
            ],
            [
             0.4444444444444444,
             "#bd3786"
            ],
            [
             0.5555555555555556,
             "#d8576b"
            ],
            [
             0.6666666666666666,
             "#ed7953"
            ],
            [
             0.7777777777777778,
             "#fb9f3a"
            ],
            [
             0.8888888888888888,
             "#fdca26"
            ],
            [
             1,
             "#f0f921"
            ]
           ]
          },
          "colorway": [
           "#636efa",
           "#EF553B",
           "#00cc96",
           "#ab63fa",
           "#FFA15A",
           "#19d3f3",
           "#FF6692",
           "#B6E880",
           "#FF97FF",
           "#FECB52"
          ],
          "font": {
           "color": "#2a3f5f"
          },
          "geo": {
           "bgcolor": "white",
           "lakecolor": "white",
           "landcolor": "#E5ECF6",
           "showlakes": true,
           "showland": true,
           "subunitcolor": "white"
          },
          "hoverlabel": {
           "align": "left"
          },
          "hovermode": "closest",
          "mapbox": {
           "style": "light"
          },
          "paper_bgcolor": "white",
          "plot_bgcolor": "#E5ECF6",
          "polar": {
           "angularaxis": {
            "gridcolor": "white",
            "linecolor": "white",
            "ticks": ""
           },
           "bgcolor": "#E5ECF6",
           "radialaxis": {
            "gridcolor": "white",
            "linecolor": "white",
            "ticks": ""
           }
          },
          "scene": {
           "xaxis": {
            "backgroundcolor": "#E5ECF6",
            "gridcolor": "white",
            "gridwidth": 2,
            "linecolor": "white",
            "showbackground": true,
            "ticks": "",
            "zerolinecolor": "white"
           },
           "yaxis": {
            "backgroundcolor": "#E5ECF6",
            "gridcolor": "white",
            "gridwidth": 2,
            "linecolor": "white",
            "showbackground": true,
            "ticks": "",
            "zerolinecolor": "white"
           },
           "zaxis": {
            "backgroundcolor": "#E5ECF6",
            "gridcolor": "white",
            "gridwidth": 2,
            "linecolor": "white",
            "showbackground": true,
            "ticks": "",
            "zerolinecolor": "white"
           }
          },
          "shapedefaults": {
           "line": {
            "color": "#2a3f5f"
           }
          },
          "ternary": {
           "aaxis": {
            "gridcolor": "white",
            "linecolor": "white",
            "ticks": ""
           },
           "baxis": {
            "gridcolor": "white",
            "linecolor": "white",
            "ticks": ""
           },
           "bgcolor": "#E5ECF6",
           "caxis": {
            "gridcolor": "white",
            "linecolor": "white",
            "ticks": ""
           }
          },
          "title": {
           "x": 0.05
          },
          "xaxis": {
           "automargin": true,
           "gridcolor": "white",
           "linecolor": "white",
           "ticks": "",
           "title": {
            "standoff": 15
           },
           "zerolinecolor": "white",
           "zerolinewidth": 2
          },
          "yaxis": {
           "automargin": true,
           "gridcolor": "white",
           "linecolor": "white",
           "ticks": "",
           "title": {
            "standoff": 15
           },
           "zerolinecolor": "white",
           "zerolinewidth": 2
          }
         }
        }
       }
      }
     },
     "metadata": {},
     "output_type": "display_data"
    }
   ],
   "source": [
    "# Add some specific terms to sample:\n",
    "colours = ['red','green','blue','orange','yellow','purple','pink','cream','brown','black','white','gray']\n",
    "\n",
    "word_vectors = model.wv[colours+sample]\n",
    "\n",
    "tsne = TSNE(n_components=3)\n",
    "tsne_embedding = tsne.fit_transform(word_vectors)\n",
    "\n",
    "x, y, z = np.transpose(tsne_embedding)\n",
    "\n",
    "\n",
    "import plotly.express as px\n",
    "\n",
    "r = (-200,200)\n",
    "fig = px.scatter_3d(x=x, y=y, z=z, range_x=r, range_y=r, range_z=r, text=colours + [None] * 500)\n",
    "fig.update_traces(marker=dict(size=3,line=dict(width=2)),textfont_size=10)\n",
    "fig.show()"
   ]
  },
  {
   "cell_type": "code",
   "execution_count": null,
   "metadata": {},
   "outputs": [],
   "source": []
  }
 ],
 "metadata": {
  "colab": {
   "authorship_tag": "ABX9TyNTwDql0lVC2JnV80VlGTMW",
   "include_colab_link": true,
   "provenance": []
  },
  "kernelspec": {
   "display_name": "Python 3 (ipykernel)",
   "language": "python",
   "name": "python3"
  },
  "language_info": {
   "codemirror_mode": {
    "name": "ipython",
    "version": 3
   },
   "file_extension": ".py",
   "mimetype": "text/x-python",
   "name": "python",
   "nbconvert_exporter": "python",
   "pygments_lexer": "ipython3",
   "version": "3.11.12"
  }
 },
 "nbformat": 4,
 "nbformat_minor": 4
}
