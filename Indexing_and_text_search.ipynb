{
  "nbformat": 4,
  "nbformat_minor": 0,
  "metadata": {
    "colab": {
      "provenance": []
    },
    "kernelspec": {
      "name": "python3",
      "display_name": "Python 3"
    },
    "language_info": {
      "name": "python"
    },
    "widgets": {
      "application/vnd.jupyter.widget-state+json": {
        "2c0e378760a348ffbc978e6bfb65c793": {
          "model_module": "@jupyter-widgets/controls",
          "model_name": "HBoxModel",
          "model_module_version": "1.5.0",
          "state": {
            "_dom_classes": [],
            "_model_module": "@jupyter-widgets/controls",
            "_model_module_version": "1.5.0",
            "_model_name": "HBoxModel",
            "_view_count": null,
            "_view_module": "@jupyter-widgets/controls",
            "_view_module_version": "1.5.0",
            "_view_name": "HBoxView",
            "box_style": "",
            "children": [
              "IPY_MODEL_ad2a1edddea745f58c8bb97fb574400d",
              "IPY_MODEL_532f19f165624e4ab0ef0372f8cb45f6",
              "IPY_MODEL_028b87d1ee04420da7d8ac5423d6fd3a"
            ],
            "layout": "IPY_MODEL_2c29b7490c714137aeb27fa381e660a0"
          }
        },
        "ad2a1edddea745f58c8bb97fb574400d": {
          "model_module": "@jupyter-widgets/controls",
          "model_name": "HTMLModel",
          "model_module_version": "1.5.0",
          "state": {
            "_dom_classes": [],
            "_model_module": "@jupyter-widgets/controls",
            "_model_module_version": "1.5.0",
            "_model_name": "HTMLModel",
            "_view_count": null,
            "_view_module": "@jupyter-widgets/controls",
            "_view_module_version": "1.5.0",
            "_view_name": "HTMLView",
            "description": "",
            "description_tooltip": null,
            "layout": "IPY_MODEL_43389b5c4ba94e3b9d6293613546be30",
            "placeholder": "​",
            "style": "IPY_MODEL_05ebb5209d0c472e841e83a8a355fd2f",
            "value": "Indexing documents: 100%"
          }
        },
        "532f19f165624e4ab0ef0372f8cb45f6": {
          "model_module": "@jupyter-widgets/controls",
          "model_name": "FloatProgressModel",
          "model_module_version": "1.5.0",
          "state": {
            "_dom_classes": [],
            "_model_module": "@jupyter-widgets/controls",
            "_model_module_version": "1.5.0",
            "_model_name": "FloatProgressModel",
            "_view_count": null,
            "_view_module": "@jupyter-widgets/controls",
            "_view_module_version": "1.5.0",
            "_view_name": "ProgressView",
            "bar_style": "success",
            "description": "",
            "description_tooltip": null,
            "layout": "IPY_MODEL_bbd20319194b4dcabd2846119b3ec758",
            "max": 2,
            "min": 0,
            "orientation": "horizontal",
            "style": "IPY_MODEL_c06ea5e694d14b97bb2fb3e262ca9627",
            "value": 2
          }
        },
        "028b87d1ee04420da7d8ac5423d6fd3a": {
          "model_module": "@jupyter-widgets/controls",
          "model_name": "HTMLModel",
          "model_module_version": "1.5.0",
          "state": {
            "_dom_classes": [],
            "_model_module": "@jupyter-widgets/controls",
            "_model_module_version": "1.5.0",
            "_model_name": "HTMLModel",
            "_view_count": null,
            "_view_module": "@jupyter-widgets/controls",
            "_view_module_version": "1.5.0",
            "_view_name": "HTMLView",
            "description": "",
            "description_tooltip": null,
            "layout": "IPY_MODEL_a7f6de72d6ef418e8a3f4543a1a978f4",
            "placeholder": "​",
            "style": "IPY_MODEL_17e870aa3ea44561859081dc4453f384",
            "value": " 2/2 [00:00&lt;00:00, 91.96it/s]"
          }
        },
        "2c29b7490c714137aeb27fa381e660a0": {
          "model_module": "@jupyter-widgets/base",
          "model_name": "LayoutModel",
          "model_module_version": "1.2.0",
          "state": {
            "_model_module": "@jupyter-widgets/base",
            "_model_module_version": "1.2.0",
            "_model_name": "LayoutModel",
            "_view_count": null,
            "_view_module": "@jupyter-widgets/base",
            "_view_module_version": "1.2.0",
            "_view_name": "LayoutView",
            "align_content": null,
            "align_items": null,
            "align_self": null,
            "border": null,
            "bottom": null,
            "display": null,
            "flex": null,
            "flex_flow": null,
            "grid_area": null,
            "grid_auto_columns": null,
            "grid_auto_flow": null,
            "grid_auto_rows": null,
            "grid_column": null,
            "grid_gap": null,
            "grid_row": null,
            "grid_template_areas": null,
            "grid_template_columns": null,
            "grid_template_rows": null,
            "height": null,
            "justify_content": null,
            "justify_items": null,
            "left": null,
            "margin": null,
            "max_height": null,
            "max_width": null,
            "min_height": null,
            "min_width": null,
            "object_fit": null,
            "object_position": null,
            "order": null,
            "overflow": null,
            "overflow_x": null,
            "overflow_y": null,
            "padding": null,
            "right": null,
            "top": null,
            "visibility": null,
            "width": null
          }
        },
        "43389b5c4ba94e3b9d6293613546be30": {
          "model_module": "@jupyter-widgets/base",
          "model_name": "LayoutModel",
          "model_module_version": "1.2.0",
          "state": {
            "_model_module": "@jupyter-widgets/base",
            "_model_module_version": "1.2.0",
            "_model_name": "LayoutModel",
            "_view_count": null,
            "_view_module": "@jupyter-widgets/base",
            "_view_module_version": "1.2.0",
            "_view_name": "LayoutView",
            "align_content": null,
            "align_items": null,
            "align_self": null,
            "border": null,
            "bottom": null,
            "display": null,
            "flex": null,
            "flex_flow": null,
            "grid_area": null,
            "grid_auto_columns": null,
            "grid_auto_flow": null,
            "grid_auto_rows": null,
            "grid_column": null,
            "grid_gap": null,
            "grid_row": null,
            "grid_template_areas": null,
            "grid_template_columns": null,
            "grid_template_rows": null,
            "height": null,
            "justify_content": null,
            "justify_items": null,
            "left": null,
            "margin": null,
            "max_height": null,
            "max_width": null,
            "min_height": null,
            "min_width": null,
            "object_fit": null,
            "object_position": null,
            "order": null,
            "overflow": null,
            "overflow_x": null,
            "overflow_y": null,
            "padding": null,
            "right": null,
            "top": null,
            "visibility": null,
            "width": null
          }
        },
        "05ebb5209d0c472e841e83a8a355fd2f": {
          "model_module": "@jupyter-widgets/controls",
          "model_name": "DescriptionStyleModel",
          "model_module_version": "1.5.0",
          "state": {
            "_model_module": "@jupyter-widgets/controls",
            "_model_module_version": "1.5.0",
            "_model_name": "DescriptionStyleModel",
            "_view_count": null,
            "_view_module": "@jupyter-widgets/base",
            "_view_module_version": "1.2.0",
            "_view_name": "StyleView",
            "description_width": ""
          }
        },
        "bbd20319194b4dcabd2846119b3ec758": {
          "model_module": "@jupyter-widgets/base",
          "model_name": "LayoutModel",
          "model_module_version": "1.2.0",
          "state": {
            "_model_module": "@jupyter-widgets/base",
            "_model_module_version": "1.2.0",
            "_model_name": "LayoutModel",
            "_view_count": null,
            "_view_module": "@jupyter-widgets/base",
            "_view_module_version": "1.2.0",
            "_view_name": "LayoutView",
            "align_content": null,
            "align_items": null,
            "align_self": null,
            "border": null,
            "bottom": null,
            "display": null,
            "flex": null,
            "flex_flow": null,
            "grid_area": null,
            "grid_auto_columns": null,
            "grid_auto_flow": null,
            "grid_auto_rows": null,
            "grid_column": null,
            "grid_gap": null,
            "grid_row": null,
            "grid_template_areas": null,
            "grid_template_columns": null,
            "grid_template_rows": null,
            "height": null,
            "justify_content": null,
            "justify_items": null,
            "left": null,
            "margin": null,
            "max_height": null,
            "max_width": null,
            "min_height": null,
            "min_width": null,
            "object_fit": null,
            "object_position": null,
            "order": null,
            "overflow": null,
            "overflow_x": null,
            "overflow_y": null,
            "padding": null,
            "right": null,
            "top": null,
            "visibility": null,
            "width": null
          }
        },
        "c06ea5e694d14b97bb2fb3e262ca9627": {
          "model_module": "@jupyter-widgets/controls",
          "model_name": "ProgressStyleModel",
          "model_module_version": "1.5.0",
          "state": {
            "_model_module": "@jupyter-widgets/controls",
            "_model_module_version": "1.5.0",
            "_model_name": "ProgressStyleModel",
            "_view_count": null,
            "_view_module": "@jupyter-widgets/base",
            "_view_module_version": "1.2.0",
            "_view_name": "StyleView",
            "bar_color": null,
            "description_width": ""
          }
        },
        "a7f6de72d6ef418e8a3f4543a1a978f4": {
          "model_module": "@jupyter-widgets/base",
          "model_name": "LayoutModel",
          "model_module_version": "1.2.0",
          "state": {
            "_model_module": "@jupyter-widgets/base",
            "_model_module_version": "1.2.0",
            "_model_name": "LayoutModel",
            "_view_count": null,
            "_view_module": "@jupyter-widgets/base",
            "_view_module_version": "1.2.0",
            "_view_name": "LayoutView",
            "align_content": null,
            "align_items": null,
            "align_self": null,
            "border": null,
            "bottom": null,
            "display": null,
            "flex": null,
            "flex_flow": null,
            "grid_area": null,
            "grid_auto_columns": null,
            "grid_auto_flow": null,
            "grid_auto_rows": null,
            "grid_column": null,
            "grid_gap": null,
            "grid_row": null,
            "grid_template_areas": null,
            "grid_template_columns": null,
            "grid_template_rows": null,
            "height": null,
            "justify_content": null,
            "justify_items": null,
            "left": null,
            "margin": null,
            "max_height": null,
            "max_width": null,
            "min_height": null,
            "min_width": null,
            "object_fit": null,
            "object_position": null,
            "order": null,
            "overflow": null,
            "overflow_x": null,
            "overflow_y": null,
            "padding": null,
            "right": null,
            "top": null,
            "visibility": null,
            "width": null
          }
        },
        "17e870aa3ea44561859081dc4453f384": {
          "model_module": "@jupyter-widgets/controls",
          "model_name": "DescriptionStyleModel",
          "model_module_version": "1.5.0",
          "state": {
            "_model_module": "@jupyter-widgets/controls",
            "_model_module_version": "1.5.0",
            "_model_name": "DescriptionStyleModel",
            "_view_count": null,
            "_view_module": "@jupyter-widgets/base",
            "_view_module_version": "1.2.0",
            "_view_name": "StyleView",
            "description_width": ""
          }
        },
        "1035ac4f750b479181b785225a38b2a5": {
          "model_module": "@jupyter-widgets/controls",
          "model_name": "HBoxModel",
          "model_module_version": "1.5.0",
          "state": {
            "_dom_classes": [],
            "_model_module": "@jupyter-widgets/controls",
            "_model_module_version": "1.5.0",
            "_model_name": "HBoxModel",
            "_view_count": null,
            "_view_module": "@jupyter-widgets/controls",
            "_view_module_version": "1.5.0",
            "_view_name": "HBoxView",
            "box_style": "",
            "children": [
              "IPY_MODEL_1405ca593a9e45bb9719c5e9e36d4d21",
              "IPY_MODEL_a85640c08ba2429f95e434bff8ab9a23",
              "IPY_MODEL_639fe6747b4049569e304eea1a8fed74"
            ],
            "layout": "IPY_MODEL_4d9c9a819ac340e2a09c423907c7c232"
          }
        },
        "1405ca593a9e45bb9719c5e9e36d4d21": {
          "model_module": "@jupyter-widgets/controls",
          "model_name": "HTMLModel",
          "model_module_version": "1.5.0",
          "state": {
            "_dom_classes": [],
            "_model_module": "@jupyter-widgets/controls",
            "_model_module_version": "1.5.0",
            "_model_name": "HTMLModel",
            "_view_count": null,
            "_view_module": "@jupyter-widgets/controls",
            "_view_module_version": "1.5.0",
            "_view_name": "HTMLView",
            "description": "",
            "description_tooltip": null,
            "layout": "IPY_MODEL_60a9cf2f0551490c9cea0fab2dee93eb",
            "placeholder": "​",
            "style": "IPY_MODEL_1bf3cbd6acc74beb97b4ff52ff4e6c70",
            "value": "Searching for phrase:  79%"
          }
        },
        "a85640c08ba2429f95e434bff8ab9a23": {
          "model_module": "@jupyter-widgets/controls",
          "model_name": "FloatProgressModel",
          "model_module_version": "1.5.0",
          "state": {
            "_dom_classes": [],
            "_model_module": "@jupyter-widgets/controls",
            "_model_module_version": "1.5.0",
            "_model_name": "FloatProgressModel",
            "_view_count": null,
            "_view_module": "@jupyter-widgets/controls",
            "_view_module_version": "1.5.0",
            "_view_name": "ProgressView",
            "bar_style": "danger",
            "description": "",
            "description_tooltip": null,
            "layout": "IPY_MODEL_6ba17d0fea134eee9eecd9a0d0c2b393",
            "max": 405410,
            "min": 0,
            "orientation": "horizontal",
            "style": "IPY_MODEL_1ce48b100824426e8c7258019ebbc298",
            "value": 321071
          }
        },
        "639fe6747b4049569e304eea1a8fed74": {
          "model_module": "@jupyter-widgets/controls",
          "model_name": "HTMLModel",
          "model_module_version": "1.5.0",
          "state": {
            "_dom_classes": [],
            "_model_module": "@jupyter-widgets/controls",
            "_model_module_version": "1.5.0",
            "_model_name": "HTMLModel",
            "_view_count": null,
            "_view_module": "@jupyter-widgets/controls",
            "_view_module_version": "1.5.0",
            "_view_name": "HTMLView",
            "description": "",
            "description_tooltip": null,
            "layout": "IPY_MODEL_65b5b1f9b68c444a8f7ad65b3b5f52f2",
            "placeholder": "​",
            "style": "IPY_MODEL_72ff14323a554956a55a625e50ff9b70",
            "value": " 321071/405410 [00:00&lt;00:00, 329889.78it/s]"
          }
        },
        "4d9c9a819ac340e2a09c423907c7c232": {
          "model_module": "@jupyter-widgets/base",
          "model_name": "LayoutModel",
          "model_module_version": "1.2.0",
          "state": {
            "_model_module": "@jupyter-widgets/base",
            "_model_module_version": "1.2.0",
            "_model_name": "LayoutModel",
            "_view_count": null,
            "_view_module": "@jupyter-widgets/base",
            "_view_module_version": "1.2.0",
            "_view_name": "LayoutView",
            "align_content": null,
            "align_items": null,
            "align_self": null,
            "border": null,
            "bottom": null,
            "display": null,
            "flex": null,
            "flex_flow": null,
            "grid_area": null,
            "grid_auto_columns": null,
            "grid_auto_flow": null,
            "grid_auto_rows": null,
            "grid_column": null,
            "grid_gap": null,
            "grid_row": null,
            "grid_template_areas": null,
            "grid_template_columns": null,
            "grid_template_rows": null,
            "height": null,
            "justify_content": null,
            "justify_items": null,
            "left": null,
            "margin": null,
            "max_height": null,
            "max_width": null,
            "min_height": null,
            "min_width": null,
            "object_fit": null,
            "object_position": null,
            "order": null,
            "overflow": null,
            "overflow_x": null,
            "overflow_y": null,
            "padding": null,
            "right": null,
            "top": null,
            "visibility": null,
            "width": null
          }
        },
        "60a9cf2f0551490c9cea0fab2dee93eb": {
          "model_module": "@jupyter-widgets/base",
          "model_name": "LayoutModel",
          "model_module_version": "1.2.0",
          "state": {
            "_model_module": "@jupyter-widgets/base",
            "_model_module_version": "1.2.0",
            "_model_name": "LayoutModel",
            "_view_count": null,
            "_view_module": "@jupyter-widgets/base",
            "_view_module_version": "1.2.0",
            "_view_name": "LayoutView",
            "align_content": null,
            "align_items": null,
            "align_self": null,
            "border": null,
            "bottom": null,
            "display": null,
            "flex": null,
            "flex_flow": null,
            "grid_area": null,
            "grid_auto_columns": null,
            "grid_auto_flow": null,
            "grid_auto_rows": null,
            "grid_column": null,
            "grid_gap": null,
            "grid_row": null,
            "grid_template_areas": null,
            "grid_template_columns": null,
            "grid_template_rows": null,
            "height": null,
            "justify_content": null,
            "justify_items": null,
            "left": null,
            "margin": null,
            "max_height": null,
            "max_width": null,
            "min_height": null,
            "min_width": null,
            "object_fit": null,
            "object_position": null,
            "order": null,
            "overflow": null,
            "overflow_x": null,
            "overflow_y": null,
            "padding": null,
            "right": null,
            "top": null,
            "visibility": null,
            "width": null
          }
        },
        "1bf3cbd6acc74beb97b4ff52ff4e6c70": {
          "model_module": "@jupyter-widgets/controls",
          "model_name": "DescriptionStyleModel",
          "model_module_version": "1.5.0",
          "state": {
            "_model_module": "@jupyter-widgets/controls",
            "_model_module_version": "1.5.0",
            "_model_name": "DescriptionStyleModel",
            "_view_count": null,
            "_view_module": "@jupyter-widgets/base",
            "_view_module_version": "1.2.0",
            "_view_name": "StyleView",
            "description_width": ""
          }
        },
        "6ba17d0fea134eee9eecd9a0d0c2b393": {
          "model_module": "@jupyter-widgets/base",
          "model_name": "LayoutModel",
          "model_module_version": "1.2.0",
          "state": {
            "_model_module": "@jupyter-widgets/base",
            "_model_module_version": "1.2.0",
            "_model_name": "LayoutModel",
            "_view_count": null,
            "_view_module": "@jupyter-widgets/base",
            "_view_module_version": "1.2.0",
            "_view_name": "LayoutView",
            "align_content": null,
            "align_items": null,
            "align_self": null,
            "border": null,
            "bottom": null,
            "display": null,
            "flex": null,
            "flex_flow": null,
            "grid_area": null,
            "grid_auto_columns": null,
            "grid_auto_flow": null,
            "grid_auto_rows": null,
            "grid_column": null,
            "grid_gap": null,
            "grid_row": null,
            "grid_template_areas": null,
            "grid_template_columns": null,
            "grid_template_rows": null,
            "height": null,
            "justify_content": null,
            "justify_items": null,
            "left": null,
            "margin": null,
            "max_height": null,
            "max_width": null,
            "min_height": null,
            "min_width": null,
            "object_fit": null,
            "object_position": null,
            "order": null,
            "overflow": null,
            "overflow_x": null,
            "overflow_y": null,
            "padding": null,
            "right": null,
            "top": null,
            "visibility": null,
            "width": null
          }
        },
        "1ce48b100824426e8c7258019ebbc298": {
          "model_module": "@jupyter-widgets/controls",
          "model_name": "ProgressStyleModel",
          "model_module_version": "1.5.0",
          "state": {
            "_model_module": "@jupyter-widgets/controls",
            "_model_module_version": "1.5.0",
            "_model_name": "ProgressStyleModel",
            "_view_count": null,
            "_view_module": "@jupyter-widgets/base",
            "_view_module_version": "1.2.0",
            "_view_name": "StyleView",
            "bar_color": null,
            "description_width": ""
          }
        },
        "65b5b1f9b68c444a8f7ad65b3b5f52f2": {
          "model_module": "@jupyter-widgets/base",
          "model_name": "LayoutModel",
          "model_module_version": "1.2.0",
          "state": {
            "_model_module": "@jupyter-widgets/base",
            "_model_module_version": "1.2.0",
            "_model_name": "LayoutModel",
            "_view_count": null,
            "_view_module": "@jupyter-widgets/base",
            "_view_module_version": "1.2.0",
            "_view_name": "LayoutView",
            "align_content": null,
            "align_items": null,
            "align_self": null,
            "border": null,
            "bottom": null,
            "display": null,
            "flex": null,
            "flex_flow": null,
            "grid_area": null,
            "grid_auto_columns": null,
            "grid_auto_flow": null,
            "grid_auto_rows": null,
            "grid_column": null,
            "grid_gap": null,
            "grid_row": null,
            "grid_template_areas": null,
            "grid_template_columns": null,
            "grid_template_rows": null,
            "height": null,
            "justify_content": null,
            "justify_items": null,
            "left": null,
            "margin": null,
            "max_height": null,
            "max_width": null,
            "min_height": null,
            "min_width": null,
            "object_fit": null,
            "object_position": null,
            "order": null,
            "overflow": null,
            "overflow_x": null,
            "overflow_y": null,
            "padding": null,
            "right": null,
            "top": null,
            "visibility": null,
            "width": null
          }
        },
        "72ff14323a554956a55a625e50ff9b70": {
          "model_module": "@jupyter-widgets/controls",
          "model_name": "DescriptionStyleModel",
          "model_module_version": "1.5.0",
          "state": {
            "_model_module": "@jupyter-widgets/controls",
            "_model_module_version": "1.5.0",
            "_model_name": "DescriptionStyleModel",
            "_view_count": null,
            "_view_module": "@jupyter-widgets/base",
            "_view_module_version": "1.2.0",
            "_view_name": "StyleView",
            "description_width": ""
          }
        }
      }
    }
  },
  "cells": [
    {
      "cell_type": "markdown",
      "source": [
        "# Install & Import needed libraries"
      ],
      "metadata": {
        "id": "npPrvU_nNh7N"
      }
    },
    {
      "cell_type": "code",
      "execution_count": null,
      "metadata": {
        "id": "CZcqiekhCH_S"
      },
      "outputs": [],
      "source": [
        "!pip install --upgrade datasets sentence-transformers faiss-cpu tqdm --quiet"
      ]
    },
    {
      "cell_type": "code",
      "source": [
        "!pip install -q python-terrier==0.11.0"
      ],
      "metadata": {
        "id": "F3kBIVZJFGig"
      },
      "execution_count": null,
      "outputs": []
    },
    {
      "cell_type": "code",
      "source": [
        "from datasets import load_dataset\n",
        "from tqdm.auto import tqdm\n",
        "import pandas as pd\n",
        "import pyterrier as pt\n",
        "import re\n",
        "import difflib"
      ],
      "metadata": {
        "id": "JGJi1ipHCglC"
      },
      "execution_count": 113,
      "outputs": []
    },
    {
      "cell_type": "code",
      "source": [
        "if not pt.java.started():\n",
        "  pt.java.init()"
      ],
      "metadata": {
        "id": "wvgCraia6lhn"
      },
      "execution_count": 114,
      "outputs": []
    },
    {
      "cell_type": "code",
      "source": [
        "pd.set_option('display.max_colwidth', 150)"
      ],
      "metadata": {
        "id": "pO_iGGdjFP77"
      },
      "execution_count": 70,
      "outputs": []
    },
    {
      "cell_type": "markdown",
      "source": [
        "# Load dataset"
      ],
      "metadata": {
        "id": "DX0O0yyuNrO3"
      }
    },
    {
      "cell_type": "code",
      "source": [
        "dataset = load_dataset(\"FreedomIntelligence/RAG-Instruct\", split=\"train\")\n",
        "\n",
        "print(f\"Loaded {len(dataset)} QA pairs.\")"
      ],
      "metadata": {
        "colab": {
          "base_uri": "https://localhost:8080/"
        },
        "id": "-JW1bSb_FRIJ",
        "outputId": "ba6f33ed-ec4d-4a3f-f7b8-5eab93003aca"
      },
      "execution_count": null,
      "outputs": [
        {
          "output_type": "stream",
          "name": "stderr",
          "text": [
            "/usr/local/lib/python3.11/dist-packages/huggingface_hub/utils/_auth.py:94: UserWarning: \n",
            "The secret `HF_TOKEN` does not exist in your Colab secrets.\n",
            "To authenticate with the Hugging Face Hub, create a token in your settings tab (https://huggingface.co/settings/tokens), set it as secret in your Google Colab and restart your session.\n",
            "You will be able to reuse this secret in all of your notebooks.\n",
            "Please note that authentication is recommended but still optional to access public models or datasets.\n",
            "  warnings.warn(\n"
          ]
        },
        {
          "output_type": "stream",
          "name": "stdout",
          "text": [
            "Loaded 40541 QA pairs.\n"
          ]
        }
      ]
    },
    {
      "cell_type": "markdown",
      "source": [
        "# Prepare Documents for Indexing\n",
        "### indexing over column \"documents\""
      ],
      "metadata": {
        "id": "tDudAHpBNWJ0"
      }
    },
    {
      "cell_type": "code",
      "source": [
        "\n",
        "# Flatten all non-empty passages into one list (only if we need to filter out the empty documents)\n",
        "# documents = []\n",
        "# for element in dataset:\n",
        "#     for doc in element['documents']:\n",
        "#         if doc.strip():  # Only include non-empty passages\n",
        "#             documents.append(doc)\n",
        "\n",
        "\n",
        "# Flatten all documents into one big list\n",
        "documents = []\n",
        "for element in dataset:\n",
        "    documents.extend(element['documents'])\n",
        "\n",
        "# Build a dataframe: docno + text\n",
        "# Each row needs a unique docno (document number) as required from PyTerrier\n",
        "docs_df = pd.DataFrame({\n",
        "    \"docno\": [str(i) for i in range(len(documents))],\n",
        "    \"text\": documents\n",
        "})\n",
        "\n",
        "\n",
        "print(\"Total documents to index:\", len(docs_df))\n",
        "docs_df.head()\n"
      ],
      "metadata": {
        "id": "0qZgvIx5HBKh",
        "colab": {
          "base_uri": "https://localhost:8080/",
          "height": 224
        },
        "outputId": "a2ce0990-046c-4ed8-f848-fa2f97c9456e"
      },
      "execution_count": null,
      "outputs": [
        {
          "output_type": "stream",
          "name": "stdout",
          "text": [
            "Total documents to index: 405410\n"
          ]
        },
        {
          "output_type": "execute_result",
          "data": {
            "text/plain": [
              "  docno  \\\n",
              "0     0   \n",
              "1     1   \n",
              "2     2   \n",
              "3     3   \n",
              "4     4   \n",
              "\n",
              "                                                                                                                                                    text  \n",
              "0  decided to make the story more straightforward, as the novel is very episodic, with Mowgli going back and forth from the jungle to the Man-Village...  \n",
              "1  and settings. In 2016, a Baloo figure was released for the console and later on mobile versions of \"Disney Infinity 3.0\" (2015), which required a ...  \n",
              "2  The Jungle Book (franchise) The Jungle Book is a Disney media franchise that commenced in 1967 with the theatrical release of \"The Jungle Book\". I...  \n",
              "3  and follows her into the Man-Village. After Mowgli chooses to stay in the Man-Village, Baloo and Bagheera decide to head home, content that Mowgli...  \n",
              "4  creature. So we took some of the distinctive Walken facial features—iconic lines, wrinkles and folds—and integrated them into the animated charact...  "
            ],
            "text/html": [
              "\n",
              "  <div id=\"df-e22ee996-efde-4480-9048-6e2460a4cab4\" class=\"colab-df-container\">\n",
              "    <div>\n",
              "<style scoped>\n",
              "    .dataframe tbody tr th:only-of-type {\n",
              "        vertical-align: middle;\n",
              "    }\n",
              "\n",
              "    .dataframe tbody tr th {\n",
              "        vertical-align: top;\n",
              "    }\n",
              "\n",
              "    .dataframe thead th {\n",
              "        text-align: right;\n",
              "    }\n",
              "</style>\n",
              "<table border=\"1\" class=\"dataframe\">\n",
              "  <thead>\n",
              "    <tr style=\"text-align: right;\">\n",
              "      <th></th>\n",
              "      <th>docno</th>\n",
              "      <th>text</th>\n",
              "    </tr>\n",
              "  </thead>\n",
              "  <tbody>\n",
              "    <tr>\n",
              "      <th>0</th>\n",
              "      <td>0</td>\n",
              "      <td>decided to make the story more straightforward, as the novel is very episodic, with Mowgli going back and forth from the jungle to the Man-Village...</td>\n",
              "    </tr>\n",
              "    <tr>\n",
              "      <th>1</th>\n",
              "      <td>1</td>\n",
              "      <td>and settings. In 2016, a Baloo figure was released for the console and later on mobile versions of \"Disney Infinity 3.0\" (2015), which required a ...</td>\n",
              "    </tr>\n",
              "    <tr>\n",
              "      <th>2</th>\n",
              "      <td>2</td>\n",
              "      <td>The Jungle Book (franchise) The Jungle Book is a Disney media franchise that commenced in 1967 with the theatrical release of \"The Jungle Book\". I...</td>\n",
              "    </tr>\n",
              "    <tr>\n",
              "      <th>3</th>\n",
              "      <td>3</td>\n",
              "      <td>and follows her into the Man-Village. After Mowgli chooses to stay in the Man-Village, Baloo and Bagheera decide to head home, content that Mowgli...</td>\n",
              "    </tr>\n",
              "    <tr>\n",
              "      <th>4</th>\n",
              "      <td>4</td>\n",
              "      <td>creature. So we took some of the distinctive Walken facial features—iconic lines, wrinkles and folds—and integrated them into the animated charact...</td>\n",
              "    </tr>\n",
              "  </tbody>\n",
              "</table>\n",
              "</div>\n",
              "    <div class=\"colab-df-buttons\">\n",
              "\n",
              "  <div class=\"colab-df-container\">\n",
              "    <button class=\"colab-df-convert\" onclick=\"convertToInteractive('df-e22ee996-efde-4480-9048-6e2460a4cab4')\"\n",
              "            title=\"Convert this dataframe to an interactive table.\"\n",
              "            style=\"display:none;\">\n",
              "\n",
              "  <svg xmlns=\"http://www.w3.org/2000/svg\" height=\"24px\" viewBox=\"0 -960 960 960\">\n",
              "    <path d=\"M120-120v-720h720v720H120Zm60-500h600v-160H180v160Zm220 220h160v-160H400v160Zm0 220h160v-160H400v160ZM180-400h160v-160H180v160Zm440 0h160v-160H620v160ZM180-180h160v-160H180v160Zm440 0h160v-160H620v160Z\"/>\n",
              "  </svg>\n",
              "    </button>\n",
              "\n",
              "  <style>\n",
              "    .colab-df-container {\n",
              "      display:flex;\n",
              "      gap: 12px;\n",
              "    }\n",
              "\n",
              "    .colab-df-convert {\n",
              "      background-color: #E8F0FE;\n",
              "      border: none;\n",
              "      border-radius: 50%;\n",
              "      cursor: pointer;\n",
              "      display: none;\n",
              "      fill: #1967D2;\n",
              "      height: 32px;\n",
              "      padding: 0 0 0 0;\n",
              "      width: 32px;\n",
              "    }\n",
              "\n",
              "    .colab-df-convert:hover {\n",
              "      background-color: #E2EBFA;\n",
              "      box-shadow: 0px 1px 2px rgba(60, 64, 67, 0.3), 0px 1px 3px 1px rgba(60, 64, 67, 0.15);\n",
              "      fill: #174EA6;\n",
              "    }\n",
              "\n",
              "    .colab-df-buttons div {\n",
              "      margin-bottom: 4px;\n",
              "    }\n",
              "\n",
              "    [theme=dark] .colab-df-convert {\n",
              "      background-color: #3B4455;\n",
              "      fill: #D2E3FC;\n",
              "    }\n",
              "\n",
              "    [theme=dark] .colab-df-convert:hover {\n",
              "      background-color: #434B5C;\n",
              "      box-shadow: 0px 1px 3px 1px rgba(0, 0, 0, 0.15);\n",
              "      filter: drop-shadow(0px 1px 2px rgba(0, 0, 0, 0.3));\n",
              "      fill: #FFFFFF;\n",
              "    }\n",
              "  </style>\n",
              "\n",
              "    <script>\n",
              "      const buttonEl =\n",
              "        document.querySelector('#df-e22ee996-efde-4480-9048-6e2460a4cab4 button.colab-df-convert');\n",
              "      buttonEl.style.display =\n",
              "        google.colab.kernel.accessAllowed ? 'block' : 'none';\n",
              "\n",
              "      async function convertToInteractive(key) {\n",
              "        const element = document.querySelector('#df-e22ee996-efde-4480-9048-6e2460a4cab4');\n",
              "        const dataTable =\n",
              "          await google.colab.kernel.invokeFunction('convertToInteractive',\n",
              "                                                    [key], {});\n",
              "        if (!dataTable) return;\n",
              "\n",
              "        const docLinkHtml = 'Like what you see? Visit the ' +\n",
              "          '<a target=\"_blank\" href=https://colab.research.google.com/notebooks/data_table.ipynb>data table notebook</a>'\n",
              "          + ' to learn more about interactive tables.';\n",
              "        element.innerHTML = '';\n",
              "        dataTable['output_type'] = 'display_data';\n",
              "        await google.colab.output.renderOutput(dataTable, element);\n",
              "        const docLink = document.createElement('div');\n",
              "        docLink.innerHTML = docLinkHtml;\n",
              "        element.appendChild(docLink);\n",
              "      }\n",
              "    </script>\n",
              "  </div>\n",
              "\n",
              "\n",
              "    <div id=\"df-07b4bc16-b356-492c-9dd6-77fec5952a96\">\n",
              "      <button class=\"colab-df-quickchart\" onclick=\"quickchart('df-07b4bc16-b356-492c-9dd6-77fec5952a96')\"\n",
              "                title=\"Suggest charts\"\n",
              "                style=\"display:none;\">\n",
              "\n",
              "<svg xmlns=\"http://www.w3.org/2000/svg\" height=\"24px\"viewBox=\"0 0 24 24\"\n",
              "     width=\"24px\">\n",
              "    <g>\n",
              "        <path d=\"M19 3H5c-1.1 0-2 .9-2 2v14c0 1.1.9 2 2 2h14c1.1 0 2-.9 2-2V5c0-1.1-.9-2-2-2zM9 17H7v-7h2v7zm4 0h-2V7h2v10zm4 0h-2v-4h2v4z\"/>\n",
              "    </g>\n",
              "</svg>\n",
              "      </button>\n",
              "\n",
              "<style>\n",
              "  .colab-df-quickchart {\n",
              "      --bg-color: #E8F0FE;\n",
              "      --fill-color: #1967D2;\n",
              "      --hover-bg-color: #E2EBFA;\n",
              "      --hover-fill-color: #174EA6;\n",
              "      --disabled-fill-color: #AAA;\n",
              "      --disabled-bg-color: #DDD;\n",
              "  }\n",
              "\n",
              "  [theme=dark] .colab-df-quickchart {\n",
              "      --bg-color: #3B4455;\n",
              "      --fill-color: #D2E3FC;\n",
              "      --hover-bg-color: #434B5C;\n",
              "      --hover-fill-color: #FFFFFF;\n",
              "      --disabled-bg-color: #3B4455;\n",
              "      --disabled-fill-color: #666;\n",
              "  }\n",
              "\n",
              "  .colab-df-quickchart {\n",
              "    background-color: var(--bg-color);\n",
              "    border: none;\n",
              "    border-radius: 50%;\n",
              "    cursor: pointer;\n",
              "    display: none;\n",
              "    fill: var(--fill-color);\n",
              "    height: 32px;\n",
              "    padding: 0;\n",
              "    width: 32px;\n",
              "  }\n",
              "\n",
              "  .colab-df-quickchart:hover {\n",
              "    background-color: var(--hover-bg-color);\n",
              "    box-shadow: 0 1px 2px rgba(60, 64, 67, 0.3), 0 1px 3px 1px rgba(60, 64, 67, 0.15);\n",
              "    fill: var(--button-hover-fill-color);\n",
              "  }\n",
              "\n",
              "  .colab-df-quickchart-complete:disabled,\n",
              "  .colab-df-quickchart-complete:disabled:hover {\n",
              "    background-color: var(--disabled-bg-color);\n",
              "    fill: var(--disabled-fill-color);\n",
              "    box-shadow: none;\n",
              "  }\n",
              "\n",
              "  .colab-df-spinner {\n",
              "    border: 2px solid var(--fill-color);\n",
              "    border-color: transparent;\n",
              "    border-bottom-color: var(--fill-color);\n",
              "    animation:\n",
              "      spin 1s steps(1) infinite;\n",
              "  }\n",
              "\n",
              "  @keyframes spin {\n",
              "    0% {\n",
              "      border-color: transparent;\n",
              "      border-bottom-color: var(--fill-color);\n",
              "      border-left-color: var(--fill-color);\n",
              "    }\n",
              "    20% {\n",
              "      border-color: transparent;\n",
              "      border-left-color: var(--fill-color);\n",
              "      border-top-color: var(--fill-color);\n",
              "    }\n",
              "    30% {\n",
              "      border-color: transparent;\n",
              "      border-left-color: var(--fill-color);\n",
              "      border-top-color: var(--fill-color);\n",
              "      border-right-color: var(--fill-color);\n",
              "    }\n",
              "    40% {\n",
              "      border-color: transparent;\n",
              "      border-right-color: var(--fill-color);\n",
              "      border-top-color: var(--fill-color);\n",
              "    }\n",
              "    60% {\n",
              "      border-color: transparent;\n",
              "      border-right-color: var(--fill-color);\n",
              "    }\n",
              "    80% {\n",
              "      border-color: transparent;\n",
              "      border-right-color: var(--fill-color);\n",
              "      border-bottom-color: var(--fill-color);\n",
              "    }\n",
              "    90% {\n",
              "      border-color: transparent;\n",
              "      border-bottom-color: var(--fill-color);\n",
              "    }\n",
              "  }\n",
              "</style>\n",
              "\n",
              "      <script>\n",
              "        async function quickchart(key) {\n",
              "          const quickchartButtonEl =\n",
              "            document.querySelector('#' + key + ' button');\n",
              "          quickchartButtonEl.disabled = true;  // To prevent multiple clicks.\n",
              "          quickchartButtonEl.classList.add('colab-df-spinner');\n",
              "          try {\n",
              "            const charts = await google.colab.kernel.invokeFunction(\n",
              "                'suggestCharts', [key], {});\n",
              "          } catch (error) {\n",
              "            console.error('Error during call to suggestCharts:', error);\n",
              "          }\n",
              "          quickchartButtonEl.classList.remove('colab-df-spinner');\n",
              "          quickchartButtonEl.classList.add('colab-df-quickchart-complete');\n",
              "        }\n",
              "        (() => {\n",
              "          let quickchartButtonEl =\n",
              "            document.querySelector('#df-07b4bc16-b356-492c-9dd6-77fec5952a96 button');\n",
              "          quickchartButtonEl.style.display =\n",
              "            google.colab.kernel.accessAllowed ? 'block' : 'none';\n",
              "        })();\n",
              "      </script>\n",
              "    </div>\n",
              "\n",
              "    </div>\n",
              "  </div>\n"
            ],
            "application/vnd.google.colaboratory.intrinsic+json": {
              "type": "dataframe",
              "variable_name": "docs_df"
            }
          },
          "metadata": {},
          "execution_count": 5
        }
      ]
    },
    {
      "cell_type": "markdown",
      "source": [
        "# Index Documents"
      ],
      "metadata": {
        "id": "HL_cC9QhPsSW"
      }
    },
    {
      "cell_type": "code",
      "source": [
        "def create_index(docs_df, index_path='./index'):\n",
        "    indexer = pt.IterDictIndexer(index_path, overwrite=True, meta={'docno': 20, 'text': 10000})\n",
        "    indexref = indexer.index(docs_df.to_dict(orient=\"records\"))\n",
        "    index = pt.IndexFactory.of(indexref)\n",
        "\n",
        "    # Extract vocabulary from the index\n",
        "    vocabulary = []\n",
        "    for entry in index.getLexicon():\n",
        "        vocabulary.append(entry.getKey())\n",
        "\n",
        "    return index, vocabulary\n"
      ],
      "metadata": {
        "id": "mX4JbWWLPvF7"
      },
      "execution_count": 63,
      "outputs": []
    },
    {
      "cell_type": "code",
      "source": [
        "index, vocabulary = tqdm(create_index(docs_df), desc=\"Indexing documents\")"
      ],
      "metadata": {
        "colab": {
          "base_uri": "https://localhost:8080/",
          "height": 85,
          "referenced_widgets": [
            "2c0e378760a348ffbc978e6bfb65c793",
            "ad2a1edddea745f58c8bb97fb574400d",
            "532f19f165624e4ab0ef0372f8cb45f6",
            "028b87d1ee04420da7d8ac5423d6fd3a",
            "2c29b7490c714137aeb27fa381e660a0",
            "43389b5c4ba94e3b9d6293613546be30",
            "05ebb5209d0c472e841e83a8a355fd2f",
            "bbd20319194b4dcabd2846119b3ec758",
            "c06ea5e694d14b97bb2fb3e262ca9627",
            "a7f6de72d6ef418e8a3f4543a1a978f4",
            "17e870aa3ea44561859081dc4453f384"
          ]
        },
        "id": "vJvuE_tfzubm",
        "outputId": "675c9dfa-f3a0-42e0-9c90-152d5c93e3ee"
      },
      "execution_count": 115,
      "outputs": [
        {
          "output_type": "stream",
          "name": "stdout",
          "text": [
            "15:30:30.979 [ForkJoinPool-9-worker-3] WARN org.terrier.structures.indexing.Indexer -- Adding an empty document to the index (125719) - further warnings are suppressed\n",
            "15:32:09.665 [ForkJoinPool-9-worker-3] WARN org.terrier.structures.indexing.Indexer -- Indexed 2 empty documents\n"
          ]
        },
        {
          "output_type": "display_data",
          "data": {
            "text/plain": [
              "Indexing documents:   0%|          | 0/2 [00:00<?, ?it/s]"
            ],
            "application/vnd.jupyter.widget-view+json": {
              "version_major": 2,
              "version_minor": 0,
              "model_id": "2c0e378760a348ffbc978e6bfb65c793"
            }
          },
          "metadata": {}
        }
      ]
    },
    {
      "cell_type": "code",
      "source": [
        "# print(f\"Index created with {index.getCollectionStatistics().getNumberOfDocuments()} documents\")\n",
        "# print(f\"Vocabulary contains {len(vocabulary)} unique terms\")\n",
        "print(index.getCollectionStatistics().toString())"
      ],
      "metadata": {
        "colab": {
          "base_uri": "https://localhost:8080/"
        },
        "id": "gjvqxayw0mJS",
        "outputId": "17900142-6b05-4954-e99e-4ea59bd87661"
      },
      "execution_count": 58,
      "outputs": [
        {
          "output_type": "stream",
          "name": "stdout",
          "text": [
            "Number of documents: 405410\n",
            "Number of terms: 344017\n",
            "Number of postings: 18452698\n",
            "Number of fields: 1\n",
            "Number of tokens: 23406650\n",
            "Field names: [text]\n",
            "Positions:   false\n",
            "\n"
          ]
        }
      ]
    },
    {
      "cell_type": "markdown",
      "source": [
        "# Querying the index (Keyword Search)\n",
        "use the BM25 score which is known to produce high quality search results."
      ],
      "metadata": {
        "id": "xCize8ZNXqPI"
      }
    },
    {
      "cell_type": "code",
      "source": [
        "def query_search(query, top_k=5):\n",
        "  # Create a BM25 retrieval pipeline\n",
        "  bm25 = pt.terrier.Retriever(index, wmodel=\"BM25\", metadata=[\"text\"])\n",
        "\n",
        "  results = bm25.search(query)\n",
        "\n",
        "  # Ensure we have all required columns\n",
        "  if len(results) > 0:\n",
        "      return results[['docid', 'qid', 'rank', 'score', 'text']].head(top_k)\n",
        "  else:\n",
        "      return pd.DataFrame(columns=['docid', 'qid', 'rank', 'score', 'text'])"
      ],
      "metadata": {
        "id": "gGwG7Ds2XzAq"
      },
      "execution_count": 142,
      "outputs": []
    },
    {
      "cell_type": "markdown",
      "source": [
        "#Tokenization"
      ],
      "metadata": {
        "id": "u-7RLD_PWnuM"
      }
    },
    {
      "cell_type": "code",
      "source": [
        "def tokenize(text):\n",
        "  #print(\"started tokenize\")\n",
        "  return re.findall(r'\\b\\w+\\b', text.lower())"
      ],
      "metadata": {
        "id": "g6gjHkG6W2Wj"
      },
      "execution_count": 99,
      "outputs": []
    },
    {
      "cell_type": "code",
      "source": [
        "# Compute token counts per document\n",
        "doc_lengths = [len(tokenize(doc)) for doc in docs_df[\"text\"]]\n",
        "#doc_lengths.count(0)"
      ],
      "metadata": {
        "id": "diMw7czkXJBq"
      },
      "execution_count": 48,
      "outputs": []
    },
    {
      "cell_type": "markdown",
      "source": [
        "# Handle misspelling words and typos"
      ],
      "metadata": {
        "id": "Hl9jeKZF6BQW"
      }
    },
    {
      "cell_type": "code",
      "source": [
        "def correct_spelling(query, vocabulary, threshold=0.85):\n",
        "    corrected_tokens = []\n",
        "    was_corrected = False\n",
        "    query_tokens = tokenize(query)\n",
        "\n",
        "    for token in query_tokens:\n",
        "        # # Skip very short tokens\n",
        "        # if len(token) < 3:\n",
        "        #     corrected_tokens.append(token)\n",
        "        #     continue\n",
        "\n",
        "        # Try multiple matches to find the best one\n",
        "        matches = difflib.get_close_matches(token, vocabulary, n=3, cutoff=threshold)\n",
        "\n",
        "        if matches:\n",
        "            # Choose the most common term from the matches\n",
        "            corrected_tokens.append(matches[0])\n",
        "            if matches[0] != token:\n",
        "                was_corrected = True\n",
        "                print(f\"Corrected '{token}' to '{matches[0]}'\")\n",
        "        else:\n",
        "            corrected_tokens.append(token)\n",
        "\n",
        "    corrected_query = ' '.join(corrected_tokens)\n",
        "    return corrected_query, was_corrected"
      ],
      "metadata": {
        "id": "_1OVN5QA6E5I"
      },
      "execution_count": 154,
      "outputs": []
    },
    {
      "cell_type": "markdown",
      "source": [
        "# Option to search for exact phrase"
      ],
      "metadata": {
        "id": "ueeo5wP_CiZl"
      }
    },
    {
      "cell_type": "code",
      "source": [
        "def phrase_search(phrase, top_k=10):\n",
        "    results = []\n",
        "    phrase_lower = phrase.lower()\n",
        "    for i, doc_text in enumerate(tqdm(documents, desc=\"Searching for phrase\")):\n",
        "            if phrase_lower in doc_text.lower():\n",
        "                results.append({\n",
        "                    'docid': i,\n",
        "                    'text': doc_text,\n",
        "                    'score': 1.0\n",
        "                })\n",
        "                if len(results) >= top_k:\n",
        "                    break\n",
        "\n",
        "    # Convert to DataFrame\n",
        "    if results:\n",
        "        results_df = pd.DataFrame(results)\n",
        "        results_df['rank'] = range(1, len(results_df) + 1)\n",
        "        results_df['qid'] = 0\n",
        "        return results_df\n",
        "    else:\n",
        "        return pd.DataFrame(columns=['docid', 'text', 'score', 'rank', 'qid'])"
      ],
      "metadata": {
        "id": "hG2i0JdICoTw"
      },
      "execution_count": 155,
      "outputs": []
    },
    {
      "cell_type": "markdown",
      "source": [
        "# Search combined with\n",
        "- correct query tokens/words\n",
        "- phrase search"
      ],
      "metadata": {
        "id": "zy4ocG_87NG_"
      }
    },
    {
      "cell_type": "code",
      "source": [
        "def combined_search(query, top_k=10, apply_correction=True, use_phrase_search=False):\n",
        "    original_query = query\n",
        "\n",
        "    # Apply spelling correction if requested\n",
        "    if apply_correction:\n",
        "        corrected_query, was_corrected = correct_spelling(query, vocabulary)\n",
        "\n",
        "        # If query was corrected, print the correction\n",
        "        if was_corrected:\n",
        "            print(f\"Searching for: '{corrected_query}' (corrected from '{original_query}')\")\n",
        "            query = corrected_query\n",
        "        else:\n",
        "            print(f\"Searching for: '{original_query}'\")\n",
        "    else:\n",
        "        print(f\"Searching for: '{original_query}'\")\n",
        "\n",
        "    results = query_search(query, top_k=top_k)\n",
        "\n",
        "    # Perform phrase search if requested and merge results\n",
        "    if use_phrase_search and len(query.split()) > 1:\n",
        "        phrase_results = phrase_search(query, top_k=top_k)\n",
        "\n",
        "        if not phrase_results.empty:\n",
        "            # Merge results, prefer phrase matches by giving them higher scores\n",
        "            phrase_results['score'] = phrase_results['score'] + 10.0  # Boost phrase match scores\n",
        "\n",
        "            # Concatenate and remove duplicates, keeping highest score\n",
        "            all_results = pd.concat([results, phrase_results])\n",
        "            all_results = all_results.sort_values('score', ascending=False)\n",
        "            all_results = all_results.drop_duplicates(subset='docid', keep='first')\n",
        "\n",
        "            # Rerank and return top_k\n",
        "            all_results['rank'] = range(1, len(all_results) + 1)\n",
        "            return all_results.head(top_k)\n",
        "\n",
        "    return results.head(top_k)"
      ],
      "metadata": {
        "id": "-vWbEw3C7TWd"
      },
      "execution_count": 156,
      "outputs": []
    },
    {
      "cell_type": "markdown",
      "source": [
        "# Visualize Results"
      ],
      "metadata": {
        "id": "EYMOfpYzux-R"
      }
    },
    {
      "cell_type": "code",
      "source": [
        "import matplotlib.pyplot as plt\n",
        "import numpy as np\n",
        "from IPython.display import HTML, display"
      ],
      "metadata": {
        "id": "wSPvy63Mu2Ea"
      },
      "execution_count": 51,
      "outputs": []
    },
    {
      "cell_type": "code",
      "source": [
        "def highlight_terms(text, query_terms):\n",
        "    highlighted = text\n",
        "    for term in query_terms:\n",
        "        if len(term) < 3:  # Skip highlighting very short terms\n",
        "            continue\n",
        "        # Case insensitive replacement with HTML highlighting\n",
        "        pattern = re.compile(re.escape(term), re.IGNORECASE)\n",
        "        highlighted = pattern.sub(f'<span style=\"background-color: yellow\">{term}</span>', highlighted)\n",
        "    return highlighted"
      ],
      "metadata": {
        "id": "_yCIUGU7EnE9"
      },
      "execution_count": 136,
      "outputs": []
    },
    {
      "cell_type": "code",
      "source": [
        "def plot_search_results(results, query, top_n=5):\n",
        "    # Extract data for plotting\n",
        "    if len(results) == 0:\n",
        "        print(\"No results found.\")\n",
        "        return\n",
        "\n",
        "    # Limit to top_n results\n",
        "    plot_results = results.head(top_n)\n",
        "\n",
        "    # Get docids and scores for plotting\n",
        "    docids = [str(d) for d in plot_results['docid']]\n",
        "    scores = plot_results['score'].tolist()\n",
        "\n",
        "    # Create figure and axis objects explicitly\n",
        "    fig, ax = plt.subplots(figsize=(6, 4))\n",
        "\n",
        "    # Create horizontal bar chart\n",
        "    y_pos = np.arange(len(docids))\n",
        "    ax.barh(y_pos, scores, align='center', color='skyblue')\n",
        "    ax.set_yticks(y_pos)\n",
        "    ax.set_yticklabels(docids)\n",
        "    ax.invert_yaxis()  # Labels read top-to-bottom\n",
        "    ax.set_xlabel('BM25 Score')\n",
        "    ax.set_ylabel('Document ID')\n",
        "    ax.set_title(f'Top {top_n} Results for Query: \"{query}\"')\n",
        "\n",
        "    plt.tight_layout()\n",
        "    plt.show()\n",
        "\n",
        "    # Display text snippets with term highlighting\n",
        "    print(\"\\nText Snippets (query terms highlighted):\")\n",
        "    query_terms = query.lower().split()\n",
        "\n",
        "    for i, row in plot_results.iterrows():\n",
        "        snippet = row['text']\n",
        "        if len(snippet) > 300:  # Truncate long snippets\n",
        "            snippet = snippet[:300] + \"...\"\n",
        "\n",
        "        # Display with highlighting\n",
        "        print(f\"\\nDocument {row['docid']} (Score: {row['score']:.4f}):\")\n",
        "        display(HTML(highlight_terms(snippet, query_terms)))\n",
        "        print(\"-\" * 80)"
      ],
      "metadata": {
        "id": "8AT3NU9mu4ZU"
      },
      "execution_count": 149,
      "outputs": []
    },
    {
      "cell_type": "markdown",
      "source": [
        "# Keyword search Example"
      ],
      "metadata": {
        "id": "xJNpCdbyFEEd"
      }
    },
    {
      "cell_type": "code",
      "source": [
        "# Example\n",
        "query = \"world health\"\n",
        "result = query_search(query, 8)\n",
        "\n",
        "# Display top 8 results\n",
        "print(f\"Top {len(result)} results for query '{query}':\")\n",
        "result"
      ],
      "metadata": {
        "colab": {
          "base_uri": "https://localhost:8080/",
          "height": 318
        },
        "id": "JbF1yW1E0D39",
        "outputId": "9419a846-489b-4689-e319-c0f81f2c5af5"
      },
      "execution_count": 157,
      "outputs": [
        {
          "output_type": "stream",
          "name": "stdout",
          "text": [
            "Top 8 results for query 'world health':\n"
          ]
        },
        {
          "output_type": "execute_result",
          "data": {
            "text/plain": [
              "    docid qid  rank      score  \\\n",
              "0  160123   1     0  17.588294   \n",
              "1  164953   1     1  16.809846   \n",
              "2  164956   1     2  16.460245   \n",
              "3  293600   1     3  16.455373   \n",
              "4  284994   1     4  15.607298   \n",
              "5  124128   1     5  15.433985   \n",
              "6   32913   1     6  15.401937   \n",
              "7  257101   1     7  15.373063   \n",
              "\n",
              "                                                                                                                                                    text  \n",
              "0  support efforts in low-income countries to achieve universal coverage and improve population health outcomes. The theme of the \"World Health Repor...  \n",
              "1  Mental health in the Middle East The study of mental health in the Middle East is an area of research that continues to grow in its scope and cont...  \n",
              "2  WHO global plan of action for workers' health The World Health Organization's global plan of action for workers' health delineates common principl...  \n",
              "3  the world according to criteria of the overall level and distribution of health in the populations, and the responsiveness and fair financing of h...  \n",
              "4  safe when breastfeeding. Suramin was made at least as early as 1916. It is on the World Health Organization's List of Essential Medicines, the mos...  \n",
              "5  (maltitol syrup), and the reduced calorie replacement for conventional fats and oils, salatrim. The fifty third report was released as World Healt...  \n",
              "6  that the health consumer is supported in their decisions and actions’. E-health, defined by the World Health Organization as the combined use of e...  \n",
              "7  might include the capturing of statuses and previously resolved conditions impacting upon the current encounter. For example; a patient with a his...  "
            ],
            "text/html": [
              "\n",
              "  <div id=\"df-bb645a11-004d-4fbf-84f3-99f9a4ef297f\" class=\"colab-df-container\">\n",
              "    <div>\n",
              "<style scoped>\n",
              "    .dataframe tbody tr th:only-of-type {\n",
              "        vertical-align: middle;\n",
              "    }\n",
              "\n",
              "    .dataframe tbody tr th {\n",
              "        vertical-align: top;\n",
              "    }\n",
              "\n",
              "    .dataframe thead th {\n",
              "        text-align: right;\n",
              "    }\n",
              "</style>\n",
              "<table border=\"1\" class=\"dataframe\">\n",
              "  <thead>\n",
              "    <tr style=\"text-align: right;\">\n",
              "      <th></th>\n",
              "      <th>docid</th>\n",
              "      <th>qid</th>\n",
              "      <th>rank</th>\n",
              "      <th>score</th>\n",
              "      <th>text</th>\n",
              "    </tr>\n",
              "  </thead>\n",
              "  <tbody>\n",
              "    <tr>\n",
              "      <th>0</th>\n",
              "      <td>160123</td>\n",
              "      <td>1</td>\n",
              "      <td>0</td>\n",
              "      <td>17.588294</td>\n",
              "      <td>support efforts in low-income countries to achieve universal coverage and improve population health outcomes. The theme of the \"World Health Repor...</td>\n",
              "    </tr>\n",
              "    <tr>\n",
              "      <th>1</th>\n",
              "      <td>164953</td>\n",
              "      <td>1</td>\n",
              "      <td>1</td>\n",
              "      <td>16.809846</td>\n",
              "      <td>Mental health in the Middle East The study of mental health in the Middle East is an area of research that continues to grow in its scope and cont...</td>\n",
              "    </tr>\n",
              "    <tr>\n",
              "      <th>2</th>\n",
              "      <td>164956</td>\n",
              "      <td>1</td>\n",
              "      <td>2</td>\n",
              "      <td>16.460245</td>\n",
              "      <td>WHO global plan of action for workers' health The World Health Organization's global plan of action for workers' health delineates common principl...</td>\n",
              "    </tr>\n",
              "    <tr>\n",
              "      <th>3</th>\n",
              "      <td>293600</td>\n",
              "      <td>1</td>\n",
              "      <td>3</td>\n",
              "      <td>16.455373</td>\n",
              "      <td>the world according to criteria of the overall level and distribution of health in the populations, and the responsiveness and fair financing of h...</td>\n",
              "    </tr>\n",
              "    <tr>\n",
              "      <th>4</th>\n",
              "      <td>284994</td>\n",
              "      <td>1</td>\n",
              "      <td>4</td>\n",
              "      <td>15.607298</td>\n",
              "      <td>safe when breastfeeding. Suramin was made at least as early as 1916. It is on the World Health Organization's List of Essential Medicines, the mos...</td>\n",
              "    </tr>\n",
              "    <tr>\n",
              "      <th>5</th>\n",
              "      <td>124128</td>\n",
              "      <td>1</td>\n",
              "      <td>5</td>\n",
              "      <td>15.433985</td>\n",
              "      <td>(maltitol syrup), and the reduced calorie replacement for conventional fats and oils, salatrim. The fifty third report was released as World Healt...</td>\n",
              "    </tr>\n",
              "    <tr>\n",
              "      <th>6</th>\n",
              "      <td>32913</td>\n",
              "      <td>1</td>\n",
              "      <td>6</td>\n",
              "      <td>15.401937</td>\n",
              "      <td>that the health consumer is supported in their decisions and actions’. E-health, defined by the World Health Organization as the combined use of e...</td>\n",
              "    </tr>\n",
              "    <tr>\n",
              "      <th>7</th>\n",
              "      <td>257101</td>\n",
              "      <td>1</td>\n",
              "      <td>7</td>\n",
              "      <td>15.373063</td>\n",
              "      <td>might include the capturing of statuses and previously resolved conditions impacting upon the current encounter. For example; a patient with a his...</td>\n",
              "    </tr>\n",
              "  </tbody>\n",
              "</table>\n",
              "</div>\n",
              "    <div class=\"colab-df-buttons\">\n",
              "\n",
              "  <div class=\"colab-df-container\">\n",
              "    <button class=\"colab-df-convert\" onclick=\"convertToInteractive('df-bb645a11-004d-4fbf-84f3-99f9a4ef297f')\"\n",
              "            title=\"Convert this dataframe to an interactive table.\"\n",
              "            style=\"display:none;\">\n",
              "\n",
              "  <svg xmlns=\"http://www.w3.org/2000/svg\" height=\"24px\" viewBox=\"0 -960 960 960\">\n",
              "    <path d=\"M120-120v-720h720v720H120Zm60-500h600v-160H180v160Zm220 220h160v-160H400v160Zm0 220h160v-160H400v160ZM180-400h160v-160H180v160Zm440 0h160v-160H620v160ZM180-180h160v-160H180v160Zm440 0h160v-160H620v160Z\"/>\n",
              "  </svg>\n",
              "    </button>\n",
              "\n",
              "  <style>\n",
              "    .colab-df-container {\n",
              "      display:flex;\n",
              "      gap: 12px;\n",
              "    }\n",
              "\n",
              "    .colab-df-convert {\n",
              "      background-color: #E8F0FE;\n",
              "      border: none;\n",
              "      border-radius: 50%;\n",
              "      cursor: pointer;\n",
              "      display: none;\n",
              "      fill: #1967D2;\n",
              "      height: 32px;\n",
              "      padding: 0 0 0 0;\n",
              "      width: 32px;\n",
              "    }\n",
              "\n",
              "    .colab-df-convert:hover {\n",
              "      background-color: #E2EBFA;\n",
              "      box-shadow: 0px 1px 2px rgba(60, 64, 67, 0.3), 0px 1px 3px 1px rgba(60, 64, 67, 0.15);\n",
              "      fill: #174EA6;\n",
              "    }\n",
              "\n",
              "    .colab-df-buttons div {\n",
              "      margin-bottom: 4px;\n",
              "    }\n",
              "\n",
              "    [theme=dark] .colab-df-convert {\n",
              "      background-color: #3B4455;\n",
              "      fill: #D2E3FC;\n",
              "    }\n",
              "\n",
              "    [theme=dark] .colab-df-convert:hover {\n",
              "      background-color: #434B5C;\n",
              "      box-shadow: 0px 1px 3px 1px rgba(0, 0, 0, 0.15);\n",
              "      filter: drop-shadow(0px 1px 2px rgba(0, 0, 0, 0.3));\n",
              "      fill: #FFFFFF;\n",
              "    }\n",
              "  </style>\n",
              "\n",
              "    <script>\n",
              "      const buttonEl =\n",
              "        document.querySelector('#df-bb645a11-004d-4fbf-84f3-99f9a4ef297f button.colab-df-convert');\n",
              "      buttonEl.style.display =\n",
              "        google.colab.kernel.accessAllowed ? 'block' : 'none';\n",
              "\n",
              "      async function convertToInteractive(key) {\n",
              "        const element = document.querySelector('#df-bb645a11-004d-4fbf-84f3-99f9a4ef297f');\n",
              "        const dataTable =\n",
              "          await google.colab.kernel.invokeFunction('convertToInteractive',\n",
              "                                                    [key], {});\n",
              "        if (!dataTable) return;\n",
              "\n",
              "        const docLinkHtml = 'Like what you see? Visit the ' +\n",
              "          '<a target=\"_blank\" href=https://colab.research.google.com/notebooks/data_table.ipynb>data table notebook</a>'\n",
              "          + ' to learn more about interactive tables.';\n",
              "        element.innerHTML = '';\n",
              "        dataTable['output_type'] = 'display_data';\n",
              "        await google.colab.output.renderOutput(dataTable, element);\n",
              "        const docLink = document.createElement('div');\n",
              "        docLink.innerHTML = docLinkHtml;\n",
              "        element.appendChild(docLink);\n",
              "      }\n",
              "    </script>\n",
              "  </div>\n",
              "\n",
              "\n",
              "    <div id=\"df-c105e3a9-72b5-4de7-a087-eec55f494067\">\n",
              "      <button class=\"colab-df-quickchart\" onclick=\"quickchart('df-c105e3a9-72b5-4de7-a087-eec55f494067')\"\n",
              "                title=\"Suggest charts\"\n",
              "                style=\"display:none;\">\n",
              "\n",
              "<svg xmlns=\"http://www.w3.org/2000/svg\" height=\"24px\"viewBox=\"0 0 24 24\"\n",
              "     width=\"24px\">\n",
              "    <g>\n",
              "        <path d=\"M19 3H5c-1.1 0-2 .9-2 2v14c0 1.1.9 2 2 2h14c1.1 0 2-.9 2-2V5c0-1.1-.9-2-2-2zM9 17H7v-7h2v7zm4 0h-2V7h2v10zm4 0h-2v-4h2v4z\"/>\n",
              "    </g>\n",
              "</svg>\n",
              "      </button>\n",
              "\n",
              "<style>\n",
              "  .colab-df-quickchart {\n",
              "      --bg-color: #E8F0FE;\n",
              "      --fill-color: #1967D2;\n",
              "      --hover-bg-color: #E2EBFA;\n",
              "      --hover-fill-color: #174EA6;\n",
              "      --disabled-fill-color: #AAA;\n",
              "      --disabled-bg-color: #DDD;\n",
              "  }\n",
              "\n",
              "  [theme=dark] .colab-df-quickchart {\n",
              "      --bg-color: #3B4455;\n",
              "      --fill-color: #D2E3FC;\n",
              "      --hover-bg-color: #434B5C;\n",
              "      --hover-fill-color: #FFFFFF;\n",
              "      --disabled-bg-color: #3B4455;\n",
              "      --disabled-fill-color: #666;\n",
              "  }\n",
              "\n",
              "  .colab-df-quickchart {\n",
              "    background-color: var(--bg-color);\n",
              "    border: none;\n",
              "    border-radius: 50%;\n",
              "    cursor: pointer;\n",
              "    display: none;\n",
              "    fill: var(--fill-color);\n",
              "    height: 32px;\n",
              "    padding: 0;\n",
              "    width: 32px;\n",
              "  }\n",
              "\n",
              "  .colab-df-quickchart:hover {\n",
              "    background-color: var(--hover-bg-color);\n",
              "    box-shadow: 0 1px 2px rgba(60, 64, 67, 0.3), 0 1px 3px 1px rgba(60, 64, 67, 0.15);\n",
              "    fill: var(--button-hover-fill-color);\n",
              "  }\n",
              "\n",
              "  .colab-df-quickchart-complete:disabled,\n",
              "  .colab-df-quickchart-complete:disabled:hover {\n",
              "    background-color: var(--disabled-bg-color);\n",
              "    fill: var(--disabled-fill-color);\n",
              "    box-shadow: none;\n",
              "  }\n",
              "\n",
              "  .colab-df-spinner {\n",
              "    border: 2px solid var(--fill-color);\n",
              "    border-color: transparent;\n",
              "    border-bottom-color: var(--fill-color);\n",
              "    animation:\n",
              "      spin 1s steps(1) infinite;\n",
              "  }\n",
              "\n",
              "  @keyframes spin {\n",
              "    0% {\n",
              "      border-color: transparent;\n",
              "      border-bottom-color: var(--fill-color);\n",
              "      border-left-color: var(--fill-color);\n",
              "    }\n",
              "    20% {\n",
              "      border-color: transparent;\n",
              "      border-left-color: var(--fill-color);\n",
              "      border-top-color: var(--fill-color);\n",
              "    }\n",
              "    30% {\n",
              "      border-color: transparent;\n",
              "      border-left-color: var(--fill-color);\n",
              "      border-top-color: var(--fill-color);\n",
              "      border-right-color: var(--fill-color);\n",
              "    }\n",
              "    40% {\n",
              "      border-color: transparent;\n",
              "      border-right-color: var(--fill-color);\n",
              "      border-top-color: var(--fill-color);\n",
              "    }\n",
              "    60% {\n",
              "      border-color: transparent;\n",
              "      border-right-color: var(--fill-color);\n",
              "    }\n",
              "    80% {\n",
              "      border-color: transparent;\n",
              "      border-right-color: var(--fill-color);\n",
              "      border-bottom-color: var(--fill-color);\n",
              "    }\n",
              "    90% {\n",
              "      border-color: transparent;\n",
              "      border-bottom-color: var(--fill-color);\n",
              "    }\n",
              "  }\n",
              "</style>\n",
              "\n",
              "      <script>\n",
              "        async function quickchart(key) {\n",
              "          const quickchartButtonEl =\n",
              "            document.querySelector('#' + key + ' button');\n",
              "          quickchartButtonEl.disabled = true;  // To prevent multiple clicks.\n",
              "          quickchartButtonEl.classList.add('colab-df-spinner');\n",
              "          try {\n",
              "            const charts = await google.colab.kernel.invokeFunction(\n",
              "                'suggestCharts', [key], {});\n",
              "          } catch (error) {\n",
              "            console.error('Error during call to suggestCharts:', error);\n",
              "          }\n",
              "          quickchartButtonEl.classList.remove('colab-df-spinner');\n",
              "          quickchartButtonEl.classList.add('colab-df-quickchart-complete');\n",
              "        }\n",
              "        (() => {\n",
              "          let quickchartButtonEl =\n",
              "            document.querySelector('#df-c105e3a9-72b5-4de7-a087-eec55f494067 button');\n",
              "          quickchartButtonEl.style.display =\n",
              "            google.colab.kernel.accessAllowed ? 'block' : 'none';\n",
              "        })();\n",
              "      </script>\n",
              "    </div>\n",
              "\n",
              "  <div id=\"id_76da0958-4428-4600-a270-8fed9759632d\">\n",
              "    <style>\n",
              "      .colab-df-generate {\n",
              "        background-color: #E8F0FE;\n",
              "        border: none;\n",
              "        border-radius: 50%;\n",
              "        cursor: pointer;\n",
              "        display: none;\n",
              "        fill: #1967D2;\n",
              "        height: 32px;\n",
              "        padding: 0 0 0 0;\n",
              "        width: 32px;\n",
              "      }\n",
              "\n",
              "      .colab-df-generate:hover {\n",
              "        background-color: #E2EBFA;\n",
              "        box-shadow: 0px 1px 2px rgba(60, 64, 67, 0.3), 0px 1px 3px 1px rgba(60, 64, 67, 0.15);\n",
              "        fill: #174EA6;\n",
              "      }\n",
              "\n",
              "      [theme=dark] .colab-df-generate {\n",
              "        background-color: #3B4455;\n",
              "        fill: #D2E3FC;\n",
              "      }\n",
              "\n",
              "      [theme=dark] .colab-df-generate:hover {\n",
              "        background-color: #434B5C;\n",
              "        box-shadow: 0px 1px 3px 1px rgba(0, 0, 0, 0.15);\n",
              "        filter: drop-shadow(0px 1px 2px rgba(0, 0, 0, 0.3));\n",
              "        fill: #FFFFFF;\n",
              "      }\n",
              "    </style>\n",
              "    <button class=\"colab-df-generate\" onclick=\"generateWithVariable('result')\"\n",
              "            title=\"Generate code using this dataframe.\"\n",
              "            style=\"display:none;\">\n",
              "\n",
              "  <svg xmlns=\"http://www.w3.org/2000/svg\" height=\"24px\"viewBox=\"0 0 24 24\"\n",
              "       width=\"24px\">\n",
              "    <path d=\"M7,19H8.4L18.45,9,17,7.55,7,17.6ZM5,21V16.75L18.45,3.32a2,2,0,0,1,2.83,0l1.4,1.43a1.91,1.91,0,0,1,.58,1.4,1.91,1.91,0,0,1-.58,1.4L9.25,21ZM18.45,9,17,7.55Zm-12,3A5.31,5.31,0,0,0,4.9,8.1,5.31,5.31,0,0,0,1,6.5,5.31,5.31,0,0,0,4.9,4.9,5.31,5.31,0,0,0,6.5,1,5.31,5.31,0,0,0,8.1,4.9,5.31,5.31,0,0,0,12,6.5,5.46,5.46,0,0,0,6.5,12Z\"/>\n",
              "  </svg>\n",
              "    </button>\n",
              "    <script>\n",
              "      (() => {\n",
              "      const buttonEl =\n",
              "        document.querySelector('#id_76da0958-4428-4600-a270-8fed9759632d button.colab-df-generate');\n",
              "      buttonEl.style.display =\n",
              "        google.colab.kernel.accessAllowed ? 'block' : 'none';\n",
              "\n",
              "      buttonEl.onclick = () => {\n",
              "        google.colab.notebook.generateWithVariable('result');\n",
              "      }\n",
              "      })();\n",
              "    </script>\n",
              "  </div>\n",
              "\n",
              "    </div>\n",
              "  </div>\n"
            ],
            "application/vnd.google.colaboratory.intrinsic+json": {
              "type": "dataframe",
              "variable_name": "result",
              "summary": "{\n  \"name\": \"result\",\n  \"rows\": 8,\n  \"fields\": [\n    {\n      \"column\": \"docid\",\n      \"properties\": {\n        \"dtype\": \"number\",\n        \"std\": 88840,\n        \"min\": 32913,\n        \"max\": 293600,\n        \"num_unique_values\": 8,\n        \"samples\": [\n          164953,\n          124128,\n          160123\n        ],\n        \"semantic_type\": \"\",\n        \"description\": \"\"\n      }\n    },\n    {\n      \"column\": \"qid\",\n      \"properties\": {\n        \"dtype\": \"category\",\n        \"num_unique_values\": 1,\n        \"samples\": [\n          \"1\"\n        ],\n        \"semantic_type\": \"\",\n        \"description\": \"\"\n      }\n    },\n    {\n      \"column\": \"rank\",\n      \"properties\": {\n        \"dtype\": \"number\",\n        \"std\": 2,\n        \"min\": 0,\n        \"max\": 7,\n        \"num_unique_values\": 8,\n        \"samples\": [\n          1\n        ],\n        \"semantic_type\": \"\",\n        \"description\": \"\"\n      }\n    },\n    {\n      \"column\": \"score\",\n      \"properties\": {\n        \"dtype\": \"number\",\n        \"std\": 0.8162117607228537,\n        \"min\": 15.373062941761809,\n        \"max\": 17.588293744336358,\n        \"num_unique_values\": 8,\n        \"samples\": [\n          16.809845527659878\n        ],\n        \"semantic_type\": \"\",\n        \"description\": \"\"\n      }\n    },\n    {\n      \"column\": \"text\",\n      \"properties\": {\n        \"dtype\": \"string\",\n        \"num_unique_values\": 8,\n        \"samples\": [\n          \"Mental health in the Middle East The study of mental health in the Middle East is an area of research that continues to grow in its scope and content. In 1998, the World Mental Health Survey Initiative was conducted by the World Federation for Mental Health. The (WFMH) was originally created in 1948 and works in concert with the World Health Organization (WHO). The 1998 survey sought to help define and clarify mental health Issues across many societies. To accurately evaluate and understand the mental health issues of the Middle East, one must take into account the geographic, historical, cultural,\"\n        ],\n        \"semantic_type\": \"\",\n        \"description\": \"\"\n      }\n    }\n  ]\n}"
            }
          },
          "metadata": {},
          "execution_count": 157
        }
      ]
    },
    {
      "cell_type": "code",
      "source": [
        "plot_search_results(result, query, 8)"
      ],
      "metadata": {
        "colab": {
          "base_uri": "https://localhost:8080/",
          "height": 1000
        },
        "id": "yVd8HhQ4Fk5K",
        "outputId": "d786553c-cb5e-49a2-c179-9148401ed077"
      },
      "execution_count": 151,
      "outputs": [
        {
          "output_type": "display_data",
          "data": {
            "text/plain": [
              "<Figure size 600x400 with 1 Axes>"
            ],
            "image/png": "[encoded data removed]"
          },
          "metadata": {}
        },
        {
          "output_type": "stream",
          "name": "stdout",
          "text": [
            "\n",
            "Text Snippets (query terms highlighted):\n",
            "\n",
            "Document 160123 (Score: 17.5883):\n"
          ]
        },
        {
          "output_type": "display_data",
          "data": {
            "text/plain": [
              "<IPython.core.display.HTML object>"
            ],
            "text/html": [
              "support efforts in low-income countries to achieve universal coverage and improve population <span style=\"background-color: yellow\">health</span> outcomes. The theme of the \"<span style=\"background-color: yellow\">world</span> <span style=\"background-color: yellow\">health</span> Report 2008\" was the renewal of primary <span style=\"background-color: yellow\">health</span> care, and the need for <span style=\"background-color: yellow\">health</span> systems to respond better and faster to the <span style=\"background-color: yellow\">health</span> care challenges of a changing w..."
            ]
          },
          "metadata": {}
        },
        {
          "output_type": "stream",
          "name": "stdout",
          "text": [
            "--------------------------------------------------------------------------------\n",
            "\n",
            "Document 164953 (Score: 16.8098):\n"
          ]
        },
        {
          "output_type": "display_data",
          "data": {
            "text/plain": [
              "<IPython.core.display.HTML object>"
            ],
            "text/html": [
              "Mental <span style=\"background-color: yellow\">health</span> in the Middle East The study of mental <span style=\"background-color: yellow\">health</span> in the Middle East is an area of research that continues to grow in its scope and content. In 1998, the <span style=\"background-color: yellow\">world</span> Mental <span style=\"background-color: yellow\">health</span> Survey Initiative was conducted by the <span style=\"background-color: yellow\">world</span> Federation for Mental <span style=\"background-color: yellow\">health</span>. The (WFMH) was originally created in 1948..."
            ]
          },
          "metadata": {}
        },
        {
          "output_type": "stream",
          "name": "stdout",
          "text": [
            "--------------------------------------------------------------------------------\n",
            "\n",
            "Document 164956 (Score: 16.4602):\n"
          ]
        },
        {
          "output_type": "display_data",
          "data": {
            "text/plain": [
              "<IPython.core.display.HTML object>"
            ],
            "text/html": [
              "WHO global plan of action for workers' <span style=\"background-color: yellow\">health</span> The <span style=\"background-color: yellow\">world</span> <span style=\"background-color: yellow\">health</span> Organization's global plan of action for workers' <span style=\"background-color: yellow\">health</span> delineates common principles by which workplaces should abide by, including the ability for workers to enjoy the highest attainable standard of physical and mental <span style=\"background-color: yellow\">health</span> and favor..."
            ]
          },
          "metadata": {}
        },
        {
          "output_type": "stream",
          "name": "stdout",
          "text": [
            "--------------------------------------------------------------------------------\n",
            "\n",
            "Document 293600 (Score: 16.4554):\n"
          ]
        },
        {
          "output_type": "display_data",
          "data": {
            "text/plain": [
              "<IPython.core.display.HTML object>"
            ],
            "text/html": [
              "the <span style=\"background-color: yellow\">world</span> according to criteria of the overall level and distribution of <span style=\"background-color: yellow\">health</span> in the populations, and the responsiveness and fair financing of <span style=\"background-color: yellow\">health</span> care services. The goals for <span style=\"background-color: yellow\">health</span> systems, according to the WHO's \"<span style=\"background-color: yellow\">world</span> <span style=\"background-color: yellow\">health</span> Report 2000 – <span style=\"background-color: yellow\">health</span> systems: improving performance\" (WHO, 2000), ..."
            ]
          },
          "metadata": {}
        },
        {
          "output_type": "stream",
          "name": "stdout",
          "text": [
            "--------------------------------------------------------------------------------\n",
            "\n",
            "Document 284994 (Score: 15.6073):\n"
          ]
        },
        {
          "output_type": "display_data",
          "data": {
            "text/plain": [
              "<IPython.core.display.HTML object>"
            ],
            "text/html": [
              "safe when breastfeeding. Suramin was made at least as early as 1916. It is on the <span style=\"background-color: yellow\">world</span> <span style=\"background-color: yellow\">health</span> Organization's List of Essential Medicines, the most effective and safe medicines needed in a <span style=\"background-color: yellow\">health</span> system. In the United States it can be acquired from the Center for Disease Control (CDC). The cost of t..."
            ]
          },
          "metadata": {}
        },
        {
          "output_type": "stream",
          "name": "stdout",
          "text": [
            "--------------------------------------------------------------------------------\n",
            "\n",
            "Document 124128 (Score: 15.4340):\n"
          ]
        },
        {
          "output_type": "display_data",
          "data": {
            "text/plain": [
              "<IPython.core.display.HTML object>"
            ],
            "text/html": [
              "(maltitol syrup), and the reduced calorie replacement for conventional fats and oils, salatrim. The fifty third report was released as <span style=\"background-color: yellow\">world</span> <span style=\"background-color: yellow\">health</span> Organization Technical Report Series No. 896 in 2000. The fifty-seventh report was released as <span style=\"background-color: yellow\">world</span> <span style=\"background-color: yellow\">health</span> Organization Technical Report Series No. 909..."
            ]
          },
          "metadata": {}
        },
        {
          "output_type": "stream",
          "name": "stdout",
          "text": [
            "--------------------------------------------------------------------------------\n",
            "\n",
            "Document 32913 (Score: 15.4019):\n"
          ]
        },
        {
          "output_type": "display_data",
          "data": {
            "text/plain": [
              "<IPython.core.display.HTML object>"
            ],
            "text/html": [
              "that the <span style=\"background-color: yellow\">health</span> consumer is supported in their decisions and actions’. E-<span style=\"background-color: yellow\">health</span>, defined by the <span style=\"background-color: yellow\">world</span> <span style=\"background-color: yellow\">health</span> Organization as the combined use of electronic communication and information technology in the <span style=\"background-color: yellow\">health</span> sector, is a sub-discipline of <span style=\"background-color: yellow\">health</span> informatics. HISA aims to improve <span style=\"background-color: yellow\">health</span> through he..."
            ]
          },
          "metadata": {}
        },
        {
          "output_type": "stream",
          "name": "stdout",
          "text": [
            "--------------------------------------------------------------------------------\n",
            "\n",
            "Document 257101 (Score: 15.3731):\n"
          ]
        },
        {
          "output_type": "display_data",
          "data": {
            "text/plain": [
              "<IPython.core.display.HTML object>"
            ],
            "text/html": [
              "might include the capturing of statuses and previously resolved conditions impacting upon the current encounter. For example; a patient with a history of colorectal cancer treated with a colectomy, now presenting with abdominal adhesions. ICD-10 Chapter XXI: Factors influencing <span style=\"background-color: yellow\">health</span> status and con..."
            ]
          },
          "metadata": {}
        },
        {
          "output_type": "stream",
          "name": "stdout",
          "text": [
            "--------------------------------------------------------------------------------\n"
          ]
        }
      ]
    },
    {
      "cell_type": "markdown",
      "source": [
        "# Combined search Examples"
      ],
      "metadata": {
        "id": "NdNyPOqcAGxo"
      }
    },
    {
      "cell_type": "code",
      "source": [
        "# Example 1\n",
        "query1 = \"world helth\"\n",
        "combined_result = combined_search(query1, 8)\n",
        "\n",
        "print(f\"Top {len(combined_result)} results for query '{query1}':\")\n",
        "combined_result"
      ],
      "metadata": {
        "colab": {
          "base_uri": "https://localhost:8080/",
          "height": 354
        },
        "id": "Arzg3vS08TdQ",
        "outputId": "1e35b77e-4e24-4331-c182-e69308ad5e96"
      },
      "execution_count": 158,
      "outputs": [
        {
          "output_type": "stream",
          "name": "stdout",
          "text": [
            "Corrected 'helth' to 'herlth'\n",
            "Searching for: 'world herlth' (corrected from 'world helth')\n",
            "Top 8 results for query 'world helth':\n"
          ]
        },
        {
          "output_type": "execute_result",
          "data": {
            "text/plain": [
              "    docid qid  rank      score  \\\n",
              "0  218434   1     0  17.883855   \n",
              "1  382741   1     1   7.934589   \n",
              "2    2287   1     2   7.847061   \n",
              "3   99401   1     3   7.607957   \n",
              "4   13520   1     4   7.590421   \n",
              "5   64681   1     5   7.590421   \n",
              "6   88155   1     6   7.590421   \n",
              "7  106201   1     7   7.590421   \n",
              "\n",
              "                                                                                                                                                    text  \n",
              "0  A Mother's Love (1939 film) A Mother's Love or Mother Love (German: Mutterliebe) is a 1939 drama film directed by Gustav Ucicky and starring Käthe...  \n",
              "1  all possibilities. So formula_14 is a world set as either x = 2 (in world formula_8) or x= −2 (in world formula_9). There are no other possibiliti...  \n",
              "2  that, in comparison with God, the World is actual eminently. \"It is as true to say that the World is immanent in God, as that God is immanent in t...  \n",
              "3  Physicalism is false. Here proposition P3 is a direct application of the supervenience of consciousness, and hence of any supervenience-based vers...  \n",
              "4  Basic Mid(\"Hello, World\",2,1) ' Example in Visual Basic .NET \"Hello, World\".Chars(2) ' \"l\"c \" Example in Smalltalk \" 'Hello, World' at: 2. \"$e\" //...  \n",
              "5  Basic Mid(\"Hello, World\",2,1) ' Example in Visual Basic .NET \"Hello, World\".Chars(2) ' \"l\"c \" Example in Smalltalk \" 'Hello, World' at: 2. \"$e\" //...  \n",
              "6  Basic Mid(\"Hello, World\",2,1) ' Example in Visual Basic .NET \"Hello, World\".Chars(2) ' \"l\"c \" Example in Smalltalk \" 'Hello, World' at: 2. \"$e\" //...  \n",
              "7  Basic Mid(\"Hello, World\",2,1) ' Example in Visual Basic .NET \"Hello, World\".Chars(2) ' \"l\"c \" Example in Smalltalk \" 'Hello, World' at: 2. \"$e\" //...  "
            ],
            "text/html": [
              "\n",
              "  <div id=\"df-5a5aeb69-b023-4cfb-ad3d-427abd056454\" class=\"colab-df-container\">\n",
              "    <div>\n",
              "<style scoped>\n",
              "    .dataframe tbody tr th:only-of-type {\n",
              "        vertical-align: middle;\n",
              "    }\n",
              "\n",
              "    .dataframe tbody tr th {\n",
              "        vertical-align: top;\n",
              "    }\n",
              "\n",
              "    .dataframe thead th {\n",
              "        text-align: right;\n",
              "    }\n",
              "</style>\n",
              "<table border=\"1\" class=\"dataframe\">\n",
              "  <thead>\n",
              "    <tr style=\"text-align: right;\">\n",
              "      <th></th>\n",
              "      <th>docid</th>\n",
              "      <th>qid</th>\n",
              "      <th>rank</th>\n",
              "      <th>score</th>\n",
              "      <th>text</th>\n",
              "    </tr>\n",
              "  </thead>\n",
              "  <tbody>\n",
              "    <tr>\n",
              "      <th>0</th>\n",
              "      <td>218434</td>\n",
              "      <td>1</td>\n",
              "      <td>0</td>\n",
              "      <td>17.883855</td>\n",
              "      <td>A Mother's Love (1939 film) A Mother's Love or Mother Love (German: Mutterliebe) is a 1939 drama film directed by Gustav Ucicky and starring Käthe...</td>\n",
              "    </tr>\n",
              "    <tr>\n",
              "      <th>1</th>\n",
              "      <td>382741</td>\n",
              "      <td>1</td>\n",
              "      <td>1</td>\n",
              "      <td>7.934589</td>\n",
              "      <td>all possibilities. So formula_14 is a world set as either x = 2 (in world formula_8) or x= −2 (in world formula_9). There are no other possibiliti...</td>\n",
              "    </tr>\n",
              "    <tr>\n",
              "      <th>2</th>\n",
              "      <td>2287</td>\n",
              "      <td>1</td>\n",
              "      <td>2</td>\n",
              "      <td>7.847061</td>\n",
              "      <td>that, in comparison with God, the World is actual eminently. \"It is as true to say that the World is immanent in God, as that God is immanent in t...</td>\n",
              "    </tr>\n",
              "    <tr>\n",
              "      <th>3</th>\n",
              "      <td>99401</td>\n",
              "      <td>1</td>\n",
              "      <td>3</td>\n",
              "      <td>7.607957</td>\n",
              "      <td>Physicalism is false. Here proposition P3 is a direct application of the supervenience of consciousness, and hence of any supervenience-based vers...</td>\n",
              "    </tr>\n",
              "    <tr>\n",
              "      <th>4</th>\n",
              "      <td>13520</td>\n",
              "      <td>1</td>\n",
              "      <td>4</td>\n",
              "      <td>7.590421</td>\n",
              "      <td>Basic Mid(\"Hello, World\",2,1) ' Example in Visual Basic .NET \"Hello, World\".Chars(2) ' \"l\"c \" Example in Smalltalk \" 'Hello, World' at: 2. \"$e\" //...</td>\n",
              "    </tr>\n",
              "    <tr>\n",
              "      <th>5</th>\n",
              "      <td>64681</td>\n",
              "      <td>1</td>\n",
              "      <td>5</td>\n",
              "      <td>7.590421</td>\n",
              "      <td>Basic Mid(\"Hello, World\",2,1) ' Example in Visual Basic .NET \"Hello, World\".Chars(2) ' \"l\"c \" Example in Smalltalk \" 'Hello, World' at: 2. \"$e\" //...</td>\n",
              "    </tr>\n",
              "    <tr>\n",
              "      <th>6</th>\n",
              "      <td>88155</td>\n",
              "      <td>1</td>\n",
              "      <td>6</td>\n",
              "      <td>7.590421</td>\n",
              "      <td>Basic Mid(\"Hello, World\",2,1) ' Example in Visual Basic .NET \"Hello, World\".Chars(2) ' \"l\"c \" Example in Smalltalk \" 'Hello, World' at: 2. \"$e\" //...</td>\n",
              "    </tr>\n",
              "    <tr>\n",
              "      <th>7</th>\n",
              "      <td>106201</td>\n",
              "      <td>1</td>\n",
              "      <td>7</td>\n",
              "      <td>7.590421</td>\n",
              "      <td>Basic Mid(\"Hello, World\",2,1) ' Example in Visual Basic .NET \"Hello, World\".Chars(2) ' \"l\"c \" Example in Smalltalk \" 'Hello, World' at: 2. \"$e\" //...</td>\n",
              "    </tr>\n",
              "  </tbody>\n",
              "</table>\n",
              "</div>\n",
              "    <div class=\"colab-df-buttons\">\n",
              "\n",
              "  <div class=\"colab-df-container\">\n",
              "    <button class=\"colab-df-convert\" onclick=\"convertToInteractive('df-5a5aeb69-b023-4cfb-ad3d-427abd056454')\"\n",
              "            title=\"Convert this dataframe to an interactive table.\"\n",
              "            style=\"display:none;\">\n",
              "\n",
              "  <svg xmlns=\"http://www.w3.org/2000/svg\" height=\"24px\" viewBox=\"0 -960 960 960\">\n",
              "    <path d=\"M120-120v-720h720v720H120Zm60-500h600v-160H180v160Zm220 220h160v-160H400v160Zm0 220h160v-160H400v160ZM180-400h160v-160H180v160Zm440 0h160v-160H620v160ZM180-180h160v-160H180v160Zm440 0h160v-160H620v160Z\"/>\n",
              "  </svg>\n",
              "    </button>\n",
              "\n",
              "  <style>\n",
              "    .colab-df-container {\n",
              "      display:flex;\n",
              "      gap: 12px;\n",
              "    }\n",
              "\n",
              "    .colab-df-convert {\n",
              "      background-color: #E8F0FE;\n",
              "      border: none;\n",
              "      border-radius: 50%;\n",
              "      cursor: pointer;\n",
              "      display: none;\n",
              "      fill: #1967D2;\n",
              "      height: 32px;\n",
              "      padding: 0 0 0 0;\n",
              "      width: 32px;\n",
              "    }\n",
              "\n",
              "    .colab-df-convert:hover {\n",
              "      background-color: #E2EBFA;\n",
              "      box-shadow: 0px 1px 2px rgba(60, 64, 67, 0.3), 0px 1px 3px 1px rgba(60, 64, 67, 0.15);\n",
              "      fill: #174EA6;\n",
              "    }\n",
              "\n",
              "    .colab-df-buttons div {\n",
              "      margin-bottom: 4px;\n",
              "    }\n",
              "\n",
              "    [theme=dark] .colab-df-convert {\n",
              "      background-color: #3B4455;\n",
              "      fill: #D2E3FC;\n",
              "    }\n",
              "\n",
              "    [theme=dark] .colab-df-convert:hover {\n",
              "      background-color: #434B5C;\n",
              "      box-shadow: 0px 1px 3px 1px rgba(0, 0, 0, 0.15);\n",
              "      filter: drop-shadow(0px 1px 2px rgba(0, 0, 0, 0.3));\n",
              "      fill: #FFFFFF;\n",
              "    }\n",
              "  </style>\n",
              "\n",
              "    <script>\n",
              "      const buttonEl =\n",
              "        document.querySelector('#df-5a5aeb69-b023-4cfb-ad3d-427abd056454 button.colab-df-convert');\n",
              "      buttonEl.style.display =\n",
              "        google.colab.kernel.accessAllowed ? 'block' : 'none';\n",
              "\n",
              "      async function convertToInteractive(key) {\n",
              "        const element = document.querySelector('#df-5a5aeb69-b023-4cfb-ad3d-427abd056454');\n",
              "        const dataTable =\n",
              "          await google.colab.kernel.invokeFunction('convertToInteractive',\n",
              "                                                    [key], {});\n",
              "        if (!dataTable) return;\n",
              "\n",
              "        const docLinkHtml = 'Like what you see? Visit the ' +\n",
              "          '<a target=\"_blank\" href=https://colab.research.google.com/notebooks/data_table.ipynb>data table notebook</a>'\n",
              "          + ' to learn more about interactive tables.';\n",
              "        element.innerHTML = '';\n",
              "        dataTable['output_type'] = 'display_data';\n",
              "        await google.colab.output.renderOutput(dataTable, element);\n",
              "        const docLink = document.createElement('div');\n",
              "        docLink.innerHTML = docLinkHtml;\n",
              "        element.appendChild(docLink);\n",
              "      }\n",
              "    </script>\n",
              "  </div>\n",
              "\n",
              "\n",
              "    <div id=\"df-fe234f00-5ce3-426d-85d6-691bf6b3640b\">\n",
              "      <button class=\"colab-df-quickchart\" onclick=\"quickchart('df-fe234f00-5ce3-426d-85d6-691bf6b3640b')\"\n",
              "                title=\"Suggest charts\"\n",
              "                style=\"display:none;\">\n",
              "\n",
              "<svg xmlns=\"http://www.w3.org/2000/svg\" height=\"24px\"viewBox=\"0 0 24 24\"\n",
              "     width=\"24px\">\n",
              "    <g>\n",
              "        <path d=\"M19 3H5c-1.1 0-2 .9-2 2v14c0 1.1.9 2 2 2h14c1.1 0 2-.9 2-2V5c0-1.1-.9-2-2-2zM9 17H7v-7h2v7zm4 0h-2V7h2v10zm4 0h-2v-4h2v4z\"/>\n",
              "    </g>\n",
              "</svg>\n",
              "      </button>\n",
              "\n",
              "<style>\n",
              "  .colab-df-quickchart {\n",
              "      --bg-color: #E8F0FE;\n",
              "      --fill-color: #1967D2;\n",
              "      --hover-bg-color: #E2EBFA;\n",
              "      --hover-fill-color: #174EA6;\n",
              "      --disabled-fill-color: #AAA;\n",
              "      --disabled-bg-color: #DDD;\n",
              "  }\n",
              "\n",
              "  [theme=dark] .colab-df-quickchart {\n",
              "      --bg-color: #3B4455;\n",
              "      --fill-color: #D2E3FC;\n",
              "      --hover-bg-color: #434B5C;\n",
              "      --hover-fill-color: #FFFFFF;\n",
              "      --disabled-bg-color: #3B4455;\n",
              "      --disabled-fill-color: #666;\n",
              "  }\n",
              "\n",
              "  .colab-df-quickchart {\n",
              "    background-color: var(--bg-color);\n",
              "    border: none;\n",
              "    border-radius: 50%;\n",
              "    cursor: pointer;\n",
              "    display: none;\n",
              "    fill: var(--fill-color);\n",
              "    height: 32px;\n",
              "    padding: 0;\n",
              "    width: 32px;\n",
              "  }\n",
              "\n",
              "  .colab-df-quickchart:hover {\n",
              "    background-color: var(--hover-bg-color);\n",
              "    box-shadow: 0 1px 2px rgba(60, 64, 67, 0.3), 0 1px 3px 1px rgba(60, 64, 67, 0.15);\n",
              "    fill: var(--button-hover-fill-color);\n",
              "  }\n",
              "\n",
              "  .colab-df-quickchart-complete:disabled,\n",
              "  .colab-df-quickchart-complete:disabled:hover {\n",
              "    background-color: var(--disabled-bg-color);\n",
              "    fill: var(--disabled-fill-color);\n",
              "    box-shadow: none;\n",
              "  }\n",
              "\n",
              "  .colab-df-spinner {\n",
              "    border: 2px solid var(--fill-color);\n",
              "    border-color: transparent;\n",
              "    border-bottom-color: var(--fill-color);\n",
              "    animation:\n",
              "      spin 1s steps(1) infinite;\n",
              "  }\n",
              "\n",
              "  @keyframes spin {\n",
              "    0% {\n",
              "      border-color: transparent;\n",
              "      border-bottom-color: var(--fill-color);\n",
              "      border-left-color: var(--fill-color);\n",
              "    }\n",
              "    20% {\n",
              "      border-color: transparent;\n",
              "      border-left-color: var(--fill-color);\n",
              "      border-top-color: var(--fill-color);\n",
              "    }\n",
              "    30% {\n",
              "      border-color: transparent;\n",
              "      border-left-color: var(--fill-color);\n",
              "      border-top-color: var(--fill-color);\n",
              "      border-right-color: var(--fill-color);\n",
              "    }\n",
              "    40% {\n",
              "      border-color: transparent;\n",
              "      border-right-color: var(--fill-color);\n",
              "      border-top-color: var(--fill-color);\n",
              "    }\n",
              "    60% {\n",
              "      border-color: transparent;\n",
              "      border-right-color: var(--fill-color);\n",
              "    }\n",
              "    80% {\n",
              "      border-color: transparent;\n",
              "      border-right-color: var(--fill-color);\n",
              "      border-bottom-color: var(--fill-color);\n",
              "    }\n",
              "    90% {\n",
              "      border-color: transparent;\n",
              "      border-bottom-color: var(--fill-color);\n",
              "    }\n",
              "  }\n",
              "</style>\n",
              "\n",
              "      <script>\n",
              "        async function quickchart(key) {\n",
              "          const quickchartButtonEl =\n",
              "            document.querySelector('#' + key + ' button');\n",
              "          quickchartButtonEl.disabled = true;  // To prevent multiple clicks.\n",
              "          quickchartButtonEl.classList.add('colab-df-spinner');\n",
              "          try {\n",
              "            const charts = await google.colab.kernel.invokeFunction(\n",
              "                'suggestCharts', [key], {});\n",
              "          } catch (error) {\n",
              "            console.error('Error during call to suggestCharts:', error);\n",
              "          }\n",
              "          quickchartButtonEl.classList.remove('colab-df-spinner');\n",
              "          quickchartButtonEl.classList.add('colab-df-quickchart-complete');\n",
              "        }\n",
              "        (() => {\n",
              "          let quickchartButtonEl =\n",
              "            document.querySelector('#df-fe234f00-5ce3-426d-85d6-691bf6b3640b button');\n",
              "          quickchartButtonEl.style.display =\n",
              "            google.colab.kernel.accessAllowed ? 'block' : 'none';\n",
              "        })();\n",
              "      </script>\n",
              "    </div>\n",
              "\n",
              "  <div id=\"id_13e19cae-145f-4cf4-8f4d-57cd31e48562\">\n",
              "    <style>\n",
              "      .colab-df-generate {\n",
              "        background-color: #E8F0FE;\n",
              "        border: none;\n",
              "        border-radius: 50%;\n",
              "        cursor: pointer;\n",
              "        display: none;\n",
              "        fill: #1967D2;\n",
              "        height: 32px;\n",
              "        padding: 0 0 0 0;\n",
              "        width: 32px;\n",
              "      }\n",
              "\n",
              "      .colab-df-generate:hover {\n",
              "        background-color: #E2EBFA;\n",
              "        box-shadow: 0px 1px 2px rgba(60, 64, 67, 0.3), 0px 1px 3px 1px rgba(60, 64, 67, 0.15);\n",
              "        fill: #174EA6;\n",
              "      }\n",
              "\n",
              "      [theme=dark] .colab-df-generate {\n",
              "        background-color: #3B4455;\n",
              "        fill: #D2E3FC;\n",
              "      }\n",
              "\n",
              "      [theme=dark] .colab-df-generate:hover {\n",
              "        background-color: #434B5C;\n",
              "        box-shadow: 0px 1px 3px 1px rgba(0, 0, 0, 0.15);\n",
              "        filter: drop-shadow(0px 1px 2px rgba(0, 0, 0, 0.3));\n",
              "        fill: #FFFFFF;\n",
              "      }\n",
              "    </style>\n",
              "    <button class=\"colab-df-generate\" onclick=\"generateWithVariable('combined_result')\"\n",
              "            title=\"Generate code using this dataframe.\"\n",
              "            style=\"display:none;\">\n",
              "\n",
              "  <svg xmlns=\"http://www.w3.org/2000/svg\" height=\"24px\"viewBox=\"0 0 24 24\"\n",
              "       width=\"24px\">\n",
              "    <path d=\"M7,19H8.4L18.45,9,17,7.55,7,17.6ZM5,21V16.75L18.45,3.32a2,2,0,0,1,2.83,0l1.4,1.43a1.91,1.91,0,0,1,.58,1.4,1.91,1.91,0,0,1-.58,1.4L9.25,21ZM18.45,9,17,7.55Zm-12,3A5.31,5.31,0,0,0,4.9,8.1,5.31,5.31,0,0,0,1,6.5,5.31,5.31,0,0,0,4.9,4.9,5.31,5.31,0,0,0,6.5,1,5.31,5.31,0,0,0,8.1,4.9,5.31,5.31,0,0,0,12,6.5,5.46,5.46,0,0,0,6.5,12Z\"/>\n",
              "  </svg>\n",
              "    </button>\n",
              "    <script>\n",
              "      (() => {\n",
              "      const buttonEl =\n",
              "        document.querySelector('#id_13e19cae-145f-4cf4-8f4d-57cd31e48562 button.colab-df-generate');\n",
              "      buttonEl.style.display =\n",
              "        google.colab.kernel.accessAllowed ? 'block' : 'none';\n",
              "\n",
              "      buttonEl.onclick = () => {\n",
              "        google.colab.notebook.generateWithVariable('combined_result');\n",
              "      }\n",
              "      })();\n",
              "    </script>\n",
              "  </div>\n",
              "\n",
              "    </div>\n",
              "  </div>\n"
            ],
            "application/vnd.google.colaboratory.intrinsic+json": {
              "type": "dataframe",
              "variable_name": "combined_result",
              "summary": "{\n  \"name\": \"combined_result\",\n  \"rows\": 8,\n  \"fields\": [\n    {\n      \"column\": \"docid\",\n      \"properties\": {\n        \"dtype\": \"number\",\n        \"std\": 124542,\n        \"min\": 2287,\n        \"max\": 382741,\n        \"num_unique_values\": 8,\n        \"samples\": [\n          382741,\n          64681,\n          218434\n        ],\n        \"semantic_type\": \"\",\n        \"description\": \"\"\n      }\n    },\n    {\n      \"column\": \"qid\",\n      \"properties\": {\n        \"dtype\": \"category\",\n        \"num_unique_values\": 1,\n        \"samples\": [\n          \"1\"\n        ],\n        \"semantic_type\": \"\",\n        \"description\": \"\"\n      }\n    },\n    {\n      \"column\": \"rank\",\n      \"properties\": {\n        \"dtype\": \"number\",\n        \"std\": 2,\n        \"min\": 0,\n        \"max\": 7,\n        \"num_unique_values\": 8,\n        \"samples\": [\n          1\n        ],\n        \"semantic_type\": \"\",\n        \"description\": \"\"\n      }\n    },\n    {\n      \"column\": \"score\",\n      \"properties\": {\n        \"dtype\": \"number\",\n        \"std\": 3.610620150478882,\n        \"min\": 7.59042136259334,\n        \"max\": 17.883855299563557,\n        \"num_unique_values\": 5,\n        \"samples\": [\n          7.934589301392668\n        ],\n        \"semantic_type\": \"\",\n        \"description\": \"\"\n      }\n    },\n    {\n      \"column\": \"text\",\n      \"properties\": {\n        \"dtype\": \"string\",\n        \"num_unique_values\": 5,\n        \"samples\": [\n          \"all possibilities. So formula_14 is a world set as either x = 2 (in world formula_8) or x= \\u22122 (in world formula_9). There are no other possibilities. Worlds from the same world set are mutually exclusive, so it is not possible that the propositions for both worlds formula_8 and formula_9 are true at the same time. The rule for the application of functions to value sets is, For example, is, The intersection of the possible world with itself is the possible world, The intersection of the possible world with another possible world from the same world set is empty, So,\"\n        ],\n        \"semantic_type\": \"\",\n        \"description\": \"\"\n      }\n    }\n  ]\n}"
            }
          },
          "metadata": {},
          "execution_count": 158
        }
      ]
    },
    {
      "cell_type": "code",
      "source": [
        "plot_search_results(combined_result, query1, 8)"
      ],
      "metadata": {
        "colab": {
          "base_uri": "https://localhost:8080/",
          "height": 1000
        },
        "id": "64xIKylCGTxY",
        "outputId": "c0bcba36-3887-48d2-badb-b301a636d886"
      },
      "execution_count": 159,
      "outputs": [
        {
          "output_type": "display_data",
          "data": {
            "text/plain": [
              "<Figure size 600x400 with 1 Axes>"
            ],
            "image/png": "[encoded data removed]"
          },
          "metadata": {}
        },
        {
          "output_type": "stream",
          "name": "stdout",
          "text": [
            "\n",
            "Text Snippets (query terms highlighted):\n",
            "\n",
            "Document 218434 (Score: 17.8839):\n"
          ]
        },
        {
          "output_type": "display_data",
          "data": {
            "text/plain": [
              "<IPython.core.display.HTML object>"
            ],
            "text/html": [
              "A Mother's Love (1939 film) A Mother's Love or Mother Love (German: Mutterliebe) is a 1939 drama film directed by Gustav Ucicky and starring Käthe Dorsch, Paul Hörbiger and Wolf Albach-Retty. It was made by the Vienna-based Wien-Film which had been established following the German annexation of Aust..."
            ]
          },
          "metadata": {}
        },
        {
          "output_type": "stream",
          "name": "stdout",
          "text": [
            "--------------------------------------------------------------------------------\n",
            "\n",
            "Document 382741 (Score: 7.9346):\n"
          ]
        },
        {
          "output_type": "display_data",
          "data": {
            "text/plain": [
              "<IPython.core.display.HTML object>"
            ],
            "text/html": [
              "all possibilities. So formula_14 is a <span style=\"background-color: yellow\">world</span> set as either x = 2 (in <span style=\"background-color: yellow\">world</span> formula_8) or x= −2 (in <span style=\"background-color: yellow\">world</span> formula_9). There are no other possibilities. <span style=\"background-color: yellow\">world</span>s from the same <span style=\"background-color: yellow\">world</span> set are mutually exclusive, so it is not possible that the propositions for both <span style=\"background-color: yellow\">world</span>s formula_8 and formula_9 are true at..."
            ]
          },
          "metadata": {}
        },
        {
          "output_type": "stream",
          "name": "stdout",
          "text": [
            "--------------------------------------------------------------------------------\n",
            "\n",
            "Document 2287 (Score: 7.8471):\n"
          ]
        },
        {
          "output_type": "display_data",
          "data": {
            "text/plain": [
              "<IPython.core.display.HTML object>"
            ],
            "text/html": [
              "that, in comparison with God, the <span style=\"background-color: yellow\">world</span> is actual eminently. \"It is as true to say that the <span style=\"background-color: yellow\">world</span> is immanent in God, as that God is immanent in the <span style=\"background-color: yellow\">world</span>. \"It is as true to say that God transcends the <span style=\"background-color: yellow\">world</span>, as that the <span style=\"background-color: yellow\">world</span> transcends God. \"It is as true to say that God creates the <span style=\"background-color: yellow\">world</span>, as that..."
            ]
          },
          "metadata": {}
        },
        {
          "output_type": "stream",
          "name": "stdout",
          "text": [
            "--------------------------------------------------------------------------------\n",
            "\n",
            "Document 99401 (Score: 7.6080):\n"
          ]
        },
        {
          "output_type": "display_data",
          "data": {
            "text/plain": [
              "<IPython.core.display.HTML object>"
            ],
            "text/html": [
              "Physicalism is false. Here proposition P3 is a direct application of the supervenience of consciousness, and hence of any supervenience-based version of physicalism: If PTI and not Q is possible, there is some possible <span style=\"background-color: yellow\">world</span> where it is true. This <span style=\"background-color: yellow\">world</span> differs from [the relevant indexing on] our wo..."
            ]
          },
          "metadata": {}
        },
        {
          "output_type": "stream",
          "name": "stdout",
          "text": [
            "--------------------------------------------------------------------------------\n",
            "\n",
            "Document 13520 (Score: 7.5904):\n"
          ]
        },
        {
          "output_type": "display_data",
          "data": {
            "text/plain": [
              "<IPython.core.display.HTML object>"
            ],
            "text/html": [
              "Basic Mid(\"Hello, <span style=\"background-color: yellow\">world</span>\",2,1) ' Example in Visual Basic .NET \"Hello, <span style=\"background-color: yellow\">world</span>\".Chars(2) ' \"l\"c \" Example in Smalltalk \" 'Hello, <span style=\"background-color: yellow\">world</span>' at: 2. \"$e\" //Example in Rust \"Hello, <span style=\"background-color: yellow\">world</span>\".chars().nth(2); //'l' \"hello\" cmp \"<span style=\"background-color: yellow\">world</span>\"; # returns -1 \"hello\" cmp \"<span style=\"background-color: yellow\">world</span>\"; # returns Less \"<span style=\"background-color: yellow\">world</span>\" cmp \"hello\"; # returns ..."
            ]
          },
          "metadata": {}
        },
        {
          "output_type": "stream",
          "name": "stdout",
          "text": [
            "--------------------------------------------------------------------------------\n",
            "\n",
            "Document 64681 (Score: 7.5904):\n"
          ]
        },
        {
          "output_type": "display_data",
          "data": {
            "text/plain": [
              "<IPython.core.display.HTML object>"
            ],
            "text/html": [
              "Basic Mid(\"Hello, <span style=\"background-color: yellow\">world</span>\",2,1) ' Example in Visual Basic .NET \"Hello, <span style=\"background-color: yellow\">world</span>\".Chars(2) ' \"l\"c \" Example in Smalltalk \" 'Hello, <span style=\"background-color: yellow\">world</span>' at: 2. \"$e\" //Example in Rust \"Hello, <span style=\"background-color: yellow\">world</span>\".chars().nth(2); //'l' \"hello\" cmp \"<span style=\"background-color: yellow\">world</span>\"; # returns -1 \"hello\" cmp \"<span style=\"background-color: yellow\">world</span>\"; # returns Less \"<span style=\"background-color: yellow\">world</span>\" cmp \"hello\"; # returns ..."
            ]
          },
          "metadata": {}
        },
        {
          "output_type": "stream",
          "name": "stdout",
          "text": [
            "--------------------------------------------------------------------------------\n",
            "\n",
            "Document 88155 (Score: 7.5904):\n"
          ]
        },
        {
          "output_type": "display_data",
          "data": {
            "text/plain": [
              "<IPython.core.display.HTML object>"
            ],
            "text/html": [
              "Basic Mid(\"Hello, <span style=\"background-color: yellow\">world</span>\",2,1) ' Example in Visual Basic .NET \"Hello, <span style=\"background-color: yellow\">world</span>\".Chars(2) ' \"l\"c \" Example in Smalltalk \" 'Hello, <span style=\"background-color: yellow\">world</span>' at: 2. \"$e\" //Example in Rust \"Hello, <span style=\"background-color: yellow\">world</span>\".chars().nth(2); //'l' \"hello\" cmp \"<span style=\"background-color: yellow\">world</span>\"; # returns -1 \"hello\" cmp \"<span style=\"background-color: yellow\">world</span>\"; # returns Less \"<span style=\"background-color: yellow\">world</span>\" cmp \"hello\"; # returns ..."
            ]
          },
          "metadata": {}
        },
        {
          "output_type": "stream",
          "name": "stdout",
          "text": [
            "--------------------------------------------------------------------------------\n",
            "\n",
            "Document 106201 (Score: 7.5904):\n"
          ]
        },
        {
          "output_type": "display_data",
          "data": {
            "text/plain": [
              "<IPython.core.display.HTML object>"
            ],
            "text/html": [
              "Basic Mid(\"Hello, <span style=\"background-color: yellow\">world</span>\",2,1) ' Example in Visual Basic .NET \"Hello, <span style=\"background-color: yellow\">world</span>\".Chars(2) ' \"l\"c \" Example in Smalltalk \" 'Hello, <span style=\"background-color: yellow\">world</span>' at: 2. \"$e\" //Example in Rust \"Hello, <span style=\"background-color: yellow\">world</span>\".chars().nth(2); //'l' \"hello\" cmp \"<span style=\"background-color: yellow\">world</span>\"; # returns -1 \"hello\" cmp \"<span style=\"background-color: yellow\">world</span>\"; # returns Less \"<span style=\"background-color: yellow\">world</span>\" cmp \"hello\"; # returns ..."
            ]
          },
          "metadata": {}
        },
        {
          "output_type": "stream",
          "name": "stdout",
          "text": [
            "--------------------------------------------------------------------------------\n"
          ]
        }
      ]
    },
    {
      "cell_type": "code",
      "source": [
        "# Example 2\n",
        "query2 = \"world healt\"\n",
        "combined_result = combined_search(query2, 8)\n",
        "\n",
        "print(f\"Top {len(combined_result)} results for query '{query2}':\")\n",
        "combined_result"
      ],
      "metadata": {
        "colab": {
          "base_uri": "https://localhost:8080/",
          "height": 354
        },
        "id": "_aFx62l7AMaQ",
        "outputId": "60c5ed2a-5f2b-43ed-d935-8331f9cc11b1"
      },
      "execution_count": 160,
      "outputs": [
        {
          "output_type": "stream",
          "name": "stdout",
          "text": [
            "Corrected 'healt' to 'health'\n",
            "Searching for: 'world health' (corrected from 'world healt')\n",
            "Top 8 results for query 'world healt':\n"
          ]
        },
        {
          "output_type": "execute_result",
          "data": {
            "text/plain": [
              "    docid qid  rank      score  \\\n",
              "0  160123   1     0  17.588294   \n",
              "1  164953   1     1  16.809846   \n",
              "2  164956   1     2  16.460245   \n",
              "3  293600   1     3  16.455373   \n",
              "4  284994   1     4  15.607298   \n",
              "5  124128   1     5  15.433985   \n",
              "6   32913   1     6  15.401937   \n",
              "7  257101   1     7  15.373063   \n",
              "\n",
              "                                                                                                                                                    text  \n",
              "0  support efforts in low-income countries to achieve universal coverage and improve population health outcomes. The theme of the \"World Health Repor...  \n",
              "1  Mental health in the Middle East The study of mental health in the Middle East is an area of research that continues to grow in its scope and cont...  \n",
              "2  WHO global plan of action for workers' health The World Health Organization's global plan of action for workers' health delineates common principl...  \n",
              "3  the world according to criteria of the overall level and distribution of health in the populations, and the responsiveness and fair financing of h...  \n",
              "4  safe when breastfeeding. Suramin was made at least as early as 1916. It is on the World Health Organization's List of Essential Medicines, the mos...  \n",
              "5  (maltitol syrup), and the reduced calorie replacement for conventional fats and oils, salatrim. The fifty third report was released as World Healt...  \n",
              "6  that the health consumer is supported in their decisions and actions’. E-health, defined by the World Health Organization as the combined use of e...  \n",
              "7  might include the capturing of statuses and previously resolved conditions impacting upon the current encounter. For example; a patient with a his...  "
            ],
            "text/html": [
              "\n",
              "  <div id=\"df-4141d9d3-a15a-4cb8-80d3-a2f21b932564\" class=\"colab-df-container\">\n",
              "    <div>\n",
              "<style scoped>\n",
              "    .dataframe tbody tr th:only-of-type {\n",
              "        vertical-align: middle;\n",
              "    }\n",
              "\n",
              "    .dataframe tbody tr th {\n",
              "        vertical-align: top;\n",
              "    }\n",
              "\n",
              "    .dataframe thead th {\n",
              "        text-align: right;\n",
              "    }\n",
              "</style>\n",
              "<table border=\"1\" class=\"dataframe\">\n",
              "  <thead>\n",
              "    <tr style=\"text-align: right;\">\n",
              "      <th></th>\n",
              "      <th>docid</th>\n",
              "      <th>qid</th>\n",
              "      <th>rank</th>\n",
              "      <th>score</th>\n",
              "      <th>text</th>\n",
              "    </tr>\n",
              "  </thead>\n",
              "  <tbody>\n",
              "    <tr>\n",
              "      <th>0</th>\n",
              "      <td>160123</td>\n",
              "      <td>1</td>\n",
              "      <td>0</td>\n",
              "      <td>17.588294</td>\n",
              "      <td>support efforts in low-income countries to achieve universal coverage and improve population health outcomes. The theme of the \"World Health Repor...</td>\n",
              "    </tr>\n",
              "    <tr>\n",
              "      <th>1</th>\n",
              "      <td>164953</td>\n",
              "      <td>1</td>\n",
              "      <td>1</td>\n",
              "      <td>16.809846</td>\n",
              "      <td>Mental health in the Middle East The study of mental health in the Middle East is an area of research that continues to grow in its scope and cont...</td>\n",
              "    </tr>\n",
              "    <tr>\n",
              "      <th>2</th>\n",
              "      <td>164956</td>\n",
              "      <td>1</td>\n",
              "      <td>2</td>\n",
              "      <td>16.460245</td>\n",
              "      <td>WHO global plan of action for workers' health The World Health Organization's global plan of action for workers' health delineates common principl...</td>\n",
              "    </tr>\n",
              "    <tr>\n",
              "      <th>3</th>\n",
              "      <td>293600</td>\n",
              "      <td>1</td>\n",
              "      <td>3</td>\n",
              "      <td>16.455373</td>\n",
              "      <td>the world according to criteria of the overall level and distribution of health in the populations, and the responsiveness and fair financing of h...</td>\n",
              "    </tr>\n",
              "    <tr>\n",
              "      <th>4</th>\n",
              "      <td>284994</td>\n",
              "      <td>1</td>\n",
              "      <td>4</td>\n",
              "      <td>15.607298</td>\n",
              "      <td>safe when breastfeeding. Suramin was made at least as early as 1916. It is on the World Health Organization's List of Essential Medicines, the mos...</td>\n",
              "    </tr>\n",
              "    <tr>\n",
              "      <th>5</th>\n",
              "      <td>124128</td>\n",
              "      <td>1</td>\n",
              "      <td>5</td>\n",
              "      <td>15.433985</td>\n",
              "      <td>(maltitol syrup), and the reduced calorie replacement for conventional fats and oils, salatrim. The fifty third report was released as World Healt...</td>\n",
              "    </tr>\n",
              "    <tr>\n",
              "      <th>6</th>\n",
              "      <td>32913</td>\n",
              "      <td>1</td>\n",
              "      <td>6</td>\n",
              "      <td>15.401937</td>\n",
              "      <td>that the health consumer is supported in their decisions and actions’. E-health, defined by the World Health Organization as the combined use of e...</td>\n",
              "    </tr>\n",
              "    <tr>\n",
              "      <th>7</th>\n",
              "      <td>257101</td>\n",
              "      <td>1</td>\n",
              "      <td>7</td>\n",
              "      <td>15.373063</td>\n",
              "      <td>might include the capturing of statuses and previously resolved conditions impacting upon the current encounter. For example; a patient with a his...</td>\n",
              "    </tr>\n",
              "  </tbody>\n",
              "</table>\n",
              "</div>\n",
              "    <div class=\"colab-df-buttons\">\n",
              "\n",
              "  <div class=\"colab-df-container\">\n",
              "    <button class=\"colab-df-convert\" onclick=\"convertToInteractive('df-4141d9d3-a15a-4cb8-80d3-a2f21b932564')\"\n",
              "            title=\"Convert this dataframe to an interactive table.\"\n",
              "            style=\"display:none;\">\n",
              "\n",
              "  <svg xmlns=\"http://www.w3.org/2000/svg\" height=\"24px\" viewBox=\"0 -960 960 960\">\n",
              "    <path d=\"M120-120v-720h720v720H120Zm60-500h600v-160H180v160Zm220 220h160v-160H400v160Zm0 220h160v-160H400v160ZM180-400h160v-160H180v160Zm440 0h160v-160H620v160ZM180-180h160v-160H180v160Zm440 0h160v-160H620v160Z\"/>\n",
              "  </svg>\n",
              "    </button>\n",
              "\n",
              "  <style>\n",
              "    .colab-df-container {\n",
              "      display:flex;\n",
              "      gap: 12px;\n",
              "    }\n",
              "\n",
              "    .colab-df-convert {\n",
              "      background-color: #E8F0FE;\n",
              "      border: none;\n",
              "      border-radius: 50%;\n",
              "      cursor: pointer;\n",
              "      display: none;\n",
              "      fill: #1967D2;\n",
              "      height: 32px;\n",
              "      padding: 0 0 0 0;\n",
              "      width: 32px;\n",
              "    }\n",
              "\n",
              "    .colab-df-convert:hover {\n",
              "      background-color: #E2EBFA;\n",
              "      box-shadow: 0px 1px 2px rgba(60, 64, 67, 0.3), 0px 1px 3px 1px rgba(60, 64, 67, 0.15);\n",
              "      fill: #174EA6;\n",
              "    }\n",
              "\n",
              "    .colab-df-buttons div {\n",
              "      margin-bottom: 4px;\n",
              "    }\n",
              "\n",
              "    [theme=dark] .colab-df-convert {\n",
              "      background-color: #3B4455;\n",
              "      fill: #D2E3FC;\n",
              "    }\n",
              "\n",
              "    [theme=dark] .colab-df-convert:hover {\n",
              "      background-color: #434B5C;\n",
              "      box-shadow: 0px 1px 3px 1px rgba(0, 0, 0, 0.15);\n",
              "      filter: drop-shadow(0px 1px 2px rgba(0, 0, 0, 0.3));\n",
              "      fill: #FFFFFF;\n",
              "    }\n",
              "  </style>\n",
              "\n",
              "    <script>\n",
              "      const buttonEl =\n",
              "        document.querySelector('#df-4141d9d3-a15a-4cb8-80d3-a2f21b932564 button.colab-df-convert');\n",
              "      buttonEl.style.display =\n",
              "        google.colab.kernel.accessAllowed ? 'block' : 'none';\n",
              "\n",
              "      async function convertToInteractive(key) {\n",
              "        const element = document.querySelector('#df-4141d9d3-a15a-4cb8-80d3-a2f21b932564');\n",
              "        const dataTable =\n",
              "          await google.colab.kernel.invokeFunction('convertToInteractive',\n",
              "                                                    [key], {});\n",
              "        if (!dataTable) return;\n",
              "\n",
              "        const docLinkHtml = 'Like what you see? Visit the ' +\n",
              "          '<a target=\"_blank\" href=https://colab.research.google.com/notebooks/data_table.ipynb>data table notebook</a>'\n",
              "          + ' to learn more about interactive tables.';\n",
              "        element.innerHTML = '';\n",
              "        dataTable['output_type'] = 'display_data';\n",
              "        await google.colab.output.renderOutput(dataTable, element);\n",
              "        const docLink = document.createElement('div');\n",
              "        docLink.innerHTML = docLinkHtml;\n",
              "        element.appendChild(docLink);\n",
              "      }\n",
              "    </script>\n",
              "  </div>\n",
              "\n",
              "\n",
              "    <div id=\"df-28d1018a-9cce-402b-b29b-82fdd4265113\">\n",
              "      <button class=\"colab-df-quickchart\" onclick=\"quickchart('df-28d1018a-9cce-402b-b29b-82fdd4265113')\"\n",
              "                title=\"Suggest charts\"\n",
              "                style=\"display:none;\">\n",
              "\n",
              "<svg xmlns=\"http://www.w3.org/2000/svg\" height=\"24px\"viewBox=\"0 0 24 24\"\n",
              "     width=\"24px\">\n",
              "    <g>\n",
              "        <path d=\"M19 3H5c-1.1 0-2 .9-2 2v14c0 1.1.9 2 2 2h14c1.1 0 2-.9 2-2V5c0-1.1-.9-2-2-2zM9 17H7v-7h2v7zm4 0h-2V7h2v10zm4 0h-2v-4h2v4z\"/>\n",
              "    </g>\n",
              "</svg>\n",
              "      </button>\n",
              "\n",
              "<style>\n",
              "  .colab-df-quickchart {\n",
              "      --bg-color: #E8F0FE;\n",
              "      --fill-color: #1967D2;\n",
              "      --hover-bg-color: #E2EBFA;\n",
              "      --hover-fill-color: #174EA6;\n",
              "      --disabled-fill-color: #AAA;\n",
              "      --disabled-bg-color: #DDD;\n",
              "  }\n",
              "\n",
              "  [theme=dark] .colab-df-quickchart {\n",
              "      --bg-color: #3B4455;\n",
              "      --fill-color: #D2E3FC;\n",
              "      --hover-bg-color: #434B5C;\n",
              "      --hover-fill-color: #FFFFFF;\n",
              "      --disabled-bg-color: #3B4455;\n",
              "      --disabled-fill-color: #666;\n",
              "  }\n",
              "\n",
              "  .colab-df-quickchart {\n",
              "    background-color: var(--bg-color);\n",
              "    border: none;\n",
              "    border-radius: 50%;\n",
              "    cursor: pointer;\n",
              "    display: none;\n",
              "    fill: var(--fill-color);\n",
              "    height: 32px;\n",
              "    padding: 0;\n",
              "    width: 32px;\n",
              "  }\n",
              "\n",
              "  .colab-df-quickchart:hover {\n",
              "    background-color: var(--hover-bg-color);\n",
              "    box-shadow: 0 1px 2px rgba(60, 64, 67, 0.3), 0 1px 3px 1px rgba(60, 64, 67, 0.15);\n",
              "    fill: var(--button-hover-fill-color);\n",
              "  }\n",
              "\n",
              "  .colab-df-quickchart-complete:disabled,\n",
              "  .colab-df-quickchart-complete:disabled:hover {\n",
              "    background-color: var(--disabled-bg-color);\n",
              "    fill: var(--disabled-fill-color);\n",
              "    box-shadow: none;\n",
              "  }\n",
              "\n",
              "  .colab-df-spinner {\n",
              "    border: 2px solid var(--fill-color);\n",
              "    border-color: transparent;\n",
              "    border-bottom-color: var(--fill-color);\n",
              "    animation:\n",
              "      spin 1s steps(1) infinite;\n",
              "  }\n",
              "\n",
              "  @keyframes spin {\n",
              "    0% {\n",
              "      border-color: transparent;\n",
              "      border-bottom-color: var(--fill-color);\n",
              "      border-left-color: var(--fill-color);\n",
              "    }\n",
              "    20% {\n",
              "      border-color: transparent;\n",
              "      border-left-color: var(--fill-color);\n",
              "      border-top-color: var(--fill-color);\n",
              "    }\n",
              "    30% {\n",
              "      border-color: transparent;\n",
              "      border-left-color: var(--fill-color);\n",
              "      border-top-color: var(--fill-color);\n",
              "      border-right-color: var(--fill-color);\n",
              "    }\n",
              "    40% {\n",
              "      border-color: transparent;\n",
              "      border-right-color: var(--fill-color);\n",
              "      border-top-color: var(--fill-color);\n",
              "    }\n",
              "    60% {\n",
              "      border-color: transparent;\n",
              "      border-right-color: var(--fill-color);\n",
              "    }\n",
              "    80% {\n",
              "      border-color: transparent;\n",
              "      border-right-color: var(--fill-color);\n",
              "      border-bottom-color: var(--fill-color);\n",
              "    }\n",
              "    90% {\n",
              "      border-color: transparent;\n",
              "      border-bottom-color: var(--fill-color);\n",
              "    }\n",
              "  }\n",
              "</style>\n",
              "\n",
              "      <script>\n",
              "        async function quickchart(key) {\n",
              "          const quickchartButtonEl =\n",
              "            document.querySelector('#' + key + ' button');\n",
              "          quickchartButtonEl.disabled = true;  // To prevent multiple clicks.\n",
              "          quickchartButtonEl.classList.add('colab-df-spinner');\n",
              "          try {\n",
              "            const charts = await google.colab.kernel.invokeFunction(\n",
              "                'suggestCharts', [key], {});\n",
              "          } catch (error) {\n",
              "            console.error('Error during call to suggestCharts:', error);\n",
              "          }\n",
              "          quickchartButtonEl.classList.remove('colab-df-spinner');\n",
              "          quickchartButtonEl.classList.add('colab-df-quickchart-complete');\n",
              "        }\n",
              "        (() => {\n",
              "          let quickchartButtonEl =\n",
              "            document.querySelector('#df-28d1018a-9cce-402b-b29b-82fdd4265113 button');\n",
              "          quickchartButtonEl.style.display =\n",
              "            google.colab.kernel.accessAllowed ? 'block' : 'none';\n",
              "        })();\n",
              "      </script>\n",
              "    </div>\n",
              "\n",
              "  <div id=\"id_c7793458-ea9b-470b-93be-b4d2aefe33a0\">\n",
              "    <style>\n",
              "      .colab-df-generate {\n",
              "        background-color: #E8F0FE;\n",
              "        border: none;\n",
              "        border-radius: 50%;\n",
              "        cursor: pointer;\n",
              "        display: none;\n",
              "        fill: #1967D2;\n",
              "        height: 32px;\n",
              "        padding: 0 0 0 0;\n",
              "        width: 32px;\n",
              "      }\n",
              "\n",
              "      .colab-df-generate:hover {\n",
              "        background-color: #E2EBFA;\n",
              "        box-shadow: 0px 1px 2px rgba(60, 64, 67, 0.3), 0px 1px 3px 1px rgba(60, 64, 67, 0.15);\n",
              "        fill: #174EA6;\n",
              "      }\n",
              "\n",
              "      [theme=dark] .colab-df-generate {\n",
              "        background-color: #3B4455;\n",
              "        fill: #D2E3FC;\n",
              "      }\n",
              "\n",
              "      [theme=dark] .colab-df-generate:hover {\n",
              "        background-color: #434B5C;\n",
              "        box-shadow: 0px 1px 3px 1px rgba(0, 0, 0, 0.15);\n",
              "        filter: drop-shadow(0px 1px 2px rgba(0, 0, 0, 0.3));\n",
              "        fill: #FFFFFF;\n",
              "      }\n",
              "    </style>\n",
              "    <button class=\"colab-df-generate\" onclick=\"generateWithVariable('combined_result')\"\n",
              "            title=\"Generate code using this dataframe.\"\n",
              "            style=\"display:none;\">\n",
              "\n",
              "  <svg xmlns=\"http://www.w3.org/2000/svg\" height=\"24px\"viewBox=\"0 0 24 24\"\n",
              "       width=\"24px\">\n",
              "    <path d=\"M7,19H8.4L18.45,9,17,7.55,7,17.6ZM5,21V16.75L18.45,3.32a2,2,0,0,1,2.83,0l1.4,1.43a1.91,1.91,0,0,1,.58,1.4,1.91,1.91,0,0,1-.58,1.4L9.25,21ZM18.45,9,17,7.55Zm-12,3A5.31,5.31,0,0,0,4.9,8.1,5.31,5.31,0,0,0,1,6.5,5.31,5.31,0,0,0,4.9,4.9,5.31,5.31,0,0,0,6.5,1,5.31,5.31,0,0,0,8.1,4.9,5.31,5.31,0,0,0,12,6.5,5.46,5.46,0,0,0,6.5,12Z\"/>\n",
              "  </svg>\n",
              "    </button>\n",
              "    <script>\n",
              "      (() => {\n",
              "      const buttonEl =\n",
              "        document.querySelector('#id_c7793458-ea9b-470b-93be-b4d2aefe33a0 button.colab-df-generate');\n",
              "      buttonEl.style.display =\n",
              "        google.colab.kernel.accessAllowed ? 'block' : 'none';\n",
              "\n",
              "      buttonEl.onclick = () => {\n",
              "        google.colab.notebook.generateWithVariable('combined_result');\n",
              "      }\n",
              "      })();\n",
              "    </script>\n",
              "  </div>\n",
              "\n",
              "    </div>\n",
              "  </div>\n"
            ],
            "application/vnd.google.colaboratory.intrinsic+json": {
              "type": "dataframe",
              "variable_name": "combined_result",
              "summary": "{\n  \"name\": \"combined_result\",\n  \"rows\": 8,\n  \"fields\": [\n    {\n      \"column\": \"docid\",\n      \"properties\": {\n        \"dtype\": \"number\",\n        \"std\": 88840,\n        \"min\": 32913,\n        \"max\": 293600,\n        \"num_unique_values\": 8,\n        \"samples\": [\n          164953,\n          124128,\n          160123\n        ],\n        \"semantic_type\": \"\",\n        \"description\": \"\"\n      }\n    },\n    {\n      \"column\": \"qid\",\n      \"properties\": {\n        \"dtype\": \"category\",\n        \"num_unique_values\": 1,\n        \"samples\": [\n          \"1\"\n        ],\n        \"semantic_type\": \"\",\n        \"description\": \"\"\n      }\n    },\n    {\n      \"column\": \"rank\",\n      \"properties\": {\n        \"dtype\": \"number\",\n        \"std\": 2,\n        \"min\": 0,\n        \"max\": 7,\n        \"num_unique_values\": 8,\n        \"samples\": [\n          1\n        ],\n        \"semantic_type\": \"\",\n        \"description\": \"\"\n      }\n    },\n    {\n      \"column\": \"score\",\n      \"properties\": {\n        \"dtype\": \"number\",\n        \"std\": 0.8162117607228537,\n        \"min\": 15.373062941761809,\n        \"max\": 17.588293744336358,\n        \"num_unique_values\": 8,\n        \"samples\": [\n          16.809845527659878\n        ],\n        \"semantic_type\": \"\",\n        \"description\": \"\"\n      }\n    },\n    {\n      \"column\": \"text\",\n      \"properties\": {\n        \"dtype\": \"string\",\n        \"num_unique_values\": 8,\n        \"samples\": [\n          \"Mental health in the Middle East The study of mental health in the Middle East is an area of research that continues to grow in its scope and content. In 1998, the World Mental Health Survey Initiative was conducted by the World Federation for Mental Health. The (WFMH) was originally created in 1948 and works in concert with the World Health Organization (WHO). The 1998 survey sought to help define and clarify mental health Issues across many societies. To accurately evaluate and understand the mental health issues of the Middle East, one must take into account the geographic, historical, cultural,\"\n        ],\n        \"semantic_type\": \"\",\n        \"description\": \"\"\n      }\n    }\n  ]\n}"
            }
          },
          "metadata": {},
          "execution_count": 160
        }
      ]
    },
    {
      "cell_type": "code",
      "source": [
        "plot_search_results(combined_result, query2, 8)"
      ],
      "metadata": {
        "colab": {
          "base_uri": "https://localhost:8080/",
          "height": 1000
        },
        "id": "azr9v9umOz5X",
        "outputId": "b48b88c6-578b-4620-f9bd-6fc8b64a7603"
      },
      "execution_count": 161,
      "outputs": [
        {
          "output_type": "display_data",
          "data": {
            "text/plain": [
              "<Figure size 600x400 with 1 Axes>"
            ],
            "image/png": "[encoded data removed]"
          },
          "metadata": {}
        },
        {
          "output_type": "stream",
          "name": "stdout",
          "text": [
            "\n",
            "Text Snippets (query terms highlighted):\n",
            "\n",
            "Document 160123 (Score: 17.5883):\n"
          ]
        },
        {
          "output_type": "display_data",
          "data": {
            "text/plain": [
              "<IPython.core.display.HTML object>"
            ],
            "text/html": [
              "support efforts in low-income countries to achieve universal coverage and improve population <span style=\"background-color: yellow\">healt</span>h outcomes. The theme of the \"<span style=\"background-color: yellow\">world</span> <span style=\"background-color: yellow\">healt</span>h Report 2008\" was the renewal of primary <span style=\"background-color: yellow\">healt</span>h care, and the need for <span style=\"background-color: yellow\">healt</span>h systems to respond better and faster to the <span style=\"background-color: yellow\">healt</span>h care challenges of a changing w..."
            ]
          },
          "metadata": {}
        },
        {
          "output_type": "stream",
          "name": "stdout",
          "text": [
            "--------------------------------------------------------------------------------\n",
            "\n",
            "Document 164953 (Score: 16.8098):\n"
          ]
        },
        {
          "output_type": "display_data",
          "data": {
            "text/plain": [
              "<IPython.core.display.HTML object>"
            ],
            "text/html": [
              "Mental <span style=\"background-color: yellow\">healt</span>h in the Middle East The study of mental <span style=\"background-color: yellow\">healt</span>h in the Middle East is an area of research that continues to grow in its scope and content. In 1998, the <span style=\"background-color: yellow\">world</span> Mental <span style=\"background-color: yellow\">healt</span>h Survey Initiative was conducted by the <span style=\"background-color: yellow\">world</span> Federation for Mental <span style=\"background-color: yellow\">healt</span>h. The (WFMH) was originally created in 1948..."
            ]
          },
          "metadata": {}
        },
        {
          "output_type": "stream",
          "name": "stdout",
          "text": [
            "--------------------------------------------------------------------------------\n",
            "\n",
            "Document 164956 (Score: 16.4602):\n"
          ]
        },
        {
          "output_type": "display_data",
          "data": {
            "text/plain": [
              "<IPython.core.display.HTML object>"
            ],
            "text/html": [
              "WHO global plan of action for workers' <span style=\"background-color: yellow\">healt</span>h The <span style=\"background-color: yellow\">world</span> <span style=\"background-color: yellow\">healt</span>h Organization's global plan of action for workers' <span style=\"background-color: yellow\">healt</span>h delineates common principles by which workplaces should abide by, including the ability for workers to enjoy the highest attainable standard of physical and mental <span style=\"background-color: yellow\">healt</span>h and favor..."
            ]
          },
          "metadata": {}
        },
        {
          "output_type": "stream",
          "name": "stdout",
          "text": [
            "--------------------------------------------------------------------------------\n",
            "\n",
            "Document 293600 (Score: 16.4554):\n"
          ]
        },
        {
          "output_type": "display_data",
          "data": {
            "text/plain": [
              "<IPython.core.display.HTML object>"
            ],
            "text/html": [
              "the <span style=\"background-color: yellow\">world</span> according to criteria of the overall level and distribution of <span style=\"background-color: yellow\">healt</span>h in the populations, and the responsiveness and fair financing of <span style=\"background-color: yellow\">healt</span>h care services. The goals for <span style=\"background-color: yellow\">healt</span>h systems, according to the WHO's \"<span style=\"background-color: yellow\">world</span> <span style=\"background-color: yellow\">healt</span>h Report 2000 – <span style=\"background-color: yellow\">healt</span>h systems: improving performance\" (WHO, 2000), ..."
            ]
          },
          "metadata": {}
        },
        {
          "output_type": "stream",
          "name": "stdout",
          "text": [
            "--------------------------------------------------------------------------------\n",
            "\n",
            "Document 284994 (Score: 15.6073):\n"
          ]
        },
        {
          "output_type": "display_data",
          "data": {
            "text/plain": [
              "<IPython.core.display.HTML object>"
            ],
            "text/html": [
              "safe when breastfeeding. Suramin was made at least as early as 1916. It is on the <span style=\"background-color: yellow\">world</span> <span style=\"background-color: yellow\">healt</span>h Organization's List of Essential Medicines, the most effective and safe medicines needed in a <span style=\"background-color: yellow\">healt</span>h system. In the United States it can be acquired from the Center for Disease Control (CDC). The cost of t..."
            ]
          },
          "metadata": {}
        },
        {
          "output_type": "stream",
          "name": "stdout",
          "text": [
            "--------------------------------------------------------------------------------\n",
            "\n",
            "Document 124128 (Score: 15.4340):\n"
          ]
        },
        {
          "output_type": "display_data",
          "data": {
            "text/plain": [
              "<IPython.core.display.HTML object>"
            ],
            "text/html": [
              "(maltitol syrup), and the reduced calorie replacement for conventional fats and oils, salatrim. The fifty third report was released as <span style=\"background-color: yellow\">world</span> <span style=\"background-color: yellow\">healt</span>h Organization Technical Report Series No. 896 in 2000. The fifty-seventh report was released as <span style=\"background-color: yellow\">world</span> <span style=\"background-color: yellow\">healt</span>h Organization Technical Report Series No. 909..."
            ]
          },
          "metadata": {}
        },
        {
          "output_type": "stream",
          "name": "stdout",
          "text": [
            "--------------------------------------------------------------------------------\n",
            "\n",
            "Document 32913 (Score: 15.4019):\n"
          ]
        },
        {
          "output_type": "display_data",
          "data": {
            "text/plain": [
              "<IPython.core.display.HTML object>"
            ],
            "text/html": [
              "that the <span style=\"background-color: yellow\">healt</span>h consumer is supported in their decisions and actions’. E-<span style=\"background-color: yellow\">healt</span>h, defined by the <span style=\"background-color: yellow\">world</span> <span style=\"background-color: yellow\">healt</span>h Organization as the combined use of electronic communication and information technology in the <span style=\"background-color: yellow\">healt</span>h sector, is a sub-discipline of <span style=\"background-color: yellow\">healt</span>h informatics. HISA aims to improve <span style=\"background-color: yellow\">healt</span>h through he..."
            ]
          },
          "metadata": {}
        },
        {
          "output_type": "stream",
          "name": "stdout",
          "text": [
            "--------------------------------------------------------------------------------\n",
            "\n",
            "Document 257101 (Score: 15.3731):\n"
          ]
        },
        {
          "output_type": "display_data",
          "data": {
            "text/plain": [
              "<IPython.core.display.HTML object>"
            ],
            "text/html": [
              "might include the capturing of statuses and previously resolved conditions impacting upon the current encounter. For example; a patient with a history of colorectal cancer treated with a colectomy, now presenting with abdominal adhesions. ICD-10 Chapter XXI: Factors influencing <span style=\"background-color: yellow\">healt</span>h status and con..."
            ]
          },
          "metadata": {}
        },
        {
          "output_type": "stream",
          "name": "stdout",
          "text": [
            "--------------------------------------------------------------------------------\n"
          ]
        }
      ]
    },
    {
      "cell_type": "markdown",
      "source": [
        "# Phrase search Example"
      ],
      "metadata": {
        "id": "FOq6M2bPDCTi"
      }
    },
    {
      "cell_type": "code",
      "source": [
        "phrase_query = \"deep learning techniques\"\n",
        "phrase_results = phrase_search(phrase_query, 5)\n",
        "plot_search_results(phrase_results, phrase_query, 5)"
      ],
      "metadata": {
        "colab": {
          "base_uri": "https://localhost:8080/",
          "height": 921,
          "referenced_widgets": [
            "1035ac4f750b479181b785225a38b2a5",
            "1405ca593a9e45bb9719c5e9e36d4d21",
            "a85640c08ba2429f95e434bff8ab9a23",
            "639fe6747b4049569e304eea1a8fed74",
            "4d9c9a819ac340e2a09c423907c7c232",
            "60a9cf2f0551490c9cea0fab2dee93eb",
            "1bf3cbd6acc74beb97b4ff52ff4e6c70",
            "6ba17d0fea134eee9eecd9a0d0c2b393",
            "1ce48b100824426e8c7258019ebbc298",
            "65b5b1f9b68c444a8f7ad65b3b5f52f2",
            "72ff14323a554956a55a625e50ff9b70"
          ]
        },
        "id": "UfkGHKCQDEtL",
        "outputId": "c62a0a2c-3b1c-4d3e-b497-fab7f178308b"
      },
      "execution_count": 163,
      "outputs": [
        {
          "output_type": "display_data",
          "data": {
            "text/plain": [
              "Searching for phrase:   0%|          | 0/405410 [00:00<?, ?it/s]"
            ],
            "application/vnd.jupyter.widget-view+json": {
              "version_major": 2,
              "version_minor": 0,
              "model_id": "1035ac4f750b479181b785225a38b2a5"
            }
          },
          "metadata": {}
        },
        {
          "output_type": "display_data",
          "data": {
            "text/plain": [
              "<Figure size 600x400 with 1 Axes>"
            ],
            "image/png": "[encoded data removed]"
          },
          "metadata": {}
        },
        {
          "output_type": "stream",
          "name": "stdout",
          "text": [
            "\n",
            "Text Snippets (query terms highlighted):\n",
            "\n",
            "Document 6702 (Score: 1.0000):\n"
          ]
        },
        {
          "output_type": "display_data",
          "data": {
            "text/plain": [
              "<IPython.core.display.HTML object>"
            ],
            "text/html": [
              "real-time based on viewers' gender and age group. The company won several awards including The Innovation and technology award presented by the Florida Business Expo. In 2011, the company invested in a small R&D project that aimed at developing emotion recognition from facial microexpressions among ..."
            ]
          },
          "metadata": {}
        },
        {
          "output_type": "stream",
          "name": "stdout",
          "text": [
            "--------------------------------------------------------------------------------\n",
            "\n",
            "Document 192535 (Score: 1.0000):\n"
          ]
        },
        {
          "output_type": "display_data",
          "data": {
            "text/plain": [
              "<IPython.core.display.HTML object>"
            ],
            "text/html": [
              "Neuroevolution can be contrasted with conventional <span style=\"background-color: yellow\">deep</span> <span style=\"background-color: yellow\">learning</span> <span style=\"background-color: yellow\">techniques</span> that use gradient descent on a neural network with a fixed topology. Many neuroevolution algorithms have been defined. One common distinction is between algorithms that evolve only the strength of the connection weights for ..."
            ]
          },
          "metadata": {}
        },
        {
          "output_type": "stream",
          "name": "stdout",
          "text": [
            "--------------------------------------------------------------------------------\n",
            "\n",
            "Document 258955 (Score: 1.0000):\n"
          ]
        },
        {
          "output_type": "display_data",
          "data": {
            "text/plain": [
              "<IPython.core.display.HTML object>"
            ],
            "text/html": [
              "scenarios, the detection system needs to identify a variety of traffic signs and not just speed limits. This is where the Vienna Convention on Road Signs and Signals comes to help. A convolutional neural network can be trained to take in these predefined traffic signs and 'learn' using <span style=\"background-color: yellow\">deep</span> <span style=\"background-color: yellow\">learning</span>..."
            ]
          },
          "metadata": {}
        },
        {
          "output_type": "stream",
          "name": "stdout",
          "text": [
            "--------------------------------------------------------------------------------\n",
            "\n",
            "Document 301393 (Score: 1.0000):\n"
          ]
        },
        {
          "output_type": "display_data",
          "data": {
            "text/plain": [
              "<IPython.core.display.HTML object>"
            ],
            "text/html": [
              "(hence \"The shared views of four research groups\" subtitle in their 2012 review paper). A Microsoft research executive called this innovation \"the most dramatic change in accuracy since 1979\". In contrast to the steady incremental improvements of the past few decades, the application of <span style=\"background-color: yellow\">deep</span> learnin..."
            ]
          },
          "metadata": {}
        },
        {
          "output_type": "stream",
          "name": "stdout",
          "text": [
            "--------------------------------------------------------------------------------\n",
            "\n",
            "Document 321071 (Score: 1.0000):\n"
          ]
        },
        {
          "output_type": "display_data",
          "data": {
            "text/plain": [
              "<IPython.core.display.HTML object>"
            ],
            "text/html": [
              "real-time based on viewers' gender and age group. The company won several awards including The Innovation and technology award presented by the Florida Business Expo. In 2011, the company invested in a small R&D project that aimed at developing emotion recognition from facial microexpressions among ..."
            ]
          },
          "metadata": {}
        },
        {
          "output_type": "stream",
          "name": "stdout",
          "text": [
            "--------------------------------------------------------------------------------\n"
          ]
        }
      ]
    }
  ]
}